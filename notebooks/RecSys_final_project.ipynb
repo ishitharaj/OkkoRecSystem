{
  "cells": [
    {
      "cell_type": "markdown",
      "metadata": {
        "id": "WPEPJkx0iB4J"
      },
      "source": [
        "# Utils"
      ]
    },
    {
      "cell_type": "code",
      "execution_count": 533,
      "metadata": {
        "colab": {
          "base_uri": "https://localhost:8080/"
        },
        "id": "jeqkNjckeF21",
        "outputId": "e3556dee-53ce-4452-92a0-29ea1b8caa53"
      },
      "outputs": [
        {
          "output_type": "stream",
          "name": "stdout",
          "text": [
            "Looking in indexes: https://pypi.org/simple, https://us-python.pkg.dev/colab-wheels/public/simple/\n",
            "Requirement already satisfied: shap in /usr/local/lib/python3.10/dist-packages (0.41.0)\n",
            "Requirement already satisfied: numpy in /usr/local/lib/python3.10/dist-packages (from shap) (1.22.4)\n",
            "Requirement already satisfied: scipy in /usr/local/lib/python3.10/dist-packages (from shap) (1.10.1)\n",
            "Requirement already satisfied: scikit-learn in /usr/local/lib/python3.10/dist-packages (from shap) (1.2.2)\n",
            "Requirement already satisfied: pandas in /usr/local/lib/python3.10/dist-packages (from shap) (1.5.3)\n",
            "Requirement already satisfied: tqdm>4.25.0 in /usr/local/lib/python3.10/dist-packages (from shap) (4.65.0)\n",
            "Requirement already satisfied: packaging>20.9 in /usr/local/lib/python3.10/dist-packages (from shap) (23.1)\n",
            "Requirement already satisfied: slicer==0.0.7 in /usr/local/lib/python3.10/dist-packages (from shap) (0.0.7)\n",
            "Requirement already satisfied: numba in /usr/local/lib/python3.10/dist-packages (from shap) (0.56.4)\n",
            "Requirement already satisfied: cloudpickle in /usr/local/lib/python3.10/dist-packages (from shap) (2.2.1)\n",
            "Requirement already satisfied: llvmlite<0.40,>=0.39.0dev0 in /usr/local/lib/python3.10/dist-packages (from numba->shap) (0.39.1)\n",
            "Requirement already satisfied: setuptools in /usr/local/lib/python3.10/dist-packages (from numba->shap) (67.7.2)\n",
            "Requirement already satisfied: python-dateutil>=2.8.1 in /usr/local/lib/python3.10/dist-packages (from pandas->shap) (2.8.2)\n",
            "Requirement already satisfied: pytz>=2020.1 in /usr/local/lib/python3.10/dist-packages (from pandas->shap) (2022.7.1)\n",
            "Requirement already satisfied: joblib>=1.1.1 in /usr/local/lib/python3.10/dist-packages (from scikit-learn->shap) (1.2.0)\n",
            "Requirement already satisfied: threadpoolctl>=2.0.0 in /usr/local/lib/python3.10/dist-packages (from scikit-learn->shap) (3.1.0)\n",
            "Requirement already satisfied: six>=1.5 in /usr/local/lib/python3.10/dist-packages (from python-dateutil>=2.8.1->pandas->shap) (1.16.0)\n",
            "Looking in indexes: https://pypi.org/simple, https://us-python.pkg.dev/colab-wheels/public/simple/\n",
            "Requirement already satisfied: lightfm in /usr/local/lib/python3.10/dist-packages (1.17)\n",
            "Requirement already satisfied: numpy in /usr/local/lib/python3.10/dist-packages (from lightfm) (1.22.4)\n",
            "Requirement already satisfied: scipy>=0.17.0 in /usr/local/lib/python3.10/dist-packages (from lightfm) (1.10.1)\n",
            "Requirement already satisfied: requests in /usr/local/lib/python3.10/dist-packages (from lightfm) (2.27.1)\n",
            "Requirement already satisfied: scikit-learn in /usr/local/lib/python3.10/dist-packages (from lightfm) (1.2.2)\n",
            "Requirement already satisfied: urllib3<1.27,>=1.21.1 in /usr/local/lib/python3.10/dist-packages (from requests->lightfm) (1.26.15)\n",
            "Requirement already satisfied: certifi>=2017.4.17 in /usr/local/lib/python3.10/dist-packages (from requests->lightfm) (2022.12.7)\n",
            "Requirement already satisfied: charset-normalizer~=2.0.0 in /usr/local/lib/python3.10/dist-packages (from requests->lightfm) (2.0.12)\n",
            "Requirement already satisfied: idna<4,>=2.5 in /usr/local/lib/python3.10/dist-packages (from requests->lightfm) (3.4)\n",
            "Requirement already satisfied: joblib>=1.1.1 in /usr/local/lib/python3.10/dist-packages (from scikit-learn->lightfm) (1.2.0)\n",
            "Requirement already satisfied: threadpoolctl>=2.0.0 in /usr/local/lib/python3.10/dist-packages (from scikit-learn->lightfm) (3.1.0)\n",
            "Looking in indexes: https://pypi.org/simple, https://us-python.pkg.dev/colab-wheels/public/simple/\n",
            "Requirement already satisfied: catboost in /usr/local/lib/python3.10/dist-packages (1.2)\n",
            "Requirement already satisfied: graphviz in /usr/local/lib/python3.10/dist-packages (from catboost) (0.20.1)\n",
            "Requirement already satisfied: matplotlib in /usr/local/lib/python3.10/dist-packages (from catboost) (3.7.1)\n",
            "Requirement already satisfied: numpy>=1.16.0 in /usr/local/lib/python3.10/dist-packages (from catboost) (1.22.4)\n",
            "Requirement already satisfied: pandas>=0.24 in /usr/local/lib/python3.10/dist-packages (from catboost) (1.5.3)\n",
            "Requirement already satisfied: scipy in /usr/local/lib/python3.10/dist-packages (from catboost) (1.10.1)\n",
            "Requirement already satisfied: plotly in /usr/local/lib/python3.10/dist-packages (from catboost) (5.13.1)\n",
            "Requirement already satisfied: six in /usr/local/lib/python3.10/dist-packages (from catboost) (1.16.0)\n",
            "Requirement already satisfied: python-dateutil>=2.8.1 in /usr/local/lib/python3.10/dist-packages (from pandas>=0.24->catboost) (2.8.2)\n",
            "Requirement already satisfied: pytz>=2020.1 in /usr/local/lib/python3.10/dist-packages (from pandas>=0.24->catboost) (2022.7.1)\n",
            "Requirement already satisfied: contourpy>=1.0.1 in /usr/local/lib/python3.10/dist-packages (from matplotlib->catboost) (1.0.7)\n",
            "Requirement already satisfied: cycler>=0.10 in /usr/local/lib/python3.10/dist-packages (from matplotlib->catboost) (0.11.0)\n",
            "Requirement already satisfied: fonttools>=4.22.0 in /usr/local/lib/python3.10/dist-packages (from matplotlib->catboost) (4.39.3)\n",
            "Requirement already satisfied: kiwisolver>=1.0.1 in /usr/local/lib/python3.10/dist-packages (from matplotlib->catboost) (1.4.4)\n",
            "Requirement already satisfied: packaging>=20.0 in /usr/local/lib/python3.10/dist-packages (from matplotlib->catboost) (23.1)\n",
            "Requirement already satisfied: pillow>=6.2.0 in /usr/local/lib/python3.10/dist-packages (from matplotlib->catboost) (8.4.0)\n",
            "Requirement already satisfied: pyparsing>=2.3.1 in /usr/local/lib/python3.10/dist-packages (from matplotlib->catboost) (3.0.9)\n",
            "Requirement already satisfied: tenacity>=6.2.0 in /usr/local/lib/python3.10/dist-packages (from plotly->catboost) (8.2.2)\n"
          ]
        }
      ],
      "source": [
        "!pip install shap\n",
        "!pip install lightfm\n",
        "!pip install catboost"
      ]
    },
    {
      "cell_type": "code",
      "execution_count": 534,
      "metadata": {
        "colab": {
          "base_uri": "https://localhost:8080/"
        },
        "id": "AlmntWNEoHJN",
        "outputId": "8841ebed-b4e2-4980-e660-e04a081a421a"
      },
      "outputs": [
        {
          "output_type": "stream",
          "name": "stdout",
          "text": [
            "Drive already mounted at /content/drive; to attempt to forcibly remount, call drive.mount(\"/content/drive\", force_remount=True).\n"
          ]
        }
      ],
      "source": [
        "from google.colab import drive\n",
        "drive.mount('/content/drive')"
      ]
    },
    {
      "cell_type": "code",
      "execution_count": 535,
      "metadata": {
        "id": "MmcAsjblor15"
      },
      "outputs": [],
      "source": [
        "import shap\n",
        "import numpy as np\n",
        "import pandas as pd\n",
        "import datetime as dt\n",
        "import matplotlib.pyplot as plt\n",
        "\n",
        "from sklearn.metrics import ndcg_score, roc_auc_score, roc_curve\n",
        "from sklearn.utils import shuffle\n",
        "from sklearn.model_selection import train_test_split\n",
        "\n",
        "from lightfm.data import Dataset\n",
        "from lightfm import LightFM\n",
        "\n",
        "from catboost import CatBoostClassifier\n",
        "\n",
        "from tqdm import tqdm_notebook\n",
        "import warnings\n",
        "warnings.filterwarnings('ignore')\n",
        "\n",
        "pd.set_option('display.float_format', lambda x: '%.3f' % x)\n",
        "\n",
        "\n",
        "# metrics NDCG@k, MAP@K"
      ]
    },
    {
      "cell_type": "code",
      "execution_count": 536,
      "metadata": {
        "id": "FVS2WMN91CHI"
      },
      "outputs": [],
      "source": [
        "def average_prec_k(y_true, y_pred, k=0):\n",
        "\n",
        "    if k != 0:\n",
        "        y_pred = y_pred[:k]\n",
        "    else:\n",
        "        k=1\n",
        "\n",
        "    correct_predictions = 0\n",
        "    running_sum = 0\n",
        "\n",
        "    for i, yp_item in enumerate(y_pred, 1):\n",
        "        if yp_item in y_true:\n",
        "            correct_predictions += 1\n",
        "        running_sum += correct_predictions/i\n",
        "\n",
        "    return running_sum/min(len(y_true), k)"
      ]
    },
    {
      "cell_type": "markdown",
      "metadata": {
        "id": "fNREtdE41Ksd"
      },
      "source": [
        "#1. Data Preparation"
      ]
    },
    {
      "cell_type": "code",
      "execution_count": 537,
      "metadata": {
        "id": "ALcBsrU5owbR"
      },
      "outputs": [],
      "source": [
        "inter = pd.read_parquet('/content/drive/MyDrive/RecSys/interactions.parquet')\n",
        "movies = pd.read_parquet('/content/drive/MyDrive/RecSys/movies_metdata.parquet')"
      ]
    },
    {
      "cell_type": "code",
      "execution_count": 538,
      "metadata": {
        "colab": {
          "base_uri": "https://localhost:8080/",
          "height": 206
        },
        "id": "ZQKC2Tzgowha",
        "outputId": "dbf3af4a-6321-4682-f2a0-465db9e4d2dd"
      },
      "outputs": [
        {
          "output_type": "execute_result",
          "data": {
            "text/plain": [
              "   year  month  day  user_id                              movie_id  \\\n",
              "0  2022     10    1    58073  a6889772-f1f4-45bc-9663-85b46fc8499d   \n",
              "1  2022     10    1    63698  c829f262-ddf1-46b7-a896-a7efc205028c   \n",
              "2  2022     10    1    66655  91f9d892-a508-4962-91e9-abacd93e0830   \n",
              "3  2022     10    1    66655  58b805e1-a65c-49f4-b302-865cacaaed8a   \n",
              "4  2022     10    1    67981  dbc44c07-46e2-4fb0-b57c-8b5172421683   \n",
              "\n",
              "   watch_duration_minutes  \n",
              "0                   4.800  \n",
              "1                  15.000  \n",
              "2                  51.917  \n",
              "3                  22.317  \n",
              "4                 117.000  "
            ],
            "text/html": [
              "\n",
              "  <div id=\"df-88c9d188-beee-4351-8ccb-50b80143f260\">\n",
              "    <div class=\"colab-df-container\">\n",
              "      <div>\n",
              "<style scoped>\n",
              "    .dataframe tbody tr th:only-of-type {\n",
              "        vertical-align: middle;\n",
              "    }\n",
              "\n",
              "    .dataframe tbody tr th {\n",
              "        vertical-align: top;\n",
              "    }\n",
              "\n",
              "    .dataframe thead th {\n",
              "        text-align: right;\n",
              "    }\n",
              "</style>\n",
              "<table border=\"1\" class=\"dataframe\">\n",
              "  <thead>\n",
              "    <tr style=\"text-align: right;\">\n",
              "      <th></th>\n",
              "      <th>year</th>\n",
              "      <th>month</th>\n",
              "      <th>day</th>\n",
              "      <th>user_id</th>\n",
              "      <th>movie_id</th>\n",
              "      <th>watch_duration_minutes</th>\n",
              "    </tr>\n",
              "  </thead>\n",
              "  <tbody>\n",
              "    <tr>\n",
              "      <th>0</th>\n",
              "      <td>2022</td>\n",
              "      <td>10</td>\n",
              "      <td>1</td>\n",
              "      <td>58073</td>\n",
              "      <td>a6889772-f1f4-45bc-9663-85b46fc8499d</td>\n",
              "      <td>4.800</td>\n",
              "    </tr>\n",
              "    <tr>\n",
              "      <th>1</th>\n",
              "      <td>2022</td>\n",
              "      <td>10</td>\n",
              "      <td>1</td>\n",
              "      <td>63698</td>\n",
              "      <td>c829f262-ddf1-46b7-a896-a7efc205028c</td>\n",
              "      <td>15.000</td>\n",
              "    </tr>\n",
              "    <tr>\n",
              "      <th>2</th>\n",
              "      <td>2022</td>\n",
              "      <td>10</td>\n",
              "      <td>1</td>\n",
              "      <td>66655</td>\n",
              "      <td>91f9d892-a508-4962-91e9-abacd93e0830</td>\n",
              "      <td>51.917</td>\n",
              "    </tr>\n",
              "    <tr>\n",
              "      <th>3</th>\n",
              "      <td>2022</td>\n",
              "      <td>10</td>\n",
              "      <td>1</td>\n",
              "      <td>66655</td>\n",
              "      <td>58b805e1-a65c-49f4-b302-865cacaaed8a</td>\n",
              "      <td>22.317</td>\n",
              "    </tr>\n",
              "    <tr>\n",
              "      <th>4</th>\n",
              "      <td>2022</td>\n",
              "      <td>10</td>\n",
              "      <td>1</td>\n",
              "      <td>67981</td>\n",
              "      <td>dbc44c07-46e2-4fb0-b57c-8b5172421683</td>\n",
              "      <td>117.000</td>\n",
              "    </tr>\n",
              "  </tbody>\n",
              "</table>\n",
              "</div>\n",
              "      <button class=\"colab-df-convert\" onclick=\"convertToInteractive('df-88c9d188-beee-4351-8ccb-50b80143f260')\"\n",
              "              title=\"Convert this dataframe to an interactive table.\"\n",
              "              style=\"display:none;\">\n",
              "        \n",
              "  <svg xmlns=\"http://www.w3.org/2000/svg\" height=\"24px\"viewBox=\"0 0 24 24\"\n",
              "       width=\"24px\">\n",
              "    <path d=\"M0 0h24v24H0V0z\" fill=\"none\"/>\n",
              "    <path d=\"M18.56 5.44l.94 2.06.94-2.06 2.06-.94-2.06-.94-.94-2.06-.94 2.06-2.06.94zm-11 1L8.5 8.5l.94-2.06 2.06-.94-2.06-.94L8.5 2.5l-.94 2.06-2.06.94zm10 10l.94 2.06.94-2.06 2.06-.94-2.06-.94-.94-2.06-.94 2.06-2.06.94z\"/><path d=\"M17.41 7.96l-1.37-1.37c-.4-.4-.92-.59-1.43-.59-.52 0-1.04.2-1.43.59L10.3 9.45l-7.72 7.72c-.78.78-.78 2.05 0 2.83L4 21.41c.39.39.9.59 1.41.59.51 0 1.02-.2 1.41-.59l7.78-7.78 2.81-2.81c.8-.78.8-2.07 0-2.86zM5.41 20L4 18.59l7.72-7.72 1.47 1.35L5.41 20z\"/>\n",
              "  </svg>\n",
              "      </button>\n",
              "      \n",
              "  <style>\n",
              "    .colab-df-container {\n",
              "      display:flex;\n",
              "      flex-wrap:wrap;\n",
              "      gap: 12px;\n",
              "    }\n",
              "\n",
              "    .colab-df-convert {\n",
              "      background-color: #E8F0FE;\n",
              "      border: none;\n",
              "      border-radius: 50%;\n",
              "      cursor: pointer;\n",
              "      display: none;\n",
              "      fill: #1967D2;\n",
              "      height: 32px;\n",
              "      padding: 0 0 0 0;\n",
              "      width: 32px;\n",
              "    }\n",
              "\n",
              "    .colab-df-convert:hover {\n",
              "      background-color: #E2EBFA;\n",
              "      box-shadow: 0px 1px 2px rgba(60, 64, 67, 0.3), 0px 1px 3px 1px rgba(60, 64, 67, 0.15);\n",
              "      fill: #174EA6;\n",
              "    }\n",
              "\n",
              "    [theme=dark] .colab-df-convert {\n",
              "      background-color: #3B4455;\n",
              "      fill: #D2E3FC;\n",
              "    }\n",
              "\n",
              "    [theme=dark] .colab-df-convert:hover {\n",
              "      background-color: #434B5C;\n",
              "      box-shadow: 0px 1px 3px 1px rgba(0, 0, 0, 0.15);\n",
              "      filter: drop-shadow(0px 1px 2px rgba(0, 0, 0, 0.3));\n",
              "      fill: #FFFFFF;\n",
              "    }\n",
              "  </style>\n",
              "\n",
              "      <script>\n",
              "        const buttonEl =\n",
              "          document.querySelector('#df-88c9d188-beee-4351-8ccb-50b80143f260 button.colab-df-convert');\n",
              "        buttonEl.style.display =\n",
              "          google.colab.kernel.accessAllowed ? 'block' : 'none';\n",
              "\n",
              "        async function convertToInteractive(key) {\n",
              "          const element = document.querySelector('#df-88c9d188-beee-4351-8ccb-50b80143f260');\n",
              "          const dataTable =\n",
              "            await google.colab.kernel.invokeFunction('convertToInteractive',\n",
              "                                                     [key], {});\n",
              "          if (!dataTable) return;\n",
              "\n",
              "          const docLinkHtml = 'Like what you see? Visit the ' +\n",
              "            '<a target=\"_blank\" href=https://colab.research.google.com/notebooks/data_table.ipynb>data table notebook</a>'\n",
              "            + ' to learn more about interactive tables.';\n",
              "          element.innerHTML = '';\n",
              "          dataTable['output_type'] = 'display_data';\n",
              "          await google.colab.output.renderOutput(dataTable, element);\n",
              "          const docLink = document.createElement('div');\n",
              "          docLink.innerHTML = docLinkHtml;\n",
              "          element.appendChild(docLink);\n",
              "        }\n",
              "      </script>\n",
              "    </div>\n",
              "  </div>\n",
              "  "
            ]
          },
          "metadata": {},
          "execution_count": 538
        }
      ],
      "source": [
        "inter.head()"
      ]
    },
    {
      "cell_type": "code",
      "execution_count": 539,
      "metadata": {
        "colab": {
          "base_uri": "https://localhost:8080/"
        },
        "id": "6Ps__O-Q6NYU",
        "outputId": "7938828f-41d5-44cb-b868-242df7c267ae"
      },
      "outputs": [
        {
          "output_type": "execute_result",
          "data": {
            "text/plain": [
              "1800000"
            ]
          },
          "metadata": {},
          "execution_count": 539
        }
      ],
      "source": [
        "len(inter)"
      ]
    },
    {
      "cell_type": "code",
      "execution_count": 540,
      "metadata": {
        "colab": {
          "base_uri": "https://localhost:8080/"
        },
        "id": "-1A4ZDmhYI28",
        "outputId": "9c652b26-7c71-4f33-d0bd-cb3816ad70dd"
      },
      "outputs": [
        {
          "output_type": "execute_result",
          "data": {
            "text/plain": [
              "count   127060.000\n",
              "mean        14.167\n",
              "std         27.019\n",
              "min          1.000\n",
              "25%          2.000\n",
              "50%          5.000\n",
              "75%         15.000\n",
              "max       1194.000\n",
              "Name: movie_id, dtype: float64"
            ]
          },
          "metadata": {},
          "execution_count": 540
        }
      ],
      "source": [
        "count_inter = inter.groupby('user_id').count()['movie_id']\n",
        "count_inter.describe()"
      ]
    },
    {
      "cell_type": "code",
      "execution_count": 541,
      "metadata": {
        "colab": {
          "base_uri": "https://localhost:8080/"
        },
        "id": "izy-Ns1qYi7E",
        "outputId": "56bdbe66-409f-4746-e698-389d0fbfffd4"
      },
      "outputs": [
        {
          "output_type": "execute_result",
          "data": {
            "text/plain": [
              "61275"
            ]
          },
          "metadata": {},
          "execution_count": 541
        }
      ],
      "source": [
        "# almost half the users have very few interactions, very 'cold-start' like problem\n",
        "len(count_inter[count_inter < 5])"
      ]
    },
    {
      "cell_type": "code",
      "execution_count": 542,
      "metadata": {
        "colab": {
          "base_uri": "https://localhost:8080/",
          "height": 530
        },
        "id": "EdGI9H7gpq-Z",
        "outputId": "2aaec91f-6918-427d-c264-f9ea1ea0c4c0"
      },
      "outputs": [
        {
          "output_type": "execute_result",
          "data": {
            "text/plain": [
              "                               movie_id                 title entity_type  \\\n",
              "0  395a85a9-2200-4a29-a878-97753c471f79             Свиридовы       Серия   \n",
              "1  6fd5f7b5-8278-4d9a-b03a-54a8bf0bc7c8  Охотники за головами       Серия   \n",
              "2  b239c99e-d1ea-4c01-b83f-6b5469a6b70a     Молодое поколение       Серия   \n",
              "3  9dc02ab1-7bd2-45c2-9b8c-ae29e9813ccf             Художницы       Серия   \n",
              "4  54b3b5fe-7d2a-47ba-9a1d-4dc3a3a8ff96    Веселая Астрология       Серия   \n",
              "\n",
              "                    genres                                             actors  \\\n",
              "0            [\"Мелодрамы\"]  [\"Андрей Мерзликин\",\"Алексей Горбунов\",\"Елена ...   \n",
              "1    [\"Детективы\",\"Драмы\"]  [\"Филипп Янковский\",\"Елизавета Боярская\",\"Конс...   \n",
              "2  [\"Комедии\",\"Мелодрамы\"]  [\"Юн Пак\",\"Пак Ын-бин\",\"Хан Е-ри\",\"Ким Мин-сок...   \n",
              "3       [\"Документальное\"]                             [\"Катарина Лопаткина\"]   \n",
              "4          [\"Мультфильмы\"]  [\"Стивен Боунс\",\"Хашир Хайзал Хаилми\",\"Логандр...   \n",
              "\n",
              "                      director          country release_world  age_rating  \\\n",
              "0         [\"Эльдар Салаватов\"]       [\"Россия\"]    2013-12-15      16.000   \n",
              "1         [\"Иван Шурховецкий\"]       [\"Россия\"]    2014-03-03      16.000   \n",
              "2  [\"Ким Сан-хо\",\"Ли Тхэ-гон\"]  [\"Корея Южная\"]    2016-07-22      16.000   \n",
              "3            [\"Школа Masters\"]       [\"Россия\"]    2019-02-01      18.000   \n",
              "4                 [\"Кен Фунг\"]     [\"Малайзия\"]    2017-10-01       6.000   \n",
              "\n",
              "   duration  \n",
              "0    49.000  \n",
              "1    48.000  \n",
              "2    65.000  \n",
              "3    27.000  \n",
              "4     3.000  "
            ],
            "text/html": [
              "\n",
              "  <div id=\"df-f4970f62-75fa-440a-97b2-23be3c27372f\">\n",
              "    <div class=\"colab-df-container\">\n",
              "      <div>\n",
              "<style scoped>\n",
              "    .dataframe tbody tr th:only-of-type {\n",
              "        vertical-align: middle;\n",
              "    }\n",
              "\n",
              "    .dataframe tbody tr th {\n",
              "        vertical-align: top;\n",
              "    }\n",
              "\n",
              "    .dataframe thead th {\n",
              "        text-align: right;\n",
              "    }\n",
              "</style>\n",
              "<table border=\"1\" class=\"dataframe\">\n",
              "  <thead>\n",
              "    <tr style=\"text-align: right;\">\n",
              "      <th></th>\n",
              "      <th>movie_id</th>\n",
              "      <th>title</th>\n",
              "      <th>entity_type</th>\n",
              "      <th>genres</th>\n",
              "      <th>actors</th>\n",
              "      <th>director</th>\n",
              "      <th>country</th>\n",
              "      <th>release_world</th>\n",
              "      <th>age_rating</th>\n",
              "      <th>duration</th>\n",
              "    </tr>\n",
              "  </thead>\n",
              "  <tbody>\n",
              "    <tr>\n",
              "      <th>0</th>\n",
              "      <td>395a85a9-2200-4a29-a878-97753c471f79</td>\n",
              "      <td>Свиридовы</td>\n",
              "      <td>Серия</td>\n",
              "      <td>[\"Мелодрамы\"]</td>\n",
              "      <td>[\"Андрей Мерзликин\",\"Алексей Горбунов\",\"Елена ...</td>\n",
              "      <td>[\"Эльдар Салаватов\"]</td>\n",
              "      <td>[\"Россия\"]</td>\n",
              "      <td>2013-12-15</td>\n",
              "      <td>16.000</td>\n",
              "      <td>49.000</td>\n",
              "    </tr>\n",
              "    <tr>\n",
              "      <th>1</th>\n",
              "      <td>6fd5f7b5-8278-4d9a-b03a-54a8bf0bc7c8</td>\n",
              "      <td>Охотники за головами</td>\n",
              "      <td>Серия</td>\n",
              "      <td>[\"Детективы\",\"Драмы\"]</td>\n",
              "      <td>[\"Филипп Янковский\",\"Елизавета Боярская\",\"Конс...</td>\n",
              "      <td>[\"Иван Шурховецкий\"]</td>\n",
              "      <td>[\"Россия\"]</td>\n",
              "      <td>2014-03-03</td>\n",
              "      <td>16.000</td>\n",
              "      <td>48.000</td>\n",
              "    </tr>\n",
              "    <tr>\n",
              "      <th>2</th>\n",
              "      <td>b239c99e-d1ea-4c01-b83f-6b5469a6b70a</td>\n",
              "      <td>Молодое поколение</td>\n",
              "      <td>Серия</td>\n",
              "      <td>[\"Комедии\",\"Мелодрамы\"]</td>\n",
              "      <td>[\"Юн Пак\",\"Пак Ын-бин\",\"Хан Е-ри\",\"Ким Мин-сок...</td>\n",
              "      <td>[\"Ким Сан-хо\",\"Ли Тхэ-гон\"]</td>\n",
              "      <td>[\"Корея Южная\"]</td>\n",
              "      <td>2016-07-22</td>\n",
              "      <td>16.000</td>\n",
              "      <td>65.000</td>\n",
              "    </tr>\n",
              "    <tr>\n",
              "      <th>3</th>\n",
              "      <td>9dc02ab1-7bd2-45c2-9b8c-ae29e9813ccf</td>\n",
              "      <td>Художницы</td>\n",
              "      <td>Серия</td>\n",
              "      <td>[\"Документальное\"]</td>\n",
              "      <td>[\"Катарина Лопаткина\"]</td>\n",
              "      <td>[\"Школа Masters\"]</td>\n",
              "      <td>[\"Россия\"]</td>\n",
              "      <td>2019-02-01</td>\n",
              "      <td>18.000</td>\n",
              "      <td>27.000</td>\n",
              "    </tr>\n",
              "    <tr>\n",
              "      <th>4</th>\n",
              "      <td>54b3b5fe-7d2a-47ba-9a1d-4dc3a3a8ff96</td>\n",
              "      <td>Веселая Астрология</td>\n",
              "      <td>Серия</td>\n",
              "      <td>[\"Мультфильмы\"]</td>\n",
              "      <td>[\"Стивен Боунс\",\"Хашир Хайзал Хаилми\",\"Логандр...</td>\n",
              "      <td>[\"Кен Фунг\"]</td>\n",
              "      <td>[\"Малайзия\"]</td>\n",
              "      <td>2017-10-01</td>\n",
              "      <td>6.000</td>\n",
              "      <td>3.000</td>\n",
              "    </tr>\n",
              "  </tbody>\n",
              "</table>\n",
              "</div>\n",
              "      <button class=\"colab-df-convert\" onclick=\"convertToInteractive('df-f4970f62-75fa-440a-97b2-23be3c27372f')\"\n",
              "              title=\"Convert this dataframe to an interactive table.\"\n",
              "              style=\"display:none;\">\n",
              "        \n",
              "  <svg xmlns=\"http://www.w3.org/2000/svg\" height=\"24px\"viewBox=\"0 0 24 24\"\n",
              "       width=\"24px\">\n",
              "    <path d=\"M0 0h24v24H0V0z\" fill=\"none\"/>\n",
              "    <path d=\"M18.56 5.44l.94 2.06.94-2.06 2.06-.94-2.06-.94-.94-2.06-.94 2.06-2.06.94zm-11 1L8.5 8.5l.94-2.06 2.06-.94-2.06-.94L8.5 2.5l-.94 2.06-2.06.94zm10 10l.94 2.06.94-2.06 2.06-.94-2.06-.94-.94-2.06-.94 2.06-2.06.94z\"/><path d=\"M17.41 7.96l-1.37-1.37c-.4-.4-.92-.59-1.43-.59-.52 0-1.04.2-1.43.59L10.3 9.45l-7.72 7.72c-.78.78-.78 2.05 0 2.83L4 21.41c.39.39.9.59 1.41.59.51 0 1.02-.2 1.41-.59l7.78-7.78 2.81-2.81c.8-.78.8-2.07 0-2.86zM5.41 20L4 18.59l7.72-7.72 1.47 1.35L5.41 20z\"/>\n",
              "  </svg>\n",
              "      </button>\n",
              "      \n",
              "  <style>\n",
              "    .colab-df-container {\n",
              "      display:flex;\n",
              "      flex-wrap:wrap;\n",
              "      gap: 12px;\n",
              "    }\n",
              "\n",
              "    .colab-df-convert {\n",
              "      background-color: #E8F0FE;\n",
              "      border: none;\n",
              "      border-radius: 50%;\n",
              "      cursor: pointer;\n",
              "      display: none;\n",
              "      fill: #1967D2;\n",
              "      height: 32px;\n",
              "      padding: 0 0 0 0;\n",
              "      width: 32px;\n",
              "    }\n",
              "\n",
              "    .colab-df-convert:hover {\n",
              "      background-color: #E2EBFA;\n",
              "      box-shadow: 0px 1px 2px rgba(60, 64, 67, 0.3), 0px 1px 3px 1px rgba(60, 64, 67, 0.15);\n",
              "      fill: #174EA6;\n",
              "    }\n",
              "\n",
              "    [theme=dark] .colab-df-convert {\n",
              "      background-color: #3B4455;\n",
              "      fill: #D2E3FC;\n",
              "    }\n",
              "\n",
              "    [theme=dark] .colab-df-convert:hover {\n",
              "      background-color: #434B5C;\n",
              "      box-shadow: 0px 1px 3px 1px rgba(0, 0, 0, 0.15);\n",
              "      filter: drop-shadow(0px 1px 2px rgba(0, 0, 0, 0.3));\n",
              "      fill: #FFFFFF;\n",
              "    }\n",
              "  </style>\n",
              "\n",
              "      <script>\n",
              "        const buttonEl =\n",
              "          document.querySelector('#df-f4970f62-75fa-440a-97b2-23be3c27372f button.colab-df-convert');\n",
              "        buttonEl.style.display =\n",
              "          google.colab.kernel.accessAllowed ? 'block' : 'none';\n",
              "\n",
              "        async function convertToInteractive(key) {\n",
              "          const element = document.querySelector('#df-f4970f62-75fa-440a-97b2-23be3c27372f');\n",
              "          const dataTable =\n",
              "            await google.colab.kernel.invokeFunction('convertToInteractive',\n",
              "                                                     [key], {});\n",
              "          if (!dataTable) return;\n",
              "\n",
              "          const docLinkHtml = 'Like what you see? Visit the ' +\n",
              "            '<a target=\"_blank\" href=https://colab.research.google.com/notebooks/data_table.ipynb>data table notebook</a>'\n",
              "            + ' to learn more about interactive tables.';\n",
              "          element.innerHTML = '';\n",
              "          dataTable['output_type'] = 'display_data';\n",
              "          await google.colab.output.renderOutput(dataTable, element);\n",
              "          const docLink = document.createElement('div');\n",
              "          docLink.innerHTML = docLinkHtml;\n",
              "          element.appendChild(docLink);\n",
              "        }\n",
              "      </script>\n",
              "    </div>\n",
              "  </div>\n",
              "  "
            ]
          },
          "metadata": {},
          "execution_count": 542
        }
      ],
      "source": [
        "movies.head()"
      ]
    },
    {
      "cell_type": "code",
      "execution_count": 543,
      "metadata": {
        "colab": {
          "base_uri": "https://localhost:8080/"
        },
        "id": "WE4KzkCu4yxo",
        "outputId": "d777cad4-6008-4a69-b2f6-189d5f610281"
      },
      "outputs": [
        {
          "output_type": "stream",
          "name": "stdout",
          "text": [
            "<class 'pandas.core.frame.DataFrame'>\n",
            "Int64Index: 226260 entries, 0 to 252238\n",
            "Data columns (total 10 columns):\n",
            " #   Column         Non-Null Count   Dtype  \n",
            "---  ------         --------------   -----  \n",
            " 0   movie_id       226260 non-null  object \n",
            " 1   title          226259 non-null  object \n",
            " 2   entity_type    226260 non-null  object \n",
            " 3   genres         206571 non-null  object \n",
            " 4   actors         206575 non-null  object \n",
            " 5   director       206766 non-null  object \n",
            " 6   country        206273 non-null  object \n",
            " 7   release_world  197710 non-null  object \n",
            " 8   age_rating     206220 non-null  float64\n",
            " 9   duration       192624 non-null  float64\n",
            "dtypes: float64(2), object(8)\n",
            "memory usage: 19.0+ MB\n"
          ]
        }
      ],
      "source": [
        "movies.info()"
      ]
    },
    {
      "cell_type": "markdown",
      "metadata": {
        "id": "pV8gZL-Hifa5"
      },
      "source": [
        "## 1.1 Work with movies data "
      ]
    },
    {
      "cell_type": "code",
      "execution_count": 544,
      "metadata": {
        "id": "0qm_0p5Y3z1q"
      },
      "outputs": [],
      "source": [
        "df = movies.join(inter.set_index('movie_id'), on='movie_id', how='left')"
      ]
    },
    {
      "cell_type": "code",
      "execution_count": 545,
      "metadata": {
        "colab": {
          "base_uri": "https://localhost:8080/"
        },
        "id": "QbS3P3PtNZxX",
        "outputId": "e16597ee-c0a3-4f29-82f3-19ea8fa2389d"
      },
      "outputs": [
        {
          "output_type": "execute_result",
          "data": {
            "text/plain": [
              "1365926"
            ]
          },
          "metadata": {},
          "execution_count": 545
        }
      ],
      "source": [
        "len(df[df['duration'] > df['watch_duration_minutes']])"
      ]
    },
    {
      "cell_type": "code",
      "execution_count": 546,
      "metadata": {
        "colab": {
          "base_uri": "https://localhost:8080/"
        },
        "id": "p2wxL25KTCIR",
        "outputId": "a4076f42-b53c-4204-be2a-59d822cf2bf3"
      },
      "outputs": [
        {
          "output_type": "execute_result",
          "data": {
            "text/plain": [
              "370578"
            ]
          },
          "metadata": {},
          "execution_count": 546
        }
      ],
      "source": [
        "len(df[df['duration'].isna()])"
      ]
    },
    {
      "cell_type": "code",
      "execution_count": 547,
      "metadata": {
        "id": "OC-CvN1K4SnI"
      },
      "outputs": [],
      "source": [
        "df['watch_duration_minutes'] = df.apply(lambda x: x['watch_duration_minutes']\n",
        "                                        if (x['watch_duration_minutes'] < x['duration']\n",
        "                                        or pd.isna(x['duration']))\n",
        "                                        else x['duration'], axis=1)"
      ]
    },
    {
      "cell_type": "code",
      "execution_count": 548,
      "metadata": {
        "colab": {
          "base_uri": "https://localhost:8080/"
        },
        "id": "bjeyAmsvNfqy",
        "outputId": "84b3a391-2df3-4e8d-823a-d948ac82eb09"
      },
      "outputs": [
        {
          "output_type": "execute_result",
          "data": {
            "text/plain": [
              "1365926"
            ]
          },
          "metadata": {},
          "execution_count": 548
        }
      ],
      "source": [
        "len(df[df['duration'] > df['watch_duration_minutes']])"
      ]
    },
    {
      "cell_type": "code",
      "execution_count": 549,
      "metadata": {
        "id": "jiWHPTNVKTAJ"
      },
      "outputs": [],
      "source": [
        "avg_watch = df.groupby('movie_id')['watch_duration_minutes'].mean().to_dict()\n",
        "median_watch = df.groupby('movie_id')['watch_duration_minutes'].median().to_dict()\n",
        "popularity = df.groupby('movie_id')['user_id'].nunique().to_dict()\n",
        "rewatches = (df.groupby('movie_id')['user_id'].count() / df.groupby('movie_id')['user_id'].nunique()).to_dict()"
      ]
    },
    {
      "cell_type": "code",
      "execution_count": 550,
      "metadata": {
        "colab": {
          "base_uri": "https://localhost:8080/"
        },
        "id": "PbBpUF9AIEXf",
        "outputId": "a572d47a-f124-40bc-9042-f4b8dfb33708"
      },
      "outputs": [
        {
          "output_type": "execute_result",
          "data": {
            "text/plain": [
              "count   192614.000\n",
              "mean         0.957\n",
              "std          0.159\n",
              "min          0.000\n",
              "25%          1.000\n",
              "50%          1.000\n",
              "75%          1.000\n",
              "max          1.000\n",
              "dtype: float64"
            ]
          },
          "metadata": {},
          "execution_count": 550
        }
      ],
      "source": [
        "check_avg_const = movies[movies['duration'].notna()]\n",
        "check_avg_const['avg_watch'] = check_avg_const['movie_id'].apply(lambda x: avg_watch[x])\n",
        "check_avg_const = check_avg_const[check_avg_const['avg_watch'].notna()]\n",
        "\n",
        "(check_avg_const['avg_watch']/check_avg_const['duration']).describe()"
      ]
    },
    {
      "cell_type": "code",
      "execution_count": 551,
      "metadata": {
        "id": "_cUDU2Q2I6l-"
      },
      "outputs": [],
      "source": [
        "movies['duration'] = movies['duration'].fillna(0)\n",
        "duration_dict = movies.set_index('movie_id')['duration'].to_dict()\n",
        "\n",
        "movies['avg_watch'] = movies['movie_id'].apply(lambda x: avg_watch[x] if pd.notna(avg_watch[x]) else duration_dict[x]*0.96)\n",
        "movies['median_watch'] = movies['movie_id'].apply(lambda x: median_watch[x] if pd.notna(median_watch[x]) else duration_dict[x])\n",
        "movies['popularity'] = movies['movie_id'].apply(lambda x: popularity[x] if pd.notna(popularity[x]) else 0)\n",
        "movies['rewatches'] = movies['movie_id'].apply(lambda x: rewatches[x] if pd.notna(rewatches[x]) else 0)"
      ]
    },
    {
      "cell_type": "code",
      "execution_count": 552,
      "metadata": {
        "id": "b1B2JGtrYcUc"
      },
      "outputs": [],
      "source": [
        "def f(dur, avg):\n",
        "    if dur == 0:\n",
        "        return avg/0.96\n",
        "    else:\n",
        "        return dur\n",
        "\n",
        "movies['duration_est'] = movies.apply(lambda x: f(x['duration'], x['avg_watch']), axis=1)"
      ]
    },
    {
      "cell_type": "code",
      "execution_count": 553,
      "metadata": {
        "id": "svB8SYCKVAN8"
      },
      "outputs": [],
      "source": [
        "movies['avg_watch'] = movies['avg_watch'] * movies['popularity'].apply(lambda x: min(1, x))\n",
        "movies['median_watch'] = movies['median_watch'] * movies['popularity'].apply(lambda x: min(1, x))\n",
        "movies['watched_ratio'] = (movies['avg_watch']/movies['duration_est']).fillna(0)"
      ]
    },
    {
      "cell_type": "code",
      "execution_count": 554,
      "metadata": {
        "id": "hF1tVq9lcXAr"
      },
      "outputs": [],
      "source": [
        "movies['age_rating'] = movies['age_rating'].fillna(movies['age_rating'].median())\n",
        "movies['release_world'] = movies['release_world'].fillna('0-0-0')\n",
        "movies = movies.fillna('[\"UNKNOWN\"]')"
      ]
    },
    {
      "cell_type": "code",
      "execution_count": 555,
      "metadata": {
        "colab": {
          "base_uri": "https://localhost:8080/"
        },
        "id": "pql4bHFYWoU8",
        "outputId": "c0891640-15ac-4794-f6d8-da5fc263640a"
      },
      "outputs": [
        {
          "output_type": "stream",
          "name": "stdout",
          "text": [
            "<class 'pandas.core.frame.DataFrame'>\n",
            "Int64Index: 226260 entries, 0 to 252238\n",
            "Data columns (total 16 columns):\n",
            " #   Column         Non-Null Count   Dtype  \n",
            "---  ------         --------------   -----  \n",
            " 0   movie_id       226260 non-null  object \n",
            " 1   title          226260 non-null  object \n",
            " 2   entity_type    226260 non-null  object \n",
            " 3   genres         226260 non-null  object \n",
            " 4   actors         226260 non-null  object \n",
            " 5   director       226260 non-null  object \n",
            " 6   country        226260 non-null  object \n",
            " 7   release_world  226260 non-null  object \n",
            " 8   age_rating     226260 non-null  float64\n",
            " 9   duration       226260 non-null  float64\n",
            " 10  avg_watch      226260 non-null  float64\n",
            " 11  median_watch   226260 non-null  float64\n",
            " 12  popularity     226260 non-null  int64  \n",
            " 13  rewatches      226260 non-null  float64\n",
            " 14  duration_est   226260 non-null  float64\n",
            " 15  watched_ratio  226260 non-null  float64\n",
            "dtypes: float64(7), int64(1), object(8)\n",
            "memory usage: 29.3+ MB\n"
          ]
        }
      ],
      "source": [
        "movies.info()"
      ]
    },
    {
      "cell_type": "code",
      "execution_count": 556,
      "metadata": {
        "id": "yeZBy3JwhEzb"
      },
      "outputs": [],
      "source": [
        "movies['main_genre'] = movies['genres'].apply(lambda x: x.strip('[]').split(',')[0].strip('\"'))\n",
        "movies['main_actor'] = movies['actors'].apply(lambda x: x.strip('[]').split(',')[0].strip('\"'))\n",
        "movies['main_director'] = movies['director'].apply(lambda x: x.strip('[]').split(',')[0].strip('\"'))\n",
        "movies['main_country'] = movies['country'].apply(lambda x: x.strip('[]').split(',')[0].strip('\"'))\n",
        "\n",
        "movies['released_year'] =  movies['release_world'].apply(lambda x: x.strip('\\'').split('-')[0])\n",
        "movies['released_month'] =  movies['release_world'].apply(lambda x: x.strip('\\'').split('-')[1])"
      ]
    },
    {
      "cell_type": "code",
      "execution_count": 557,
      "metadata": {
        "colab": {
          "base_uri": "https://localhost:8080/",
          "height": 530
        },
        "id": "bwUlIS4EjHVz",
        "outputId": "87931952-c976-45cf-f2af-26b4cff5f51c"
      },
      "outputs": [
        {
          "output_type": "execute_result",
          "data": {
            "text/plain": [
              "                               movie_id                 title entity_type  \\\n",
              "0  395a85a9-2200-4a29-a878-97753c471f79             Свиридовы       Серия   \n",
              "1  6fd5f7b5-8278-4d9a-b03a-54a8bf0bc7c8  Охотники за головами       Серия   \n",
              "2  b239c99e-d1ea-4c01-b83f-6b5469a6b70a     Молодое поколение       Серия   \n",
              "3  9dc02ab1-7bd2-45c2-9b8c-ae29e9813ccf             Художницы       Серия   \n",
              "4  54b3b5fe-7d2a-47ba-9a1d-4dc3a3a8ff96    Веселая Астрология       Серия   \n",
              "\n",
              "   age_rating  duration  avg_watch  median_watch  popularity  rewatches  \\\n",
              "0      16.000    49.000      0.000         0.000           0      0.000   \n",
              "1      16.000    48.000      0.000         0.000           0      0.000   \n",
              "2      16.000    65.000      0.000         0.000           0      0.000   \n",
              "3      18.000    27.000      0.000         0.000           0      0.000   \n",
              "4       6.000     3.000      0.000         0.000           0      0.000   \n",
              "\n",
              "   duration_est  watched_ratio      main_genre          main_actor  \\\n",
              "0        49.000          0.000       Мелодрамы    Андрей Мерзликин   \n",
              "1        48.000          0.000       Детективы    Филипп Янковский   \n",
              "2        65.000          0.000         Комедии              Юн Пак   \n",
              "3        27.000          0.000  Документальное  Катарина Лопаткина   \n",
              "4         3.000          0.000     Мультфильмы        Стивен Боунс   \n",
              "\n",
              "      main_director main_country released_year released_month  \n",
              "0  Эльдар Салаватов       Россия          2013             12  \n",
              "1  Иван Шурховецкий       Россия          2014             03  \n",
              "2        Ким Сан-хо  Корея Южная          2016             07  \n",
              "3     Школа Masters       Россия          2019             02  \n",
              "4          Кен Фунг     Малайзия          2017             10  "
            ],
            "text/html": [
              "\n",
              "  <div id=\"df-0655c48f-7321-4701-93e2-08c2dcc59614\">\n",
              "    <div class=\"colab-df-container\">\n",
              "      <div>\n",
              "<style scoped>\n",
              "    .dataframe tbody tr th:only-of-type {\n",
              "        vertical-align: middle;\n",
              "    }\n",
              "\n",
              "    .dataframe tbody tr th {\n",
              "        vertical-align: top;\n",
              "    }\n",
              "\n",
              "    .dataframe thead th {\n",
              "        text-align: right;\n",
              "    }\n",
              "</style>\n",
              "<table border=\"1\" class=\"dataframe\">\n",
              "  <thead>\n",
              "    <tr style=\"text-align: right;\">\n",
              "      <th></th>\n",
              "      <th>movie_id</th>\n",
              "      <th>title</th>\n",
              "      <th>entity_type</th>\n",
              "      <th>age_rating</th>\n",
              "      <th>duration</th>\n",
              "      <th>avg_watch</th>\n",
              "      <th>median_watch</th>\n",
              "      <th>popularity</th>\n",
              "      <th>rewatches</th>\n",
              "      <th>duration_est</th>\n",
              "      <th>watched_ratio</th>\n",
              "      <th>main_genre</th>\n",
              "      <th>main_actor</th>\n",
              "      <th>main_director</th>\n",
              "      <th>main_country</th>\n",
              "      <th>released_year</th>\n",
              "      <th>released_month</th>\n",
              "    </tr>\n",
              "  </thead>\n",
              "  <tbody>\n",
              "    <tr>\n",
              "      <th>0</th>\n",
              "      <td>395a85a9-2200-4a29-a878-97753c471f79</td>\n",
              "      <td>Свиридовы</td>\n",
              "      <td>Серия</td>\n",
              "      <td>16.000</td>\n",
              "      <td>49.000</td>\n",
              "      <td>0.000</td>\n",
              "      <td>0.000</td>\n",
              "      <td>0</td>\n",
              "      <td>0.000</td>\n",
              "      <td>49.000</td>\n",
              "      <td>0.000</td>\n",
              "      <td>Мелодрамы</td>\n",
              "      <td>Андрей Мерзликин</td>\n",
              "      <td>Эльдар Салаватов</td>\n",
              "      <td>Россия</td>\n",
              "      <td>2013</td>\n",
              "      <td>12</td>\n",
              "    </tr>\n",
              "    <tr>\n",
              "      <th>1</th>\n",
              "      <td>6fd5f7b5-8278-4d9a-b03a-54a8bf0bc7c8</td>\n",
              "      <td>Охотники за головами</td>\n",
              "      <td>Серия</td>\n",
              "      <td>16.000</td>\n",
              "      <td>48.000</td>\n",
              "      <td>0.000</td>\n",
              "      <td>0.000</td>\n",
              "      <td>0</td>\n",
              "      <td>0.000</td>\n",
              "      <td>48.000</td>\n",
              "      <td>0.000</td>\n",
              "      <td>Детективы</td>\n",
              "      <td>Филипп Янковский</td>\n",
              "      <td>Иван Шурховецкий</td>\n",
              "      <td>Россия</td>\n",
              "      <td>2014</td>\n",
              "      <td>03</td>\n",
              "    </tr>\n",
              "    <tr>\n",
              "      <th>2</th>\n",
              "      <td>b239c99e-d1ea-4c01-b83f-6b5469a6b70a</td>\n",
              "      <td>Молодое поколение</td>\n",
              "      <td>Серия</td>\n",
              "      <td>16.000</td>\n",
              "      <td>65.000</td>\n",
              "      <td>0.000</td>\n",
              "      <td>0.000</td>\n",
              "      <td>0</td>\n",
              "      <td>0.000</td>\n",
              "      <td>65.000</td>\n",
              "      <td>0.000</td>\n",
              "      <td>Комедии</td>\n",
              "      <td>Юн Пак</td>\n",
              "      <td>Ким Сан-хо</td>\n",
              "      <td>Корея Южная</td>\n",
              "      <td>2016</td>\n",
              "      <td>07</td>\n",
              "    </tr>\n",
              "    <tr>\n",
              "      <th>3</th>\n",
              "      <td>9dc02ab1-7bd2-45c2-9b8c-ae29e9813ccf</td>\n",
              "      <td>Художницы</td>\n",
              "      <td>Серия</td>\n",
              "      <td>18.000</td>\n",
              "      <td>27.000</td>\n",
              "      <td>0.000</td>\n",
              "      <td>0.000</td>\n",
              "      <td>0</td>\n",
              "      <td>0.000</td>\n",
              "      <td>27.000</td>\n",
              "      <td>0.000</td>\n",
              "      <td>Документальное</td>\n",
              "      <td>Катарина Лопаткина</td>\n",
              "      <td>Школа Masters</td>\n",
              "      <td>Россия</td>\n",
              "      <td>2019</td>\n",
              "      <td>02</td>\n",
              "    </tr>\n",
              "    <tr>\n",
              "      <th>4</th>\n",
              "      <td>54b3b5fe-7d2a-47ba-9a1d-4dc3a3a8ff96</td>\n",
              "      <td>Веселая Астрология</td>\n",
              "      <td>Серия</td>\n",
              "      <td>6.000</td>\n",
              "      <td>3.000</td>\n",
              "      <td>0.000</td>\n",
              "      <td>0.000</td>\n",
              "      <td>0</td>\n",
              "      <td>0.000</td>\n",
              "      <td>3.000</td>\n",
              "      <td>0.000</td>\n",
              "      <td>Мультфильмы</td>\n",
              "      <td>Стивен Боунс</td>\n",
              "      <td>Кен Фунг</td>\n",
              "      <td>Малайзия</td>\n",
              "      <td>2017</td>\n",
              "      <td>10</td>\n",
              "    </tr>\n",
              "  </tbody>\n",
              "</table>\n",
              "</div>\n",
              "      <button class=\"colab-df-convert\" onclick=\"convertToInteractive('df-0655c48f-7321-4701-93e2-08c2dcc59614')\"\n",
              "              title=\"Convert this dataframe to an interactive table.\"\n",
              "              style=\"display:none;\">\n",
              "        \n",
              "  <svg xmlns=\"http://www.w3.org/2000/svg\" height=\"24px\"viewBox=\"0 0 24 24\"\n",
              "       width=\"24px\">\n",
              "    <path d=\"M0 0h24v24H0V0z\" fill=\"none\"/>\n",
              "    <path d=\"M18.56 5.44l.94 2.06.94-2.06 2.06-.94-2.06-.94-.94-2.06-.94 2.06-2.06.94zm-11 1L8.5 8.5l.94-2.06 2.06-.94-2.06-.94L8.5 2.5l-.94 2.06-2.06.94zm10 10l.94 2.06.94-2.06 2.06-.94-2.06-.94-.94-2.06-.94 2.06-2.06.94z\"/><path d=\"M17.41 7.96l-1.37-1.37c-.4-.4-.92-.59-1.43-.59-.52 0-1.04.2-1.43.59L10.3 9.45l-7.72 7.72c-.78.78-.78 2.05 0 2.83L4 21.41c.39.39.9.59 1.41.59.51 0 1.02-.2 1.41-.59l7.78-7.78 2.81-2.81c.8-.78.8-2.07 0-2.86zM5.41 20L4 18.59l7.72-7.72 1.47 1.35L5.41 20z\"/>\n",
              "  </svg>\n",
              "      </button>\n",
              "      \n",
              "  <style>\n",
              "    .colab-df-container {\n",
              "      display:flex;\n",
              "      flex-wrap:wrap;\n",
              "      gap: 12px;\n",
              "    }\n",
              "\n",
              "    .colab-df-convert {\n",
              "      background-color: #E8F0FE;\n",
              "      border: none;\n",
              "      border-radius: 50%;\n",
              "      cursor: pointer;\n",
              "      display: none;\n",
              "      fill: #1967D2;\n",
              "      height: 32px;\n",
              "      padding: 0 0 0 0;\n",
              "      width: 32px;\n",
              "    }\n",
              "\n",
              "    .colab-df-convert:hover {\n",
              "      background-color: #E2EBFA;\n",
              "      box-shadow: 0px 1px 2px rgba(60, 64, 67, 0.3), 0px 1px 3px 1px rgba(60, 64, 67, 0.15);\n",
              "      fill: #174EA6;\n",
              "    }\n",
              "\n",
              "    [theme=dark] .colab-df-convert {\n",
              "      background-color: #3B4455;\n",
              "      fill: #D2E3FC;\n",
              "    }\n",
              "\n",
              "    [theme=dark] .colab-df-convert:hover {\n",
              "      background-color: #434B5C;\n",
              "      box-shadow: 0px 1px 3px 1px rgba(0, 0, 0, 0.15);\n",
              "      filter: drop-shadow(0px 1px 2px rgba(0, 0, 0, 0.3));\n",
              "      fill: #FFFFFF;\n",
              "    }\n",
              "  </style>\n",
              "\n",
              "      <script>\n",
              "        const buttonEl =\n",
              "          document.querySelector('#df-0655c48f-7321-4701-93e2-08c2dcc59614 button.colab-df-convert');\n",
              "        buttonEl.style.display =\n",
              "          google.colab.kernel.accessAllowed ? 'block' : 'none';\n",
              "\n",
              "        async function convertToInteractive(key) {\n",
              "          const element = document.querySelector('#df-0655c48f-7321-4701-93e2-08c2dcc59614');\n",
              "          const dataTable =\n",
              "            await google.colab.kernel.invokeFunction('convertToInteractive',\n",
              "                                                     [key], {});\n",
              "          if (!dataTable) return;\n",
              "\n",
              "          const docLinkHtml = 'Like what you see? Visit the ' +\n",
              "            '<a target=\"_blank\" href=https://colab.research.google.com/notebooks/data_table.ipynb>data table notebook</a>'\n",
              "            + ' to learn more about interactive tables.';\n",
              "          element.innerHTML = '';\n",
              "          dataTable['output_type'] = 'display_data';\n",
              "          await google.colab.output.renderOutput(dataTable, element);\n",
              "          const docLink = document.createElement('div');\n",
              "          docLink.innerHTML = docLinkHtml;\n",
              "          element.appendChild(docLink);\n",
              "        }\n",
              "      </script>\n",
              "    </div>\n",
              "  </div>\n",
              "  "
            ]
          },
          "metadata": {},
          "execution_count": 557
        }
      ],
      "source": [
        "clean_movies = movies.drop(columns=['genres', 'actors', 'director', 'country', 'release_world'])\n",
        "clean_movies.head()"
      ]
    },
    {
      "cell_type": "code",
      "execution_count": 558,
      "metadata": {
        "colab": {
          "base_uri": "https://localhost:8080/"
        },
        "id": "IfVdViPWazck",
        "outputId": "2b412637-98ab-4ea4-994c-1dc6c348470f"
      },
      "outputs": [
        {
          "output_type": "execute_result",
          "data": {
            "text/plain": [
              "count   18565.000\n",
              "mean        0.550\n",
              "std         0.279\n",
              "min         0.000\n",
              "25%         0.368\n",
              "50%         0.528\n",
              "75%         0.768\n",
              "max         1.000\n",
              "Name: watched_ratio, dtype: float64"
            ]
          },
          "metadata": {},
          "execution_count": 558
        }
      ],
      "source": [
        "clean_movies[clean_movies['watched_ratio'] > 0]['watched_ratio'].describe()"
      ]
    },
    {
      "cell_type": "markdown",
      "metadata": {
        "id": "EYNgFAiDjnIk"
      },
      "source": [
        "## 1.2 Work with interaction data"
      ]
    },
    {
      "cell_type": "code",
      "execution_count": 559,
      "metadata": {
        "id": "tkKrhlVtjqLh"
      },
      "outputs": [],
      "source": [
        "# We only take interactions with films we have data about\n",
        "\n",
        "df = clean_movies.join(inter.set_index('movie_id'), on='movie_id', how='inner')"
      ]
    },
    {
      "cell_type": "code",
      "execution_count": 560,
      "metadata": {
        "id": "EjN1bDo1qxKD"
      },
      "outputs": [],
      "source": [
        "actors = df.groupby('user_id')['main_actor'].agg(pd.Series.mode).to_dict()\n",
        "directors = df.groupby('user_id')['main_director'].agg(pd.Series.mode).to_dict()\n",
        "countries = df.groupby('user_id')['main_country'].agg(pd.Series.mode).to_dict()\n",
        "genres = df.groupby('user_id')['main_genre'].agg(pd.Series.mode).to_dict()"
      ]
    },
    {
      "cell_type": "code",
      "execution_count": 561,
      "metadata": {
        "id": "f9cpGGsJ2aX5"
      },
      "outputs": [],
      "source": [
        "df['fav_actor'] = df['user_id'].apply(lambda x: actors[x][0] if type(actors[x])==np.ndarray else actors[x])\n",
        "df['fav_director'] = df['user_id'].apply(lambda x: directors[x][0] if type(directors[x])==np.ndarray else directors[x])\n",
        "df['fav_country'] = df['user_id'].apply(lambda x: countries[x][0] if type(countries[x])==np.ndarray else countries[x])\n",
        "df['fav_genre'] = df['user_id'].apply(lambda x: genres[x][0] if type(genres[x])==np.ndarray else genres[x])"
      ]
    },
    {
      "cell_type": "code",
      "execution_count": 562,
      "metadata": {
        "id": "76xeCXnxKouX"
      },
      "outputs": [],
      "source": [
        "df['watch_duration_minutes'] = df.apply(lambda x: x['watch_duration_minutes']\n",
        "                                        if x['watch_duration_minutes'] < x['duration_est']\n",
        "                                        else x['duration_est'], axis=1)"
      ]
    },
    {
      "cell_type": "code",
      "execution_count": 563,
      "metadata": {
        "id": "Mg7sPIr45wmD"
      },
      "outputs": [],
      "source": [
        "df['watched_ratio'] = df['watch_duration_minutes']/df['duration_est']"
      ]
    },
    {
      "cell_type": "code",
      "execution_count": 564,
      "metadata": {
        "id": "rAc8z8Rd2_6r",
        "colab": {
          "base_uri": "https://localhost:8080/",
          "height": 530
        },
        "outputId": "b13a4123-1d10-4975-8094-5742236968ea"
      },
      "outputs": [
        {
          "output_type": "execute_result",
          "data": {
            "text/plain": [
              "                               movie_id    user_id  year  month  day  \\\n",
              "0  62c08db2-6757-46a1-ad48-40049d4ceb57  228019116  2022     10   20   \n",
              "1  62c08db2-6757-46a1-ad48-40049d4ceb57  228022283  2022     10   20   \n",
              "2  62c08db2-6757-46a1-ad48-40049d4ceb57  219131777  2022     10   20   \n",
              "3  62c08db2-6757-46a1-ad48-40049d4ceb57  238461020  2022     10   20   \n",
              "4  62c08db2-6757-46a1-ad48-40049d4ceb57     195480  2022     10   20   \n",
              "\n",
              "   watch_duration_minutes         fav_actor       fav_director  \\\n",
              "0                  95.117      Федор Лавров   Максим Пежемский   \n",
              "1                  21.067     Уильям Моусли   Кристофер Хаттон   \n",
              "2                  92.533  Владимир Стеклов  Ирина Гобозашвили   \n",
              "3                  12.467    Игорь Савочкин      Владимир Котт   \n",
              "4                  96.567                Ку      Джастин Прайс   \n",
              "\n",
              "      fav_country    fav_genre  watched_ratio  \n",
              "0          Россия      Комедии          0.961  \n",
              "1  Великобритания     Триллеры          0.213  \n",
              "2             США  Приключения          0.935  \n",
              "3          Россия  Приключения          0.126  \n",
              "4             США      Комедии          0.975  "
            ],
            "text/html": [
              "\n",
              "  <div id=\"df-249d1cf7-7599-4164-8deb-63c08163f6d7\">\n",
              "    <div class=\"colab-df-container\">\n",
              "      <div>\n",
              "<style scoped>\n",
              "    .dataframe tbody tr th:only-of-type {\n",
              "        vertical-align: middle;\n",
              "    }\n",
              "\n",
              "    .dataframe tbody tr th {\n",
              "        vertical-align: top;\n",
              "    }\n",
              "\n",
              "    .dataframe thead th {\n",
              "        text-align: right;\n",
              "    }\n",
              "</style>\n",
              "<table border=\"1\" class=\"dataframe\">\n",
              "  <thead>\n",
              "    <tr style=\"text-align: right;\">\n",
              "      <th></th>\n",
              "      <th>movie_id</th>\n",
              "      <th>user_id</th>\n",
              "      <th>year</th>\n",
              "      <th>month</th>\n",
              "      <th>day</th>\n",
              "      <th>watch_duration_minutes</th>\n",
              "      <th>fav_actor</th>\n",
              "      <th>fav_director</th>\n",
              "      <th>fav_country</th>\n",
              "      <th>fav_genre</th>\n",
              "      <th>watched_ratio</th>\n",
              "    </tr>\n",
              "  </thead>\n",
              "  <tbody>\n",
              "    <tr>\n",
              "      <th>0</th>\n",
              "      <td>62c08db2-6757-46a1-ad48-40049d4ceb57</td>\n",
              "      <td>228019116</td>\n",
              "      <td>2022</td>\n",
              "      <td>10</td>\n",
              "      <td>20</td>\n",
              "      <td>95.117</td>\n",
              "      <td>Федор Лавров</td>\n",
              "      <td>Максим Пежемский</td>\n",
              "      <td>Россия</td>\n",
              "      <td>Комедии</td>\n",
              "      <td>0.961</td>\n",
              "    </tr>\n",
              "    <tr>\n",
              "      <th>1</th>\n",
              "      <td>62c08db2-6757-46a1-ad48-40049d4ceb57</td>\n",
              "      <td>228022283</td>\n",
              "      <td>2022</td>\n",
              "      <td>10</td>\n",
              "      <td>20</td>\n",
              "      <td>21.067</td>\n",
              "      <td>Уильям Моусли</td>\n",
              "      <td>Кристофер Хаттон</td>\n",
              "      <td>Великобритания</td>\n",
              "      <td>Триллеры</td>\n",
              "      <td>0.213</td>\n",
              "    </tr>\n",
              "    <tr>\n",
              "      <th>2</th>\n",
              "      <td>62c08db2-6757-46a1-ad48-40049d4ceb57</td>\n",
              "      <td>219131777</td>\n",
              "      <td>2022</td>\n",
              "      <td>10</td>\n",
              "      <td>20</td>\n",
              "      <td>92.533</td>\n",
              "      <td>Владимир Стеклов</td>\n",
              "      <td>Ирина Гобозашвили</td>\n",
              "      <td>США</td>\n",
              "      <td>Приключения</td>\n",
              "      <td>0.935</td>\n",
              "    </tr>\n",
              "    <tr>\n",
              "      <th>3</th>\n",
              "      <td>62c08db2-6757-46a1-ad48-40049d4ceb57</td>\n",
              "      <td>238461020</td>\n",
              "      <td>2022</td>\n",
              "      <td>10</td>\n",
              "      <td>20</td>\n",
              "      <td>12.467</td>\n",
              "      <td>Игорь Савочкин</td>\n",
              "      <td>Владимир Котт</td>\n",
              "      <td>Россия</td>\n",
              "      <td>Приключения</td>\n",
              "      <td>0.126</td>\n",
              "    </tr>\n",
              "    <tr>\n",
              "      <th>4</th>\n",
              "      <td>62c08db2-6757-46a1-ad48-40049d4ceb57</td>\n",
              "      <td>195480</td>\n",
              "      <td>2022</td>\n",
              "      <td>10</td>\n",
              "      <td>20</td>\n",
              "      <td>96.567</td>\n",
              "      <td>Ку</td>\n",
              "      <td>Джастин Прайс</td>\n",
              "      <td>США</td>\n",
              "      <td>Комедии</td>\n",
              "      <td>0.975</td>\n",
              "    </tr>\n",
              "  </tbody>\n",
              "</table>\n",
              "</div>\n",
              "      <button class=\"colab-df-convert\" onclick=\"convertToInteractive('df-249d1cf7-7599-4164-8deb-63c08163f6d7')\"\n",
              "              title=\"Convert this dataframe to an interactive table.\"\n",
              "              style=\"display:none;\">\n",
              "        \n",
              "  <svg xmlns=\"http://www.w3.org/2000/svg\" height=\"24px\"viewBox=\"0 0 24 24\"\n",
              "       width=\"24px\">\n",
              "    <path d=\"M0 0h24v24H0V0z\" fill=\"none\"/>\n",
              "    <path d=\"M18.56 5.44l.94 2.06.94-2.06 2.06-.94-2.06-.94-.94-2.06-.94 2.06-2.06.94zm-11 1L8.5 8.5l.94-2.06 2.06-.94-2.06-.94L8.5 2.5l-.94 2.06-2.06.94zm10 10l.94 2.06.94-2.06 2.06-.94-2.06-.94-.94-2.06-.94 2.06-2.06.94z\"/><path d=\"M17.41 7.96l-1.37-1.37c-.4-.4-.92-.59-1.43-.59-.52 0-1.04.2-1.43.59L10.3 9.45l-7.72 7.72c-.78.78-.78 2.05 0 2.83L4 21.41c.39.39.9.59 1.41.59.51 0 1.02-.2 1.41-.59l7.78-7.78 2.81-2.81c.8-.78.8-2.07 0-2.86zM5.41 20L4 18.59l7.72-7.72 1.47 1.35L5.41 20z\"/>\n",
              "  </svg>\n",
              "      </button>\n",
              "      \n",
              "  <style>\n",
              "    .colab-df-container {\n",
              "      display:flex;\n",
              "      flex-wrap:wrap;\n",
              "      gap: 12px;\n",
              "    }\n",
              "\n",
              "    .colab-df-convert {\n",
              "      background-color: #E8F0FE;\n",
              "      border: none;\n",
              "      border-radius: 50%;\n",
              "      cursor: pointer;\n",
              "      display: none;\n",
              "      fill: #1967D2;\n",
              "      height: 32px;\n",
              "      padding: 0 0 0 0;\n",
              "      width: 32px;\n",
              "    }\n",
              "\n",
              "    .colab-df-convert:hover {\n",
              "      background-color: #E2EBFA;\n",
              "      box-shadow: 0px 1px 2px rgba(60, 64, 67, 0.3), 0px 1px 3px 1px rgba(60, 64, 67, 0.15);\n",
              "      fill: #174EA6;\n",
              "    }\n",
              "\n",
              "    [theme=dark] .colab-df-convert {\n",
              "      background-color: #3B4455;\n",
              "      fill: #D2E3FC;\n",
              "    }\n",
              "\n",
              "    [theme=dark] .colab-df-convert:hover {\n",
              "      background-color: #434B5C;\n",
              "      box-shadow: 0px 1px 3px 1px rgba(0, 0, 0, 0.15);\n",
              "      filter: drop-shadow(0px 1px 2px rgba(0, 0, 0, 0.3));\n",
              "      fill: #FFFFFF;\n",
              "    }\n",
              "  </style>\n",
              "\n",
              "      <script>\n",
              "        const buttonEl =\n",
              "          document.querySelector('#df-249d1cf7-7599-4164-8deb-63c08163f6d7 button.colab-df-convert');\n",
              "        buttonEl.style.display =\n",
              "          google.colab.kernel.accessAllowed ? 'block' : 'none';\n",
              "\n",
              "        async function convertToInteractive(key) {\n",
              "          const element = document.querySelector('#df-249d1cf7-7599-4164-8deb-63c08163f6d7');\n",
              "          const dataTable =\n",
              "            await google.colab.kernel.invokeFunction('convertToInteractive',\n",
              "                                                     [key], {});\n",
              "          if (!dataTable) return;\n",
              "\n",
              "          const docLinkHtml = 'Like what you see? Visit the ' +\n",
              "            '<a target=\"_blank\" href=https://colab.research.google.com/notebooks/data_table.ipynb>data table notebook</a>'\n",
              "            + ' to learn more about interactive tables.';\n",
              "          element.innerHTML = '';\n",
              "          dataTable['output_type'] = 'display_data';\n",
              "          await google.colab.output.renderOutput(dataTable, element);\n",
              "          const docLink = document.createElement('div');\n",
              "          docLink.innerHTML = docLinkHtml;\n",
              "          element.appendChild(docLink);\n",
              "        }\n",
              "      </script>\n",
              "    </div>\n",
              "  </div>\n",
              "  "
            ]
          },
          "metadata": {},
          "execution_count": 564
        }
      ],
      "source": [
        "clean_inter = df[['movie_id', 'user_id', 'year', 'month', 'day', 'watch_duration_minutes', \n",
        "                  'fav_actor', 'fav_director', 'fav_country', 'fav_genre', 'watched_ratio']].reset_index(drop=True)\n",
        "clean_inter.head()"
      ]
    },
    {
      "cell_type": "code",
      "execution_count": 565,
      "metadata": {
        "id": "YU7wMD0KbGdB",
        "colab": {
          "base_uri": "https://localhost:8080/"
        },
        "outputId": "caf6489e-bed9-47d8-de57-19a385c6272f"
      },
      "outputs": [
        {
          "output_type": "execute_result",
          "data": {
            "text/plain": [
              "count   1782240.000\n",
              "mean          0.559\n",
              "std           0.384\n",
              "min           0.000\n",
              "25%           0.161\n",
              "50%           0.596\n",
              "75%           0.956\n",
              "max           1.000\n",
              "Name: watched_ratio, dtype: float64"
            ]
          },
          "metadata": {},
          "execution_count": 565
        }
      ],
      "source": [
        "clean_inter[clean_inter['watched_ratio'] > 0]['watched_ratio'].describe()"
      ]
    },
    {
      "cell_type": "code",
      "execution_count": 566,
      "metadata": {
        "id": "LNas_nG-CSBu",
        "colab": {
          "base_uri": "https://localhost:8080/"
        },
        "outputId": "23bdf5e7-34bc-4bc5-c8c2-39f0964c1b90"
      },
      "outputs": [
        {
          "output_type": "stream",
          "name": "stdout",
          "text": [
            "1782240 971102 0.5448772331448065\n"
          ]
        }
      ],
      "source": [
        "# maybe we should use only the movies people liked\n",
        "\n",
        "good_inter = clean_inter.loc[clean_inter['watched_ratio'] > 0.5].reset_index(drop = True)\n",
        "print(len(clean_inter), len(good_inter), len(good_inter)/len(clean_inter))"
      ]
    },
    {
      "cell_type": "markdown",
      "metadata": {
        "id": "ICa2Ftgzn1DL"
      },
      "source": [
        "## 1.3 Create user data"
      ]
    },
    {
      "cell_type": "code",
      "execution_count": 567,
      "metadata": {
        "id": "411wJE_noJpX",
        "colab": {
          "base_uri": "https://localhost:8080/",
          "height": 423
        },
        "outputId": "d5dccc72-79ce-4cf7-907d-c672259607a4"
      },
      "outputs": [
        {
          "output_type": "execute_result",
          "data": {
            "text/plain": [
              "           user_id             fav_actor         fav_director     fav_country  \\\n",
              "0        228019116          Федор Лавров     Максим Пежемский          Россия   \n",
              "1        228022283         Уильям Моусли     Кристофер Хаттон  Великобритания   \n",
              "2        219131777      Владимир Стеклов    Ирина Гобозашвили             США   \n",
              "3        238461020        Игорь Савочкин        Владимир Котт          Россия   \n",
              "4           195480                    Ку        Джастин Прайс             США   \n",
              "...            ...                   ...                  ...             ...   \n",
              "1782099   89781575         Сигурни Уивер  Хуан Антонио Байона             США   \n",
              "1782132  238566168     Виктория Бакунова      Сергей Нерсесян          Россия   \n",
              "1782134   23752442     Виктория Бакунова      Сергей Нерсесян          Россия   \n",
              "1782179  228029514  Вячеслав Белостоцкий               Motify          Россия   \n",
              "1782230   72199229           Джонни Депп        Эндрю Левитас             США   \n",
              "\n",
              "           fav_genre  \n",
              "0            Комедии  \n",
              "1           Триллеры  \n",
              "2        Приключения  \n",
              "3        Приключения  \n",
              "4            Комедии  \n",
              "...              ...  \n",
              "1782099   Фантастика  \n",
              "1782132       Лекции  \n",
              "1782134       Лекции  \n",
              "1782179       Фитнес  \n",
              "1782230        Драмы  \n",
              "\n",
              "[126632 rows x 5 columns]"
            ],
            "text/html": [
              "\n",
              "  <div id=\"df-df27ea39-ed86-49e0-bae6-414eb32dc42d\">\n",
              "    <div class=\"colab-df-container\">\n",
              "      <div>\n",
              "<style scoped>\n",
              "    .dataframe tbody tr th:only-of-type {\n",
              "        vertical-align: middle;\n",
              "    }\n",
              "\n",
              "    .dataframe tbody tr th {\n",
              "        vertical-align: top;\n",
              "    }\n",
              "\n",
              "    .dataframe thead th {\n",
              "        text-align: right;\n",
              "    }\n",
              "</style>\n",
              "<table border=\"1\" class=\"dataframe\">\n",
              "  <thead>\n",
              "    <tr style=\"text-align: right;\">\n",
              "      <th></th>\n",
              "      <th>user_id</th>\n",
              "      <th>fav_actor</th>\n",
              "      <th>fav_director</th>\n",
              "      <th>fav_country</th>\n",
              "      <th>fav_genre</th>\n",
              "    </tr>\n",
              "  </thead>\n",
              "  <tbody>\n",
              "    <tr>\n",
              "      <th>0</th>\n",
              "      <td>228019116</td>\n",
              "      <td>Федор Лавров</td>\n",
              "      <td>Максим Пежемский</td>\n",
              "      <td>Россия</td>\n",
              "      <td>Комедии</td>\n",
              "    </tr>\n",
              "    <tr>\n",
              "      <th>1</th>\n",
              "      <td>228022283</td>\n",
              "      <td>Уильям Моусли</td>\n",
              "      <td>Кристофер Хаттон</td>\n",
              "      <td>Великобритания</td>\n",
              "      <td>Триллеры</td>\n",
              "    </tr>\n",
              "    <tr>\n",
              "      <th>2</th>\n",
              "      <td>219131777</td>\n",
              "      <td>Владимир Стеклов</td>\n",
              "      <td>Ирина Гобозашвили</td>\n",
              "      <td>США</td>\n",
              "      <td>Приключения</td>\n",
              "    </tr>\n",
              "    <tr>\n",
              "      <th>3</th>\n",
              "      <td>238461020</td>\n",
              "      <td>Игорь Савочкин</td>\n",
              "      <td>Владимир Котт</td>\n",
              "      <td>Россия</td>\n",
              "      <td>Приключения</td>\n",
              "    </tr>\n",
              "    <tr>\n",
              "      <th>4</th>\n",
              "      <td>195480</td>\n",
              "      <td>Ку</td>\n",
              "      <td>Джастин Прайс</td>\n",
              "      <td>США</td>\n",
              "      <td>Комедии</td>\n",
              "    </tr>\n",
              "    <tr>\n",
              "      <th>...</th>\n",
              "      <td>...</td>\n",
              "      <td>...</td>\n",
              "      <td>...</td>\n",
              "      <td>...</td>\n",
              "      <td>...</td>\n",
              "    </tr>\n",
              "    <tr>\n",
              "      <th>1782099</th>\n",
              "      <td>89781575</td>\n",
              "      <td>Сигурни Уивер</td>\n",
              "      <td>Хуан Антонио Байона</td>\n",
              "      <td>США</td>\n",
              "      <td>Фантастика</td>\n",
              "    </tr>\n",
              "    <tr>\n",
              "      <th>1782132</th>\n",
              "      <td>238566168</td>\n",
              "      <td>Виктория Бакунова</td>\n",
              "      <td>Сергей Нерсесян</td>\n",
              "      <td>Россия</td>\n",
              "      <td>Лекции</td>\n",
              "    </tr>\n",
              "    <tr>\n",
              "      <th>1782134</th>\n",
              "      <td>23752442</td>\n",
              "      <td>Виктория Бакунова</td>\n",
              "      <td>Сергей Нерсесян</td>\n",
              "      <td>Россия</td>\n",
              "      <td>Лекции</td>\n",
              "    </tr>\n",
              "    <tr>\n",
              "      <th>1782179</th>\n",
              "      <td>228029514</td>\n",
              "      <td>Вячеслав Белостоцкий</td>\n",
              "      <td>Motify</td>\n",
              "      <td>Россия</td>\n",
              "      <td>Фитнес</td>\n",
              "    </tr>\n",
              "    <tr>\n",
              "      <th>1782230</th>\n",
              "      <td>72199229</td>\n",
              "      <td>Джонни Депп</td>\n",
              "      <td>Эндрю Левитас</td>\n",
              "      <td>США</td>\n",
              "      <td>Драмы</td>\n",
              "    </tr>\n",
              "  </tbody>\n",
              "</table>\n",
              "<p>126632 rows × 5 columns</p>\n",
              "</div>\n",
              "      <button class=\"colab-df-convert\" onclick=\"convertToInteractive('df-df27ea39-ed86-49e0-bae6-414eb32dc42d')\"\n",
              "              title=\"Convert this dataframe to an interactive table.\"\n",
              "              style=\"display:none;\">\n",
              "        \n",
              "  <svg xmlns=\"http://www.w3.org/2000/svg\" height=\"24px\"viewBox=\"0 0 24 24\"\n",
              "       width=\"24px\">\n",
              "    <path d=\"M0 0h24v24H0V0z\" fill=\"none\"/>\n",
              "    <path d=\"M18.56 5.44l.94 2.06.94-2.06 2.06-.94-2.06-.94-.94-2.06-.94 2.06-2.06.94zm-11 1L8.5 8.5l.94-2.06 2.06-.94-2.06-.94L8.5 2.5l-.94 2.06-2.06.94zm10 10l.94 2.06.94-2.06 2.06-.94-2.06-.94-.94-2.06-.94 2.06-2.06.94z\"/><path d=\"M17.41 7.96l-1.37-1.37c-.4-.4-.92-.59-1.43-.59-.52 0-1.04.2-1.43.59L10.3 9.45l-7.72 7.72c-.78.78-.78 2.05 0 2.83L4 21.41c.39.39.9.59 1.41.59.51 0 1.02-.2 1.41-.59l7.78-7.78 2.81-2.81c.8-.78.8-2.07 0-2.86zM5.41 20L4 18.59l7.72-7.72 1.47 1.35L5.41 20z\"/>\n",
              "  </svg>\n",
              "      </button>\n",
              "      \n",
              "  <style>\n",
              "    .colab-df-container {\n",
              "      display:flex;\n",
              "      flex-wrap:wrap;\n",
              "      gap: 12px;\n",
              "    }\n",
              "\n",
              "    .colab-df-convert {\n",
              "      background-color: #E8F0FE;\n",
              "      border: none;\n",
              "      border-radius: 50%;\n",
              "      cursor: pointer;\n",
              "      display: none;\n",
              "      fill: #1967D2;\n",
              "      height: 32px;\n",
              "      padding: 0 0 0 0;\n",
              "      width: 32px;\n",
              "    }\n",
              "\n",
              "    .colab-df-convert:hover {\n",
              "      background-color: #E2EBFA;\n",
              "      box-shadow: 0px 1px 2px rgba(60, 64, 67, 0.3), 0px 1px 3px 1px rgba(60, 64, 67, 0.15);\n",
              "      fill: #174EA6;\n",
              "    }\n",
              "\n",
              "    [theme=dark] .colab-df-convert {\n",
              "      background-color: #3B4455;\n",
              "      fill: #D2E3FC;\n",
              "    }\n",
              "\n",
              "    [theme=dark] .colab-df-convert:hover {\n",
              "      background-color: #434B5C;\n",
              "      box-shadow: 0px 1px 3px 1px rgba(0, 0, 0, 0.15);\n",
              "      filter: drop-shadow(0px 1px 2px rgba(0, 0, 0, 0.3));\n",
              "      fill: #FFFFFF;\n",
              "    }\n",
              "  </style>\n",
              "\n",
              "      <script>\n",
              "        const buttonEl =\n",
              "          document.querySelector('#df-df27ea39-ed86-49e0-bae6-414eb32dc42d button.colab-df-convert');\n",
              "        buttonEl.style.display =\n",
              "          google.colab.kernel.accessAllowed ? 'block' : 'none';\n",
              "\n",
              "        async function convertToInteractive(key) {\n",
              "          const element = document.querySelector('#df-df27ea39-ed86-49e0-bae6-414eb32dc42d');\n",
              "          const dataTable =\n",
              "            await google.colab.kernel.invokeFunction('convertToInteractive',\n",
              "                                                     [key], {});\n",
              "          if (!dataTable) return;\n",
              "\n",
              "          const docLinkHtml = 'Like what you see? Visit the ' +\n",
              "            '<a target=\"_blank\" href=https://colab.research.google.com/notebooks/data_table.ipynb>data table notebook</a>'\n",
              "            + ' to learn more about interactive tables.';\n",
              "          element.innerHTML = '';\n",
              "          dataTable['output_type'] = 'display_data';\n",
              "          await google.colab.output.renderOutput(dataTable, element);\n",
              "          const docLink = document.createElement('div');\n",
              "          docLink.innerHTML = docLinkHtml;\n",
              "          element.appendChild(docLink);\n",
              "        }\n",
              "      </script>\n",
              "    </div>\n",
              "  </div>\n",
              "  "
            ]
          },
          "metadata": {},
          "execution_count": 567
        }
      ],
      "source": [
        "users_data = clean_inter.drop(columns=['movie_id', 'year', 'month', 'day', 'watch_duration_minutes', 'watched_ratio'])\n",
        "users_data = users_data.drop_duplicates()\n",
        "users_data"
      ]
    },
    {
      "cell_type": "markdown",
      "metadata": {
        "id": "1277HpAEnSdm"
      },
      "source": [
        "## 1.4 Split train and test"
      ]
    },
    {
      "cell_type": "code",
      "execution_count": 604,
      "metadata": {
        "id": "TgDIxWEqnW8q"
      },
      "outputs": [],
      "source": [
        "interactions_filtered = clean_inter\n",
        "\n",
        "date = []\n",
        "for index, row in interactions_filtered.iterrows():\n",
        "    date.append(pd.Timestamp(year=row['year'],\n",
        "             month=row['month'],\n",
        "             day= row['day']))\n",
        "    \n",
        "interactions_filtered['last_watch_dt'] = pd.Series(date)\n",
        "interactions_filtered['last_watch_dt'] = pd.to_datetime(interactions_filtered['last_watch_dt'])"
      ]
    },
    {
      "cell_type": "code",
      "execution_count": 605,
      "metadata": {
        "id": "FgdCdpSMnV_n",
        "colab": {
          "base_uri": "https://localhost:8080/"
        },
        "outputId": "79cf4ee9-f4e0-4d0e-f04a-d917b33beb6e"
      },
      "outputs": [
        {
          "output_type": "stream",
          "name": "stdout",
          "text": [
            "max date in filtered interactions: 2022-12-30 00:00:00\n",
            "min date in filtered interactions:: 2022-10-01 00:00:00\n"
          ]
        }
      ],
      "source": [
        "# set dates params for filter\n",
        "MAX_DATE = interactions_filtered['last_watch_dt'].max()\n",
        "MIN_DATE = interactions_filtered['last_watch_dt'].min()\n",
        "TEST_INTERVAL_DAYS = 7\n",
        "\n",
        "print(f\"max date in filtered interactions: {MAX_DATE}\")\n",
        "print(f\"min date in filtered interactions:: {MIN_DATE}\")"
      ]
    },
    {
      "cell_type": "code",
      "execution_count": 606,
      "metadata": {
        "id": "d88bhq2rde_b",
        "colab": {
          "base_uri": "https://localhost:8080/"
        },
        "outputId": "9894ce36-54a0-408e-e1d7-612905131b5c"
      },
      "outputs": [
        {
          "output_type": "stream",
          "name": "stdout",
          "text": [
            "(1624033, 12) (158207, 12)\n"
          ]
        }
      ],
      "source": [
        "TEST_MAX_DATE = MAX_DATE - dt.timedelta(days = TEST_INTERVAL_DAYS)\n",
        "global_train = interactions_filtered.loc[interactions_filtered['last_watch_dt'] < TEST_MAX_DATE]\n",
        "global_test = interactions_filtered.loc[interactions_filtered['last_watch_dt'] >= TEST_MAX_DATE]\n",
        "\n",
        "print(global_train.shape, global_test.shape)"
      ]
    },
    {
      "cell_type": "code",
      "execution_count": 607,
      "metadata": {
        "id": "0eOrxRpPnuGS"
      },
      "outputs": [],
      "source": [
        "seen_global_train = global_train.groupby('user_id')['movie_id'].unique().to_dict()\n",
        "seen_global_test = global_test.groupby('user_id')['movie_id'].unique().to_dict()"
      ]
    },
    {
      "cell_type": "code",
      "execution_count": 608,
      "metadata": {
        "id": "Smn6BxrWdfCE",
        "colab": {
          "base_uri": "https://localhost:8080/"
        },
        "outputId": "cf4097a8-b2d7-4cdd-ad89-a6630c995048"
      },
      "outputs": [
        {
          "output_type": "stream",
          "name": "stdout",
          "text": [
            "2022-11-28 00:00:00\n",
            "(1129137, 12) (494896, 12)\n"
          ]
        }
      ],
      "source": [
        "# now, we define \"local\" train and test to use some part of the global train for ranker\n",
        "local_train_thresh = global_train['last_watch_dt'].quantile(q = .7, interpolation = 'nearest')\n",
        "print(local_train_thresh)\n",
        "\n",
        "local_train = global_train.loc[global_train['last_watch_dt'] < local_train_thresh]\n",
        "local_test = global_train.loc[global_train['last_watch_dt'] >= local_train_thresh]\n",
        "\n",
        "print(local_train.shape, local_test.shape)"
      ]
    },
    {
      "cell_type": "code",
      "execution_count": 609,
      "metadata": {
        "id": "7gUjNalip7Kh",
        "colab": {
          "base_uri": "https://localhost:8080/"
        },
        "outputId": "50ac76f7-901a-41da-ad16-a77daffdd7b8"
      },
      "outputs": [
        {
          "output_type": "stream",
          "name": "stdout",
          "text": [
            "(418068, 12)\n"
          ]
        }
      ],
      "source": [
        "local_test = local_test.loc[local_test['user_id'].isin(local_train['user_id'].unique())]\n",
        "print(local_test.shape)"
      ]
    },
    {
      "cell_type": "code",
      "execution_count": 610,
      "metadata": {
        "id": "x_NdlXEn4tIW"
      },
      "outputs": [],
      "source": [
        "seen_local_train = local_train.groupby('user_id')['movie_id'].unique().to_dict()\n",
        "seen_local_test = local_test.groupby('user_id')['movie_id'].unique().to_dict()"
      ]
    },
    {
      "cell_type": "markdown",
      "metadata": {
        "id": "qM6TB7wR6tqV"
      },
      "source": [
        "#2. Baseline model"
      ]
    },
    {
      "cell_type": "code",
      "execution_count": 611,
      "metadata": {
        "id": "6_4az0rx616k"
      },
      "outputs": [],
      "source": [
        "populars = global_train.groupby('movie_id')['user_id'].count().sort_values(ascending=False).head(100).reset_index()['movie_id'].to_dict()"
      ]
    },
    {
      "cell_type": "code",
      "execution_count": 612,
      "metadata": {
        "id": "oJ04MsjI5GeO",
        "colab": {
          "base_uri": "https://localhost:8080/"
        },
        "outputId": "6ac05eab-c468-43a6-f00a-07ee2b38475b"
      },
      "outputs": [
        {
          "output_type": "stream",
          "name": "stdout",
          "text": [
            "MAP@10 - 0.06960662630084975\n",
            "NGCD@10 - 0.06442144298447545\n"
          ]
        }
      ],
      "source": [
        "ap, ndcg = [], []\n",
        "\n",
        "for user in global_test['user_id'].unique():\n",
        "    rank_true, rank = [], []\n",
        "    y_pred = []\n",
        "    y_true = seen_global_test[user]\n",
        "    for i in range(100):\n",
        "        film = populars[i]\n",
        "        if film in seen_global_train.get(user, []):\n",
        "            continue\n",
        "        rank.append(10-len(rank))\n",
        "        y_pred.append(film)\n",
        "        if film in y_true:\n",
        "            rank_true.append(1)\n",
        "        else:\n",
        "            rank_true.append(0)\n",
        "        if len(rank) == 10:\n",
        "            break\n",
        "    ap.append(average_prec_k(y_true, y_pred, k=10))\n",
        "    ndcg.append(ndcg_score([rank_true], [rank], k=10))\n",
        "\n",
        "print(f'MAP@10 - {np.mean(ap)}\\nNGCD@10 - {np.mean(ndcg)}')"
      ]
    },
    {
      "cell_type": "markdown",
      "metadata": {
        "id": "xp-4RRfv1QXy"
      },
      "source": [
        "#3. First level models"
      ]
    },
    {
      "cell_type": "markdown",
      "metadata": {
        "id": "bH0O6ws8nOGC"
      },
      "source": [
        "## 3.1 LightFM"
      ]
    },
    {
      "cell_type": "code",
      "execution_count": 613,
      "metadata": {
        "id": "db247cf8"
      },
      "outputs": [],
      "source": [
        "# init class\n",
        "dataset = Dataset()\n",
        "\n",
        "# fit tuple of user and movie interactions\n",
        "dataset.fit(local_train['user_id'].unique(), local_train['movie_id'].unique())"
      ]
    },
    {
      "cell_type": "code",
      "execution_count": 614,
      "metadata": {
        "id": "b395c165"
      },
      "outputs": [],
      "source": [
        "# now, we define lightfm mapper to use it later for checks\n",
        "lightfm_mapping = dataset.mapping()\n",
        "# lightfm_mapping"
      ]
    },
    {
      "cell_type": "code",
      "execution_count": 615,
      "metadata": {
        "id": "6b9536da",
        "colab": {
          "base_uri": "https://localhost:8080/"
        },
        "outputId": "01f50990-a745-4c8b-b928-04e601bd61f4"
      },
      "outputs": [
        {
          "output_type": "stream",
          "name": "stdout",
          "text": [
            "user mapper length -  104821\n",
            "user features mapper length -  104821\n",
            "movies mapper length -  16890\n",
            "Users movie features mapper length -  16890\n"
          ]
        }
      ],
      "source": [
        "lightfm_mapping = {\n",
        "    'users_mapping': lightfm_mapping[0],\n",
        "    'user_features_mapping': lightfm_mapping[1],\n",
        "    'items_mapping': lightfm_mapping[2],\n",
        "    'item_features_mapping': lightfm_mapping[3],\n",
        "}\n",
        "print('user mapper length - ', len(lightfm_mapping['users_mapping']))\n",
        "print('user features mapper length - ', len(lightfm_mapping['user_features_mapping']))\n",
        "print('movies mapper length - ', len(lightfm_mapping['items_mapping']))\n",
        "print('Users movie features mapper length - ', len(lightfm_mapping['item_features_mapping']))"
      ]
    },
    {
      "cell_type": "code",
      "execution_count": 616,
      "metadata": {
        "id": "ff6d69ac"
      },
      "outputs": [],
      "source": [
        "# here we create inverted mappers to check recommendations later\n",
        "lightfm_mapping['users_inv_mapping'] = {v: k for k, v in lightfm_mapping['users_mapping'].items()}\n",
        "lightfm_mapping['items_inv_mapping'] = {v: k for k, v in lightfm_mapping['items_mapping'].items()}"
      ]
    },
    {
      "cell_type": "code",
      "execution_count": 617,
      "metadata": {
        "id": "12b5882a"
      },
      "outputs": [],
      "source": [
        "# special iterator to use with lightfm\n",
        "def df_to_tuple_iterator(df: pd.DataFrame):\n",
        "    '''\n",
        "    :df: pd.DataFrame, interactions dataframe\n",
        "    returns iterator\n",
        "    '''\n",
        "    return zip(*df.values.T)\n",
        "\n",
        "def concat_last_to_list(t):\n",
        "    return (t[0], list(t[1:])[0])\n",
        "\n",
        "def df_to_tuple_list_iterator(df):\n",
        "    return map(concat_last_to_list, zip(*df.values.T))"
      ]
    },
    {
      "cell_type": "code",
      "execution_count": 618,
      "metadata": {
        "id": "27c9229a"
      },
      "outputs": [],
      "source": [
        "# defining train set on the whole interactions dataset \n",
        "train_mat, train_mat_weights = dataset.build_interactions(df_to_tuple_iterator(local_train[['user_id', 'movie_id']]))"
      ]
    },
    {
      "cell_type": "markdown",
      "metadata": {
        "id": "b6028937"
      },
      "source": [
        "### 3.1.1 Train LigthFM model"
      ]
    },
    {
      "cell_type": "code",
      "execution_count": 619,
      "metadata": {
        "id": "09868942"
      },
      "outputs": [],
      "source": [
        "# set params\n",
        "NO_COMPONENTS = 64\n",
        "LEARNING_RATE = .03\n",
        "LOSS = 'warp'\n",
        "MAX_SAMPLED = 5\n",
        "RANDOM_STATE = 42\n",
        "EPOCHS = 20\n",
        "\n",
        "top_N = 10"
      ]
    },
    {
      "cell_type": "code",
      "execution_count": 620,
      "metadata": {
        "id": "bc0aaf69"
      },
      "outputs": [],
      "source": [
        "# init model\n",
        "lfm_model = LightFM()"
      ]
    },
    {
      "cell_type": "code",
      "execution_count": 621,
      "metadata": {
        "id": "43f92b2c",
        "colab": {
          "base_uri": "https://localhost:8080/",
          "height": 49,
          "referenced_widgets": [
            "90bb9dc1c7504e3fb7eed18a6d22f2f0",
            "48e76c47ba08412ea4b7bd2e16d57a0f",
            "a406a3b8254c4f6d90f8a1d14e15cff4",
            "f03014ef63be42ffa1d26bdbd2f18c76",
            "9e5617f323894e71a28a8fcbe7a7a181",
            "dd4be65ac09d4067a50a54d254456556",
            "8cf1daaf1b56413ba77b467f9d9c6d59",
            "6e01705cd4a946d08ddaf63d2e36321f",
            "8ea22c913aa447a8a1b7cbf36d09a6cb",
            "1d2ba4478b66475c8b15ce9c72ea67b8",
            "3f28e2646b404a14b3acccdf63801ea0"
          ]
        },
        "outputId": "98905b30-3c91-42df-8fd8-d47e72a5c29b"
      },
      "outputs": [
        {
          "output_type": "display_data",
          "data": {
            "text/plain": [
              "  0%|          | 0/20 [00:00<?, ?it/s]"
            ],
            "application/vnd.jupyter.widget-view+json": {
              "version_major": 2,
              "version_minor": 0,
              "model_id": "90bb9dc1c7504e3fb7eed18a6d22f2f0"
            }
          },
          "metadata": {}
        }
      ],
      "source": [
        "# execute training\n",
        "for _ in tqdm_notebook(range(EPOCHS), total = EPOCHS):\n",
        "#for i in range(0, EPOCHS):\n",
        "    lfm_model.fit_partial(\n",
        "        train_mat,\n",
        "        num_threads = 4\n",
        "    )"
      ]
    },
    {
      "cell_type": "code",
      "execution_count": 622,
      "metadata": {
        "id": "994b3b7e",
        "colab": {
          "base_uri": "https://localhost:8080/"
        },
        "outputId": "e4b09a11-5ee0-4f13-b816-010abad133d8"
      },
      "outputs": [
        {
          "output_type": "stream",
          "name": "stdout",
          "text": [
            "Rekko for user 2088268, row number in matrix - 100\n"
          ]
        }
      ],
      "source": [
        "# let's make sense-check\n",
        "user_id = local_train['user_id'][100]\n",
        "row_id = lightfm_mapping['users_mapping'][user_id]\n",
        "print(f'Rekko for user {user_id}, row number in matrix - {row_id}')"
      ]
    },
    {
      "cell_type": "code",
      "execution_count": 623,
      "metadata": {
        "id": "52929f1c",
        "colab": {
          "base_uri": "https://localhost:8080/"
        },
        "outputId": "9fd61598-d3bc-47f0-e3cd-75c5b8f7b029"
      },
      "outputs": [
        {
          "output_type": "execute_result",
          "data": {
            "text/plain": [
              "16890"
            ]
          },
          "metadata": {},
          "execution_count": 623
        }
      ],
      "source": [
        "all_cols = list(lightfm_mapping['items_mapping'].values())\n",
        "len(all_cols)"
      ]
    },
    {
      "cell_type": "code",
      "execution_count": 624,
      "metadata": {
        "id": "6a82fb10",
        "colab": {
          "base_uri": "https://localhost:8080/"
        },
        "outputId": "f1b333b5-89da-4797-a331-180cdb3930b2"
      },
      "outputs": [
        {
          "output_type": "execute_result",
          "data": {
            "text/plain": [
              "(array([4.7293243 , 2.330819  , 0.53189844, ..., 0.28235087, 0.8307457 ,\n",
              "        0.57124645], dtype=float32),\n",
              " (16890,))"
            ]
          },
          "metadata": {},
          "execution_count": 624
        }
      ],
      "source": [
        "pred = lfm_model.predict(\n",
        "    row_id,\n",
        "    all_cols,\n",
        "    num_threads = 4)\n",
        "pred, pred.shape"
      ]
    },
    {
      "cell_type": "code",
      "execution_count": 625,
      "metadata": {
        "id": "28595932",
        "colab": {
          "base_uri": "https://localhost:8080/"
        },
        "outputId": "3403e247-aff9-488a-f4c9-420d9f667d41"
      },
      "outputs": [
        {
          "output_type": "execute_result",
          "data": {
            "text/plain": [
              "array([ 9416, 10597,  8498,   241, 11204,  5206,  9149, 11180,  3362,\n",
              "        8154])"
            ]
          },
          "metadata": {},
          "execution_count": 625
        }
      ],
      "source": [
        "top_cols = np.argpartition(pred, -np.arange(top_N))[-top_N:][::-1]\n",
        "top_cols"
      ]
    },
    {
      "cell_type": "code",
      "execution_count": 626,
      "metadata": {
        "id": "5291b942"
      },
      "outputs": [],
      "source": [
        "# crate mapper for movieId and title names\n",
        "item_name_mapper = dict(zip(clean_movies['movie_id'], clean_movies['title']))"
      ]
    },
    {
      "cell_type": "code",
      "execution_count": 627,
      "metadata": {
        "id": "57c4c718",
        "colab": {
          "base_uri": "https://localhost:8080/",
          "height": 363
        },
        "outputId": "f6af2096-3309-4c39-94d9-6ea2519f4108"
      },
      "outputs": [
        {
          "output_type": "execute_result",
          "data": {
            "text/plain": [
              "   col_id                               item_id  \\\n",
              "0    9416  91f9d892-a508-4962-91e9-abacd93e0830   \n",
              "1   10597  0f33af53-5d2d-4c82-a2e9-307fcabdcb2d   \n",
              "2    8498  42f5cb31-f333-426c-a95b-8e106741de38   \n",
              "3     241  955c3acd-c6d0-4ae4-89e4-3e0b067071e9   \n",
              "4   11204  d722f09d-a99d-4c7f-853c-0c77fcd45f35   \n",
              "5    5206  7dcc3cf7-943b-4964-9b86-a7d9ab5c767d   \n",
              "6    9149  5a3bf8a0-3054-448b-b524-025abea0cac3   \n",
              "7   11180  25ef7e77-d83d-46d1-999a-ca36a045ab9a   \n",
              "8    3362  28509b56-b1b5-4568-93d6-de7611ef5a2e   \n",
              "9    8154  70503f6b-b4a3-4241-9175-f030537083cd   \n",
              "\n",
              "                                               title  \n",
              "0                                               1703  \n",
              "1                                             Кунгур  \n",
              "2                                              Вышка  \n",
              "3  Что делать женщине, если у неё два любовника, ...  \n",
              "4                                    Барбоскины Team  \n",
              "5                             Три тысячи лет желаний  \n",
              "6                                          Аксентьев  \n",
              "7                                             Химера  \n",
              "8                                     Лэйт Найт Скул  \n",
              "9                                     Босс-молокосос  "
            ],
            "text/html": [
              "\n",
              "  <div id=\"df-ec4c1c66-32da-4738-9865-4cdd78c3c2b1\">\n",
              "    <div class=\"colab-df-container\">\n",
              "      <div>\n",
              "<style scoped>\n",
              "    .dataframe tbody tr th:only-of-type {\n",
              "        vertical-align: middle;\n",
              "    }\n",
              "\n",
              "    .dataframe tbody tr th {\n",
              "        vertical-align: top;\n",
              "    }\n",
              "\n",
              "    .dataframe thead th {\n",
              "        text-align: right;\n",
              "    }\n",
              "</style>\n",
              "<table border=\"1\" class=\"dataframe\">\n",
              "  <thead>\n",
              "    <tr style=\"text-align: right;\">\n",
              "      <th></th>\n",
              "      <th>col_id</th>\n",
              "      <th>item_id</th>\n",
              "      <th>title</th>\n",
              "    </tr>\n",
              "  </thead>\n",
              "  <tbody>\n",
              "    <tr>\n",
              "      <th>0</th>\n",
              "      <td>9416</td>\n",
              "      <td>91f9d892-a508-4962-91e9-abacd93e0830</td>\n",
              "      <td>1703</td>\n",
              "    </tr>\n",
              "    <tr>\n",
              "      <th>1</th>\n",
              "      <td>10597</td>\n",
              "      <td>0f33af53-5d2d-4c82-a2e9-307fcabdcb2d</td>\n",
              "      <td>Кунгур</td>\n",
              "    </tr>\n",
              "    <tr>\n",
              "      <th>2</th>\n",
              "      <td>8498</td>\n",
              "      <td>42f5cb31-f333-426c-a95b-8e106741de38</td>\n",
              "      <td>Вышка</td>\n",
              "    </tr>\n",
              "    <tr>\n",
              "      <th>3</th>\n",
              "      <td>241</td>\n",
              "      <td>955c3acd-c6d0-4ae4-89e4-3e0b067071e9</td>\n",
              "      <td>Что делать женщине, если у неё два любовника, ...</td>\n",
              "    </tr>\n",
              "    <tr>\n",
              "      <th>4</th>\n",
              "      <td>11204</td>\n",
              "      <td>d722f09d-a99d-4c7f-853c-0c77fcd45f35</td>\n",
              "      <td>Барбоскины Team</td>\n",
              "    </tr>\n",
              "    <tr>\n",
              "      <th>5</th>\n",
              "      <td>5206</td>\n",
              "      <td>7dcc3cf7-943b-4964-9b86-a7d9ab5c767d</td>\n",
              "      <td>Три тысячи лет желаний</td>\n",
              "    </tr>\n",
              "    <tr>\n",
              "      <th>6</th>\n",
              "      <td>9149</td>\n",
              "      <td>5a3bf8a0-3054-448b-b524-025abea0cac3</td>\n",
              "      <td>Аксентьев</td>\n",
              "    </tr>\n",
              "    <tr>\n",
              "      <th>7</th>\n",
              "      <td>11180</td>\n",
              "      <td>25ef7e77-d83d-46d1-999a-ca36a045ab9a</td>\n",
              "      <td>Химера</td>\n",
              "    </tr>\n",
              "    <tr>\n",
              "      <th>8</th>\n",
              "      <td>3362</td>\n",
              "      <td>28509b56-b1b5-4568-93d6-de7611ef5a2e</td>\n",
              "      <td>Лэйт Найт Скул</td>\n",
              "    </tr>\n",
              "    <tr>\n",
              "      <th>9</th>\n",
              "      <td>8154</td>\n",
              "      <td>70503f6b-b4a3-4241-9175-f030537083cd</td>\n",
              "      <td>Босс-молокосос</td>\n",
              "    </tr>\n",
              "  </tbody>\n",
              "</table>\n",
              "</div>\n",
              "      <button class=\"colab-df-convert\" onclick=\"convertToInteractive('df-ec4c1c66-32da-4738-9865-4cdd78c3c2b1')\"\n",
              "              title=\"Convert this dataframe to an interactive table.\"\n",
              "              style=\"display:none;\">\n",
              "        \n",
              "  <svg xmlns=\"http://www.w3.org/2000/svg\" height=\"24px\"viewBox=\"0 0 24 24\"\n",
              "       width=\"24px\">\n",
              "    <path d=\"M0 0h24v24H0V0z\" fill=\"none\"/>\n",
              "    <path d=\"M18.56 5.44l.94 2.06.94-2.06 2.06-.94-2.06-.94-.94-2.06-.94 2.06-2.06.94zm-11 1L8.5 8.5l.94-2.06 2.06-.94-2.06-.94L8.5 2.5l-.94 2.06-2.06.94zm10 10l.94 2.06.94-2.06 2.06-.94-2.06-.94-.94-2.06-.94 2.06-2.06.94z\"/><path d=\"M17.41 7.96l-1.37-1.37c-.4-.4-.92-.59-1.43-.59-.52 0-1.04.2-1.43.59L10.3 9.45l-7.72 7.72c-.78.78-.78 2.05 0 2.83L4 21.41c.39.39.9.59 1.41.59.51 0 1.02-.2 1.41-.59l7.78-7.78 2.81-2.81c.8-.78.8-2.07 0-2.86zM5.41 20L4 18.59l7.72-7.72 1.47 1.35L5.41 20z\"/>\n",
              "  </svg>\n",
              "      </button>\n",
              "      \n",
              "  <style>\n",
              "    .colab-df-container {\n",
              "      display:flex;\n",
              "      flex-wrap:wrap;\n",
              "      gap: 12px;\n",
              "    }\n",
              "\n",
              "    .colab-df-convert {\n",
              "      background-color: #E8F0FE;\n",
              "      border: none;\n",
              "      border-radius: 50%;\n",
              "      cursor: pointer;\n",
              "      display: none;\n",
              "      fill: #1967D2;\n",
              "      height: 32px;\n",
              "      padding: 0 0 0 0;\n",
              "      width: 32px;\n",
              "    }\n",
              "\n",
              "    .colab-df-convert:hover {\n",
              "      background-color: #E2EBFA;\n",
              "      box-shadow: 0px 1px 2px rgba(60, 64, 67, 0.3), 0px 1px 3px 1px rgba(60, 64, 67, 0.15);\n",
              "      fill: #174EA6;\n",
              "    }\n",
              "\n",
              "    [theme=dark] .colab-df-convert {\n",
              "      background-color: #3B4455;\n",
              "      fill: #D2E3FC;\n",
              "    }\n",
              "\n",
              "    [theme=dark] .colab-df-convert:hover {\n",
              "      background-color: #434B5C;\n",
              "      box-shadow: 0px 1px 3px 1px rgba(0, 0, 0, 0.15);\n",
              "      filter: drop-shadow(0px 1px 2px rgba(0, 0, 0, 0.3));\n",
              "      fill: #FFFFFF;\n",
              "    }\n",
              "  </style>\n",
              "\n",
              "      <script>\n",
              "        const buttonEl =\n",
              "          document.querySelector('#df-ec4c1c66-32da-4738-9865-4cdd78c3c2b1 button.colab-df-convert');\n",
              "        buttonEl.style.display =\n",
              "          google.colab.kernel.accessAllowed ? 'block' : 'none';\n",
              "\n",
              "        async function convertToInteractive(key) {\n",
              "          const element = document.querySelector('#df-ec4c1c66-32da-4738-9865-4cdd78c3c2b1');\n",
              "          const dataTable =\n",
              "            await google.colab.kernel.invokeFunction('convertToInteractive',\n",
              "                                                     [key], {});\n",
              "          if (!dataTable) return;\n",
              "\n",
              "          const docLinkHtml = 'Like what you see? Visit the ' +\n",
              "            '<a target=\"_blank\" href=https://colab.research.google.com/notebooks/data_table.ipynb>data table notebook</a>'\n",
              "            + ' to learn more about interactive tables.';\n",
              "          element.innerHTML = '';\n",
              "          dataTable['output_type'] = 'display_data';\n",
              "          await google.colab.output.renderOutput(dataTable, element);\n",
              "          const docLink = document.createElement('div');\n",
              "          docLink.innerHTML = docLinkHtml;\n",
              "          element.appendChild(docLink);\n",
              "        }\n",
              "      </script>\n",
              "    </div>\n",
              "  </div>\n",
              "  "
            ]
          },
          "metadata": {},
          "execution_count": 627
        }
      ],
      "source": [
        "recs = pd.DataFrame({'col_id': top_cols})\n",
        "recs['item_id'] = recs['col_id'].map(lightfm_mapping['items_inv_mapping'].get)\n",
        "recs['title'] = recs['item_id'].map(item_name_mapper)\n",
        "recs"
      ]
    },
    {
      "cell_type": "code",
      "execution_count": 628,
      "metadata": {
        "id": "9ad121d6",
        "colab": {
          "base_uri": "https://localhost:8080/"
        },
        "outputId": "8e09c239-b229-4ffc-dc2f-c40c6c83d929"
      },
      "outputs": [
        {
          "output_type": "execute_result",
          "data": {
            "text/plain": [
              "44819"
            ]
          },
          "metadata": {},
          "execution_count": 628
        }
      ],
      "source": [
        "# let's make predictions for all users in test\n",
        "test_preds = pd.DataFrame({\n",
        "    'user_id': local_test['user_id'].unique()\n",
        "})\n",
        "len(test_preds)"
      ]
    },
    {
      "cell_type": "code",
      "execution_count": 629,
      "metadata": {
        "id": "909bb3d6"
      },
      "outputs": [],
      "source": [
        "def generate_lightfm_recs_mapper(\n",
        "        model: object,\n",
        "        item_ids: list,\n",
        "        known_items: dict,\n",
        "        user_features: list,\n",
        "        item_features: list,\n",
        "        N: int,\n",
        "        user_mapping: dict,\n",
        "        item_inv_mapping: dict,\n",
        "        num_threads: int = 4\n",
        "        ):\n",
        "    def _recs_mapper(user):\n",
        "        user_id = user_mapping[user]\n",
        "        recs = model.predict(\n",
        "            user_id,\n",
        "            item_ids,\n",
        "            user_features = user_features,\n",
        "            item_features = item_features,\n",
        "            num_threads = num_threads)\n",
        "        \n",
        "        additional_N = len(known_items[user_id]) if user_id in known_items else 0\n",
        "        total_N = N + additional_N\n",
        "        top_cols = np.argpartition(recs, -np.arange(total_N))[-total_N:][::-1]\n",
        "        \n",
        "        final_recs = [item_inv_mapping[item] for item in top_cols]\n",
        "        if additional_N > 0:\n",
        "            filter_items = known_items[user_id]\n",
        "            final_recs = [item for item in final_recs if item not in filter_items]\n",
        "        return final_recs[:N]\n",
        "    return _recs_mapper"
      ]
    },
    {
      "cell_type": "code",
      "execution_count": 630,
      "metadata": {
        "id": "b93152f9"
      },
      "outputs": [],
      "source": [
        "mapper = generate_lightfm_recs_mapper(\n",
        "    lfm_model, \n",
        "    item_ids = all_cols, \n",
        "    known_items = seen_local_train,\n",
        "    N = top_N,\n",
        "    user_features = None, \n",
        "    item_features = None, \n",
        "    user_mapping = lightfm_mapping['users_mapping'],\n",
        "    item_inv_mapping = lightfm_mapping['items_inv_mapping'],\n",
        "    num_threads = 20\n",
        ")"
      ]
    },
    {
      "cell_type": "code",
      "execution_count": 631,
      "metadata": {
        "id": "2079dbb2"
      },
      "outputs": [],
      "source": [
        "test_preds['movie_id'] = test_preds['user_id'].map(mapper)"
      ]
    },
    {
      "cell_type": "code",
      "execution_count": 632,
      "metadata": {
        "id": "6b2a8efb",
        "colab": {
          "base_uri": "https://localhost:8080/"
        },
        "outputId": "db708d6f-5cb9-4402-916a-5d43a8cbcd51"
      },
      "outputs": [
        {
          "output_type": "execute_result",
          "data": {
            "text/plain": [
              "(448190, 2)"
            ]
          },
          "metadata": {},
          "execution_count": 632
        }
      ],
      "source": [
        "test_preds = test_preds.explode('movie_id')\n",
        "test_preds.shape"
      ]
    },
    {
      "cell_type": "code",
      "execution_count": 633,
      "metadata": {
        "id": "11c4d180"
      },
      "outputs": [],
      "source": [
        "test_preds['rank'] = test_preds.groupby('user_id').cumcount() + 1 "
      ]
    },
    {
      "cell_type": "code",
      "execution_count": 634,
      "metadata": {
        "id": "c4c26ad9",
        "colab": {
          "base_uri": "https://localhost:8080/",
          "height": 206
        },
        "outputId": "5bc8c515-b6da-44bc-d9c4-551498096408"
      },
      "outputs": [
        {
          "output_type": "execute_result",
          "data": {
            "text/plain": [
              "     user_id                              movie_id  rank\n",
              "0  202914785  91f9d892-a508-4962-91e9-abacd93e0830     1\n",
              "0  202914785  0f33af53-5d2d-4c82-a2e9-307fcabdcb2d     2\n",
              "0  202914785  42f5cb31-f333-426c-a95b-8e106741de38     3\n",
              "0  202914785  955c3acd-c6d0-4ae4-89e4-3e0b067071e9     4\n",
              "0  202914785  d722f09d-a99d-4c7f-853c-0c77fcd45f35     5"
            ],
            "text/html": [
              "\n",
              "  <div id=\"df-9356a825-d2dc-459b-8288-d0bc32af7e3e\">\n",
              "    <div class=\"colab-df-container\">\n",
              "      <div>\n",
              "<style scoped>\n",
              "    .dataframe tbody tr th:only-of-type {\n",
              "        vertical-align: middle;\n",
              "    }\n",
              "\n",
              "    .dataframe tbody tr th {\n",
              "        vertical-align: top;\n",
              "    }\n",
              "\n",
              "    .dataframe thead th {\n",
              "        text-align: right;\n",
              "    }\n",
              "</style>\n",
              "<table border=\"1\" class=\"dataframe\">\n",
              "  <thead>\n",
              "    <tr style=\"text-align: right;\">\n",
              "      <th></th>\n",
              "      <th>user_id</th>\n",
              "      <th>movie_id</th>\n",
              "      <th>rank</th>\n",
              "    </tr>\n",
              "  </thead>\n",
              "  <tbody>\n",
              "    <tr>\n",
              "      <th>0</th>\n",
              "      <td>202914785</td>\n",
              "      <td>91f9d892-a508-4962-91e9-abacd93e0830</td>\n",
              "      <td>1</td>\n",
              "    </tr>\n",
              "    <tr>\n",
              "      <th>0</th>\n",
              "      <td>202914785</td>\n",
              "      <td>0f33af53-5d2d-4c82-a2e9-307fcabdcb2d</td>\n",
              "      <td>2</td>\n",
              "    </tr>\n",
              "    <tr>\n",
              "      <th>0</th>\n",
              "      <td>202914785</td>\n",
              "      <td>42f5cb31-f333-426c-a95b-8e106741de38</td>\n",
              "      <td>3</td>\n",
              "    </tr>\n",
              "    <tr>\n",
              "      <th>0</th>\n",
              "      <td>202914785</td>\n",
              "      <td>955c3acd-c6d0-4ae4-89e4-3e0b067071e9</td>\n",
              "      <td>4</td>\n",
              "    </tr>\n",
              "    <tr>\n",
              "      <th>0</th>\n",
              "      <td>202914785</td>\n",
              "      <td>d722f09d-a99d-4c7f-853c-0c77fcd45f35</td>\n",
              "      <td>5</td>\n",
              "    </tr>\n",
              "  </tbody>\n",
              "</table>\n",
              "</div>\n",
              "      <button class=\"colab-df-convert\" onclick=\"convertToInteractive('df-9356a825-d2dc-459b-8288-d0bc32af7e3e')\"\n",
              "              title=\"Convert this dataframe to an interactive table.\"\n",
              "              style=\"display:none;\">\n",
              "        \n",
              "  <svg xmlns=\"http://www.w3.org/2000/svg\" height=\"24px\"viewBox=\"0 0 24 24\"\n",
              "       width=\"24px\">\n",
              "    <path d=\"M0 0h24v24H0V0z\" fill=\"none\"/>\n",
              "    <path d=\"M18.56 5.44l.94 2.06.94-2.06 2.06-.94-2.06-.94-.94-2.06-.94 2.06-2.06.94zm-11 1L8.5 8.5l.94-2.06 2.06-.94-2.06-.94L8.5 2.5l-.94 2.06-2.06.94zm10 10l.94 2.06.94-2.06 2.06-.94-2.06-.94-.94-2.06-.94 2.06-2.06.94z\"/><path d=\"M17.41 7.96l-1.37-1.37c-.4-.4-.92-.59-1.43-.59-.52 0-1.04.2-1.43.59L10.3 9.45l-7.72 7.72c-.78.78-.78 2.05 0 2.83L4 21.41c.39.39.9.59 1.41.59.51 0 1.02-.2 1.41-.59l7.78-7.78 2.81-2.81c.8-.78.8-2.07 0-2.86zM5.41 20L4 18.59l7.72-7.72 1.47 1.35L5.41 20z\"/>\n",
              "  </svg>\n",
              "      </button>\n",
              "      \n",
              "  <style>\n",
              "    .colab-df-container {\n",
              "      display:flex;\n",
              "      flex-wrap:wrap;\n",
              "      gap: 12px;\n",
              "    }\n",
              "\n",
              "    .colab-df-convert {\n",
              "      background-color: #E8F0FE;\n",
              "      border: none;\n",
              "      border-radius: 50%;\n",
              "      cursor: pointer;\n",
              "      display: none;\n",
              "      fill: #1967D2;\n",
              "      height: 32px;\n",
              "      padding: 0 0 0 0;\n",
              "      width: 32px;\n",
              "    }\n",
              "\n",
              "    .colab-df-convert:hover {\n",
              "      background-color: #E2EBFA;\n",
              "      box-shadow: 0px 1px 2px rgba(60, 64, 67, 0.3), 0px 1px 3px 1px rgba(60, 64, 67, 0.15);\n",
              "      fill: #174EA6;\n",
              "    }\n",
              "\n",
              "    [theme=dark] .colab-df-convert {\n",
              "      background-color: #3B4455;\n",
              "      fill: #D2E3FC;\n",
              "    }\n",
              "\n",
              "    [theme=dark] .colab-df-convert:hover {\n",
              "      background-color: #434B5C;\n",
              "      box-shadow: 0px 1px 3px 1px rgba(0, 0, 0, 0.15);\n",
              "      filter: drop-shadow(0px 1px 2px rgba(0, 0, 0, 0.3));\n",
              "      fill: #FFFFFF;\n",
              "    }\n",
              "  </style>\n",
              "\n",
              "      <script>\n",
              "        const buttonEl =\n",
              "          document.querySelector('#df-9356a825-d2dc-459b-8288-d0bc32af7e3e button.colab-df-convert');\n",
              "        buttonEl.style.display =\n",
              "          google.colab.kernel.accessAllowed ? 'block' : 'none';\n",
              "\n",
              "        async function convertToInteractive(key) {\n",
              "          const element = document.querySelector('#df-9356a825-d2dc-459b-8288-d0bc32af7e3e');\n",
              "          const dataTable =\n",
              "            await google.colab.kernel.invokeFunction('convertToInteractive',\n",
              "                                                     [key], {});\n",
              "          if (!dataTable) return;\n",
              "\n",
              "          const docLinkHtml = 'Like what you see? Visit the ' +\n",
              "            '<a target=\"_blank\" href=https://colab.research.google.com/notebooks/data_table.ipynb>data table notebook</a>'\n",
              "            + ' to learn more about interactive tables.';\n",
              "          element.innerHTML = '';\n",
              "          dataTable['output_type'] = 'display_data';\n",
              "          await google.colab.output.renderOutput(dataTable, element);\n",
              "          const docLink = document.createElement('div');\n",
              "          docLink.innerHTML = docLinkHtml;\n",
              "          element.appendChild(docLink);\n",
              "        }\n",
              "      </script>\n",
              "    </div>\n",
              "  </div>\n",
              "  "
            ]
          },
          "metadata": {},
          "execution_count": 634
        }
      ],
      "source": [
        "test_preds.head()"
      ]
    },
    {
      "cell_type": "code",
      "execution_count": 635,
      "metadata": {
        "id": "726d50ad",
        "colab": {
          "base_uri": "https://localhost:8080/",
          "height": 206
        },
        "outputId": "3daf2141-6484-45b1-ed8e-d8550ff421a6"
      },
      "outputs": [
        {
          "output_type": "execute_result",
          "data": {
            "text/plain": [
              "     user_id                              movie_id  rank  \\\n",
              "0  202914785  91f9d892-a508-4962-91e9-abacd93e0830     1   \n",
              "0  202914785  0f33af53-5d2d-4c82-a2e9-307fcabdcb2d     2   \n",
              "0  202914785  42f5cb31-f333-426c-a95b-8e106741de38     3   \n",
              "0  202914785  955c3acd-c6d0-4ae4-89e4-3e0b067071e9     4   \n",
              "0  202914785  d722f09d-a99d-4c7f-853c-0c77fcd45f35     5   \n",
              "\n",
              "                                           item_name  \n",
              "0                                               1703  \n",
              "0                                             Кунгур  \n",
              "0                                              Вышка  \n",
              "0  Что делать женщине, если у неё два любовника, ...  \n",
              "0                                    Барбоскины Team  "
            ],
            "text/html": [
              "\n",
              "  <div id=\"df-fb47f67d-a6b0-4da9-aade-287f5b44cf50\">\n",
              "    <div class=\"colab-df-container\">\n",
              "      <div>\n",
              "<style scoped>\n",
              "    .dataframe tbody tr th:only-of-type {\n",
              "        vertical-align: middle;\n",
              "    }\n",
              "\n",
              "    .dataframe tbody tr th {\n",
              "        vertical-align: top;\n",
              "    }\n",
              "\n",
              "    .dataframe thead th {\n",
              "        text-align: right;\n",
              "    }\n",
              "</style>\n",
              "<table border=\"1\" class=\"dataframe\">\n",
              "  <thead>\n",
              "    <tr style=\"text-align: right;\">\n",
              "      <th></th>\n",
              "      <th>user_id</th>\n",
              "      <th>movie_id</th>\n",
              "      <th>rank</th>\n",
              "      <th>item_name</th>\n",
              "    </tr>\n",
              "  </thead>\n",
              "  <tbody>\n",
              "    <tr>\n",
              "      <th>0</th>\n",
              "      <td>202914785</td>\n",
              "      <td>91f9d892-a508-4962-91e9-abacd93e0830</td>\n",
              "      <td>1</td>\n",
              "      <td>1703</td>\n",
              "    </tr>\n",
              "    <tr>\n",
              "      <th>0</th>\n",
              "      <td>202914785</td>\n",
              "      <td>0f33af53-5d2d-4c82-a2e9-307fcabdcb2d</td>\n",
              "      <td>2</td>\n",
              "      <td>Кунгур</td>\n",
              "    </tr>\n",
              "    <tr>\n",
              "      <th>0</th>\n",
              "      <td>202914785</td>\n",
              "      <td>42f5cb31-f333-426c-a95b-8e106741de38</td>\n",
              "      <td>3</td>\n",
              "      <td>Вышка</td>\n",
              "    </tr>\n",
              "    <tr>\n",
              "      <th>0</th>\n",
              "      <td>202914785</td>\n",
              "      <td>955c3acd-c6d0-4ae4-89e4-3e0b067071e9</td>\n",
              "      <td>4</td>\n",
              "      <td>Что делать женщине, если у неё два любовника, ...</td>\n",
              "    </tr>\n",
              "    <tr>\n",
              "      <th>0</th>\n",
              "      <td>202914785</td>\n",
              "      <td>d722f09d-a99d-4c7f-853c-0c77fcd45f35</td>\n",
              "      <td>5</td>\n",
              "      <td>Барбоскины Team</td>\n",
              "    </tr>\n",
              "  </tbody>\n",
              "</table>\n",
              "</div>\n",
              "      <button class=\"colab-df-convert\" onclick=\"convertToInteractive('df-fb47f67d-a6b0-4da9-aade-287f5b44cf50')\"\n",
              "              title=\"Convert this dataframe to an interactive table.\"\n",
              "              style=\"display:none;\">\n",
              "        \n",
              "  <svg xmlns=\"http://www.w3.org/2000/svg\" height=\"24px\"viewBox=\"0 0 24 24\"\n",
              "       width=\"24px\">\n",
              "    <path d=\"M0 0h24v24H0V0z\" fill=\"none\"/>\n",
              "    <path d=\"M18.56 5.44l.94 2.06.94-2.06 2.06-.94-2.06-.94-.94-2.06-.94 2.06-2.06.94zm-11 1L8.5 8.5l.94-2.06 2.06-.94-2.06-.94L8.5 2.5l-.94 2.06-2.06.94zm10 10l.94 2.06.94-2.06 2.06-.94-2.06-.94-.94-2.06-.94 2.06-2.06.94z\"/><path d=\"M17.41 7.96l-1.37-1.37c-.4-.4-.92-.59-1.43-.59-.52 0-1.04.2-1.43.59L10.3 9.45l-7.72 7.72c-.78.78-.78 2.05 0 2.83L4 21.41c.39.39.9.59 1.41.59.51 0 1.02-.2 1.41-.59l7.78-7.78 2.81-2.81c.8-.78.8-2.07 0-2.86zM5.41 20L4 18.59l7.72-7.72 1.47 1.35L5.41 20z\"/>\n",
              "  </svg>\n",
              "      </button>\n",
              "      \n",
              "  <style>\n",
              "    .colab-df-container {\n",
              "      display:flex;\n",
              "      flex-wrap:wrap;\n",
              "      gap: 12px;\n",
              "    }\n",
              "\n",
              "    .colab-df-convert {\n",
              "      background-color: #E8F0FE;\n",
              "      border: none;\n",
              "      border-radius: 50%;\n",
              "      cursor: pointer;\n",
              "      display: none;\n",
              "      fill: #1967D2;\n",
              "      height: 32px;\n",
              "      padding: 0 0 0 0;\n",
              "      width: 32px;\n",
              "    }\n",
              "\n",
              "    .colab-df-convert:hover {\n",
              "      background-color: #E2EBFA;\n",
              "      box-shadow: 0px 1px 2px rgba(60, 64, 67, 0.3), 0px 1px 3px 1px rgba(60, 64, 67, 0.15);\n",
              "      fill: #174EA6;\n",
              "    }\n",
              "\n",
              "    [theme=dark] .colab-df-convert {\n",
              "      background-color: #3B4455;\n",
              "      fill: #D2E3FC;\n",
              "    }\n",
              "\n",
              "    [theme=dark] .colab-df-convert:hover {\n",
              "      background-color: #434B5C;\n",
              "      box-shadow: 0px 1px 3px 1px rgba(0, 0, 0, 0.15);\n",
              "      filter: drop-shadow(0px 1px 2px rgba(0, 0, 0, 0.3));\n",
              "      fill: #FFFFFF;\n",
              "    }\n",
              "  </style>\n",
              "\n",
              "      <script>\n",
              "        const buttonEl =\n",
              "          document.querySelector('#df-fb47f67d-a6b0-4da9-aade-287f5b44cf50 button.colab-df-convert');\n",
              "        buttonEl.style.display =\n",
              "          google.colab.kernel.accessAllowed ? 'block' : 'none';\n",
              "\n",
              "        async function convertToInteractive(key) {\n",
              "          const element = document.querySelector('#df-fb47f67d-a6b0-4da9-aade-287f5b44cf50');\n",
              "          const dataTable =\n",
              "            await google.colab.kernel.invokeFunction('convertToInteractive',\n",
              "                                                     [key], {});\n",
              "          if (!dataTable) return;\n",
              "\n",
              "          const docLinkHtml = 'Like what you see? Visit the ' +\n",
              "            '<a target=\"_blank\" href=https://colab.research.google.com/notebooks/data_table.ipynb>data table notebook</a>'\n",
              "            + ' to learn more about interactive tables.';\n",
              "          element.innerHTML = '';\n",
              "          dataTable['output_type'] = 'display_data';\n",
              "          await google.colab.output.renderOutput(dataTable, element);\n",
              "          const docLink = document.createElement('div');\n",
              "          docLink.innerHTML = docLinkHtml;\n",
              "          element.appendChild(docLink);\n",
              "        }\n",
              "      </script>\n",
              "    </div>\n",
              "  </div>\n",
              "  "
            ]
          },
          "metadata": {},
          "execution_count": 635
        }
      ],
      "source": [
        "test_preds['item_name'] = test_preds['movie_id'].map(item_name_mapper)\n",
        "test_preds.head()"
      ]
    },
    {
      "cell_type": "code",
      "execution_count": 636,
      "metadata": {
        "id": "d9ff3535",
        "colab": {
          "base_uri": "https://localhost:8080/"
        },
        "outputId": "31c80eab-545d-442b-96e8-235ddd5f5d17"
      },
      "outputs": [
        {
          "output_type": "execute_result",
          "data": {
            "text/plain": [
              "115"
            ]
          },
          "metadata": {},
          "execution_count": 636
        }
      ],
      "source": [
        "# sense check for diversity of recommendations\n",
        "test_preds.movie_id.nunique()"
      ]
    },
    {
      "cell_type": "markdown",
      "metadata": {
        "id": "DoX64HAayhkP"
      },
      "source": [
        "### 3.1.2 Estimate perfomance of LightFM"
      ]
    },
    {
      "cell_type": "code",
      "execution_count": 637,
      "metadata": {
        "id": "EKqXcExJDTR2"
      },
      "outputs": [],
      "source": [
        "rank = test_preds.groupby('user_id')['rank'].apply(lambda x: np.array(x, dtype=int))\n",
        "rank = rank.apply(lambda x: list(np.flip(x))).values\n",
        "\n",
        "rank_true = test_preds.merge(interactions_filtered, on=['user_id', 'movie_id'], how='left')\n",
        "rank_true['last_watch_dt'] = rank_true['last_watch_dt'].fillna(0)\n",
        "rank_true.loc[rank_true.last_watch_dt!=0, 'last_watch_dt'] = 1\n",
        "rank_true = rank_true.groupby('user_id')['last_watch_dt'].apply(lambda x: list(np.array(x, dtype=int))).values"
      ]
    },
    {
      "cell_type": "code",
      "execution_count": 638,
      "metadata": {
        "id": "DOhJMQSp8Q7J"
      },
      "outputs": [],
      "source": [
        "y_pred = test_preds.groupby('user_id')['movie_id'].apply(lambda x: np.array(x)).values\n",
        "y_true = local_test.groupby('user_id')['movie_id'].apply(lambda x: np.array(x)).values"
      ]
    },
    {
      "cell_type": "code",
      "execution_count": 639,
      "metadata": {
        "id": "YQr0KJk-2KOv"
      },
      "outputs": [],
      "source": [
        "ap, ndcg = [], []\n",
        "\n",
        "for i, a in zip(y_true, y_pred):\n",
        "    ap.append(average_prec_k(i, a, k = 10))\n",
        "\n",
        "for i, a in zip(rank_true, rank):\n",
        "    ndcg.append(ndcg_score([i[:len(a)]], [a], k=10))\n",
        "\n",
        "print(f'MAP@10 - {np.mean(ap)}\\nNGCD@10 - {np.mean(ndcg)}')"
      ]
    },
    {
      "cell_type": "markdown",
      "metadata": {
        "id": "MMZCVEJ2LVV0"
      },
      "source": [
        "#4. Rankers"
      ]
    },
    {
      "cell_type": "markdown",
      "metadata": {
        "id": "vGxbvCpxa5FN"
      },
      "source": [
        "## 4.1 Data Prep"
      ]
    },
    {
      "cell_type": "code",
      "execution_count": 640,
      "metadata": {
        "id": "iHd0lSx0LhIs",
        "colab": {
          "base_uri": "https://localhost:8080/"
        },
        "outputId": "ee3f0a09-4199-4553-f901-e587df0f1714"
      },
      "outputs": [
        {
          "output_type": "stream",
          "name": "stdout",
          "text": [
            "(10472, 4) (43986, 4)\n"
          ]
        }
      ],
      "source": [
        "positive_preds = pd.merge(test_preds, local_test, how = 'inner', on = ['user_id', 'movie_id'])\n",
        "positive_preds['target'] = 1\n",
        "positive_preds = positive_preds[['user_id', 'movie_id', 'rank', 'target']]\n",
        "\n",
        "\n",
        "negative_preds = pd.merge(test_preds, local_test, how = 'left', on = ['user_id', 'movie_id'])\n",
        "negative_preds = negative_preds.loc[negative_preds['watched_ratio'].isnull()].sample(frac = .1)\n",
        "negative_preds['target'] = 0\n",
        "negative_preds = negative_preds[['user_id', 'movie_id', 'rank', 'target']]\n",
        "\n",
        "print(positive_preds.shape,negative_preds.shape)"
      ]
    },
    {
      "cell_type": "code",
      "execution_count": 641,
      "metadata": {
        "id": "Jq9BS-9HcrdJ"
      },
      "outputs": [],
      "source": [
        "# random split to train ranker\n",
        "train_users, test_users = train_test_split(\n",
        "    local_test['user_id'].unique(),\n",
        "    test_size = .2,\n",
        "    random_state = 96\n",
        "    )"
      ]
    },
    {
      "cell_type": "code",
      "execution_count": 642,
      "metadata": {
        "id": "WGSIBr5Hcrew",
        "colab": {
          "base_uri": "https://localhost:8080/"
        },
        "outputId": "df319591-de78-4bb2-bca1-8ff4a34f821e"
      },
      "outputs": [
        {
          "output_type": "stream",
          "name": "stdout",
          "text": [
            "TRAIN:             user_id      rank    target\n",
            "count     43516.000 43516.000 43516.000\n",
            "mean  154986541.829     5.381     0.192\n",
            "std    97585361.136     2.887     0.394\n",
            "min       57687.000     1.000     0.000\n",
            "25%    23900508.000     3.000     0.000\n",
            "50%   211284119.000     5.000     0.000\n",
            "75%   228363035.500     8.000     0.000\n",
            "max   239438423.000    10.000     1.000 \n",
            ", TEST:             user_id      rank    target\n",
            "count     10942.000 10942.000 10942.000\n",
            "mean  153869560.648     5.404     0.194\n",
            "std    98054691.979     2.891     0.395\n",
            "min       59557.000     1.000     0.000\n",
            "25%    23884333.750     3.000     0.000\n",
            "50%   211286064.500     5.000     0.000\n",
            "75%   228351892.000     8.000     0.000\n",
            "max   239436316.000    10.000     1.000\n"
          ]
        }
      ],
      "source": [
        "cbm_train_set = shuffle(\n",
        "    pd.concat(\n",
        "    [positive_preds.loc[positive_preds['user_id'].isin(train_users)],\n",
        "    negative_preds.loc[negative_preds['user_id'].isin(train_users)]]\n",
        "    )\n",
        ")\n",
        "\n",
        "cbm_test_set = shuffle(\n",
        "    pd.concat(\n",
        "    [positive_preds.loc[positive_preds['user_id'].isin(test_users)],\n",
        "    negative_preds.loc[negative_preds['user_id'].isin(test_users)]]\n",
        "    )\n",
        ")\n",
        "\n",
        "print(f'TRAIN: {cbm_train_set.describe()} \\n, TEST: {cbm_test_set.describe()}')"
      ]
    },
    {
      "cell_type": "code",
      "execution_count": 643,
      "metadata": {
        "id": "oeAcGom2crhA",
        "colab": {
          "base_uri": "https://localhost:8080/"
        },
        "outputId": "1b4279dd-fd7a-436b-9690-3dc95820cff3"
      },
      "outputs": [
        {
          "output_type": "stream",
          "name": "stdout",
          "text": [
            "(43516, 24) (10942, 24)\n"
          ]
        }
      ],
      "source": [
        "cbm_train_set = cbm_train_set.join(clean_movies.set_index('movie_id'), on='movie_id', how='inner')\n",
        "cbm_train_set = cbm_train_set.join(users_data.set_index('user_id'), on='user_id', how='inner')\n",
        "\n",
        "cbm_test_set = cbm_test_set.join(clean_movies.set_index('movie_id'), on='movie_id', how='inner')\n",
        "cbm_test_set = cbm_test_set.join(users_data.set_index('user_id'), on='user_id', how='inner')\n",
        "\n",
        "print(cbm_train_set.shape, cbm_test_set.shape)"
      ]
    },
    {
      "cell_type": "code",
      "execution_count": 644,
      "metadata": {
        "id": "flDNuifQpf30",
        "colab": {
          "base_uri": "https://localhost:8080/",
          "height": 559
        },
        "outputId": "886ab3b9-179a-43c6-f6b9-c479a78e298d"
      },
      "outputs": [
        {
          "output_type": "execute_result",
          "data": {
            "text/plain": [
              "          user_id                              movie_id  rank  target  \\\n",
              "86184      790772  42f5cb31-f333-426c-a95b-8e106741de38     3       0   \n",
              "86190      790772  25ef7e77-d83d-46d1-999a-ca36a045ab9a     8       0   \n",
              "3705       790772  7dcc3cf7-943b-4964-9b86-a7d9ab5c767d     6       1   \n",
              "3706       790772  7dcc3cf7-943b-4964-9b86-a7d9ab5c767d     6       1   \n",
              "296017  228319880  42f5cb31-f333-426c-a95b-8e106741de38     3       0   \n",
              "\n",
              "                         title entity_type  age_rating  duration  avg_watch  \\\n",
              "86184                    Вышка       Фильм      18.000   107.000     66.129   \n",
              "86190                   Химера      Сериал      18.000     0.000     43.811   \n",
              "3705    Три тысячи лет желаний       Фильм      18.000   103.000     62.489   \n",
              "3706    Три тысячи лет желаний       Фильм      18.000   103.000     62.489   \n",
              "296017                   Вышка       Фильм      18.000   107.000     66.129   \n",
              "\n",
              "        median_watch  ...    main_genre          main_actor   main_director  \\\n",
              "86184         82.683  ...      Триллеры  Джеффри Дин Морган      Скотт Манн   \n",
              "86190         51.500  ...  Криминальное      Андрей Смирнов  Душан Глигоров   \n",
              "3705          76.600  ...       Фэнтези      Тильда Суинтон   Джордж Миллер   \n",
              "3706          76.600  ...       Фэнтези      Тильда Суинтон   Джордж Миллер   \n",
              "296017        82.683  ...      Триллеры  Джеффри Дин Морган      Скотт Манн   \n",
              "\n",
              "        main_country released_year released_month         fav_actor  \\\n",
              "86184            США          2022             08      Дэвид Валдес   \n",
              "86190         Россия          2022             09      Дэвид Валдес   \n",
              "3705             США          2022             05      Дэвид Валдес   \n",
              "3706             США          2022             05      Дэвид Валдес   \n",
              "296017           США          2022             08  Геннадий Смирнов   \n",
              "\n",
              "           fav_director fav_country fav_genre  \n",
              "86184          Ник Лэже         США   Боевики  \n",
              "86190          Ник Лэже         США   Боевики  \n",
              "3705           Ник Лэже         США   Боевики  \n",
              "3706           Ник Лэже         США   Боевики  \n",
              "296017  Андрей Либенсон      Россия   Комедии  \n",
              "\n",
              "[5 rows x 24 columns]"
            ],
            "text/html": [
              "\n",
              "  <div id=\"df-ae53eb24-364b-4d0a-9f42-a3d8380ad7b2\">\n",
              "    <div class=\"colab-df-container\">\n",
              "      <div>\n",
              "<style scoped>\n",
              "    .dataframe tbody tr th:only-of-type {\n",
              "        vertical-align: middle;\n",
              "    }\n",
              "\n",
              "    .dataframe tbody tr th {\n",
              "        vertical-align: top;\n",
              "    }\n",
              "\n",
              "    .dataframe thead th {\n",
              "        text-align: right;\n",
              "    }\n",
              "</style>\n",
              "<table border=\"1\" class=\"dataframe\">\n",
              "  <thead>\n",
              "    <tr style=\"text-align: right;\">\n",
              "      <th></th>\n",
              "      <th>user_id</th>\n",
              "      <th>movie_id</th>\n",
              "      <th>rank</th>\n",
              "      <th>target</th>\n",
              "      <th>title</th>\n",
              "      <th>entity_type</th>\n",
              "      <th>age_rating</th>\n",
              "      <th>duration</th>\n",
              "      <th>avg_watch</th>\n",
              "      <th>median_watch</th>\n",
              "      <th>...</th>\n",
              "      <th>main_genre</th>\n",
              "      <th>main_actor</th>\n",
              "      <th>main_director</th>\n",
              "      <th>main_country</th>\n",
              "      <th>released_year</th>\n",
              "      <th>released_month</th>\n",
              "      <th>fav_actor</th>\n",
              "      <th>fav_director</th>\n",
              "      <th>fav_country</th>\n",
              "      <th>fav_genre</th>\n",
              "    </tr>\n",
              "  </thead>\n",
              "  <tbody>\n",
              "    <tr>\n",
              "      <th>86184</th>\n",
              "      <td>790772</td>\n",
              "      <td>42f5cb31-f333-426c-a95b-8e106741de38</td>\n",
              "      <td>3</td>\n",
              "      <td>0</td>\n",
              "      <td>Вышка</td>\n",
              "      <td>Фильм</td>\n",
              "      <td>18.000</td>\n",
              "      <td>107.000</td>\n",
              "      <td>66.129</td>\n",
              "      <td>82.683</td>\n",
              "      <td>...</td>\n",
              "      <td>Триллеры</td>\n",
              "      <td>Джеффри Дин Морган</td>\n",
              "      <td>Скотт Манн</td>\n",
              "      <td>США</td>\n",
              "      <td>2022</td>\n",
              "      <td>08</td>\n",
              "      <td>Дэвид Валдес</td>\n",
              "      <td>Ник Лэже</td>\n",
              "      <td>США</td>\n",
              "      <td>Боевики</td>\n",
              "    </tr>\n",
              "    <tr>\n",
              "      <th>86190</th>\n",
              "      <td>790772</td>\n",
              "      <td>25ef7e77-d83d-46d1-999a-ca36a045ab9a</td>\n",
              "      <td>8</td>\n",
              "      <td>0</td>\n",
              "      <td>Химера</td>\n",
              "      <td>Сериал</td>\n",
              "      <td>18.000</td>\n",
              "      <td>0.000</td>\n",
              "      <td>43.811</td>\n",
              "      <td>51.500</td>\n",
              "      <td>...</td>\n",
              "      <td>Криминальное</td>\n",
              "      <td>Андрей Смирнов</td>\n",
              "      <td>Душан Глигоров</td>\n",
              "      <td>Россия</td>\n",
              "      <td>2022</td>\n",
              "      <td>09</td>\n",
              "      <td>Дэвид Валдес</td>\n",
              "      <td>Ник Лэже</td>\n",
              "      <td>США</td>\n",
              "      <td>Боевики</td>\n",
              "    </tr>\n",
              "    <tr>\n",
              "      <th>3705</th>\n",
              "      <td>790772</td>\n",
              "      <td>7dcc3cf7-943b-4964-9b86-a7d9ab5c767d</td>\n",
              "      <td>6</td>\n",
              "      <td>1</td>\n",
              "      <td>Три тысячи лет желаний</td>\n",
              "      <td>Фильм</td>\n",
              "      <td>18.000</td>\n",
              "      <td>103.000</td>\n",
              "      <td>62.489</td>\n",
              "      <td>76.600</td>\n",
              "      <td>...</td>\n",
              "      <td>Фэнтези</td>\n",
              "      <td>Тильда Суинтон</td>\n",
              "      <td>Джордж Миллер</td>\n",
              "      <td>США</td>\n",
              "      <td>2022</td>\n",
              "      <td>05</td>\n",
              "      <td>Дэвид Валдес</td>\n",
              "      <td>Ник Лэже</td>\n",
              "      <td>США</td>\n",
              "      <td>Боевики</td>\n",
              "    </tr>\n",
              "    <tr>\n",
              "      <th>3706</th>\n",
              "      <td>790772</td>\n",
              "      <td>7dcc3cf7-943b-4964-9b86-a7d9ab5c767d</td>\n",
              "      <td>6</td>\n",
              "      <td>1</td>\n",
              "      <td>Три тысячи лет желаний</td>\n",
              "      <td>Фильм</td>\n",
              "      <td>18.000</td>\n",
              "      <td>103.000</td>\n",
              "      <td>62.489</td>\n",
              "      <td>76.600</td>\n",
              "      <td>...</td>\n",
              "      <td>Фэнтези</td>\n",
              "      <td>Тильда Суинтон</td>\n",
              "      <td>Джордж Миллер</td>\n",
              "      <td>США</td>\n",
              "      <td>2022</td>\n",
              "      <td>05</td>\n",
              "      <td>Дэвид Валдес</td>\n",
              "      <td>Ник Лэже</td>\n",
              "      <td>США</td>\n",
              "      <td>Боевики</td>\n",
              "    </tr>\n",
              "    <tr>\n",
              "      <th>296017</th>\n",
              "      <td>228319880</td>\n",
              "      <td>42f5cb31-f333-426c-a95b-8e106741de38</td>\n",
              "      <td>3</td>\n",
              "      <td>0</td>\n",
              "      <td>Вышка</td>\n",
              "      <td>Фильм</td>\n",
              "      <td>18.000</td>\n",
              "      <td>107.000</td>\n",
              "      <td>66.129</td>\n",
              "      <td>82.683</td>\n",
              "      <td>...</td>\n",
              "      <td>Триллеры</td>\n",
              "      <td>Джеффри Дин Морган</td>\n",
              "      <td>Скотт Манн</td>\n",
              "      <td>США</td>\n",
              "      <td>2022</td>\n",
              "      <td>08</td>\n",
              "      <td>Геннадий Смирнов</td>\n",
              "      <td>Андрей Либенсон</td>\n",
              "      <td>Россия</td>\n",
              "      <td>Комедии</td>\n",
              "    </tr>\n",
              "  </tbody>\n",
              "</table>\n",
              "<p>5 rows × 24 columns</p>\n",
              "</div>\n",
              "      <button class=\"colab-df-convert\" onclick=\"convertToInteractive('df-ae53eb24-364b-4d0a-9f42-a3d8380ad7b2')\"\n",
              "              title=\"Convert this dataframe to an interactive table.\"\n",
              "              style=\"display:none;\">\n",
              "        \n",
              "  <svg xmlns=\"http://www.w3.org/2000/svg\" height=\"24px\"viewBox=\"0 0 24 24\"\n",
              "       width=\"24px\">\n",
              "    <path d=\"M0 0h24v24H0V0z\" fill=\"none\"/>\n",
              "    <path d=\"M18.56 5.44l.94 2.06.94-2.06 2.06-.94-2.06-.94-.94-2.06-.94 2.06-2.06.94zm-11 1L8.5 8.5l.94-2.06 2.06-.94-2.06-.94L8.5 2.5l-.94 2.06-2.06.94zm10 10l.94 2.06.94-2.06 2.06-.94-2.06-.94-.94-2.06-.94 2.06-2.06.94z\"/><path d=\"M17.41 7.96l-1.37-1.37c-.4-.4-.92-.59-1.43-.59-.52 0-1.04.2-1.43.59L10.3 9.45l-7.72 7.72c-.78.78-.78 2.05 0 2.83L4 21.41c.39.39.9.59 1.41.59.51 0 1.02-.2 1.41-.59l7.78-7.78 2.81-2.81c.8-.78.8-2.07 0-2.86zM5.41 20L4 18.59l7.72-7.72 1.47 1.35L5.41 20z\"/>\n",
              "  </svg>\n",
              "      </button>\n",
              "      \n",
              "  <style>\n",
              "    .colab-df-container {\n",
              "      display:flex;\n",
              "      flex-wrap:wrap;\n",
              "      gap: 12px;\n",
              "    }\n",
              "\n",
              "    .colab-df-convert {\n",
              "      background-color: #E8F0FE;\n",
              "      border: none;\n",
              "      border-radius: 50%;\n",
              "      cursor: pointer;\n",
              "      display: none;\n",
              "      fill: #1967D2;\n",
              "      height: 32px;\n",
              "      padding: 0 0 0 0;\n",
              "      width: 32px;\n",
              "    }\n",
              "\n",
              "    .colab-df-convert:hover {\n",
              "      background-color: #E2EBFA;\n",
              "      box-shadow: 0px 1px 2px rgba(60, 64, 67, 0.3), 0px 1px 3px 1px rgba(60, 64, 67, 0.15);\n",
              "      fill: #174EA6;\n",
              "    }\n",
              "\n",
              "    [theme=dark] .colab-df-convert {\n",
              "      background-color: #3B4455;\n",
              "      fill: #D2E3FC;\n",
              "    }\n",
              "\n",
              "    [theme=dark] .colab-df-convert:hover {\n",
              "      background-color: #434B5C;\n",
              "      box-shadow: 0px 1px 3px 1px rgba(0, 0, 0, 0.15);\n",
              "      filter: drop-shadow(0px 1px 2px rgba(0, 0, 0, 0.3));\n",
              "      fill: #FFFFFF;\n",
              "    }\n",
              "  </style>\n",
              "\n",
              "      <script>\n",
              "        const buttonEl =\n",
              "          document.querySelector('#df-ae53eb24-364b-4d0a-9f42-a3d8380ad7b2 button.colab-df-convert');\n",
              "        buttonEl.style.display =\n",
              "          google.colab.kernel.accessAllowed ? 'block' : 'none';\n",
              "\n",
              "        async function convertToInteractive(key) {\n",
              "          const element = document.querySelector('#df-ae53eb24-364b-4d0a-9f42-a3d8380ad7b2');\n",
              "          const dataTable =\n",
              "            await google.colab.kernel.invokeFunction('convertToInteractive',\n",
              "                                                     [key], {});\n",
              "          if (!dataTable) return;\n",
              "\n",
              "          const docLinkHtml = 'Like what you see? Visit the ' +\n",
              "            '<a target=\"_blank\" href=https://colab.research.google.com/notebooks/data_table.ipynb>data table notebook</a>'\n",
              "            + ' to learn more about interactive tables.';\n",
              "          element.innerHTML = '';\n",
              "          dataTable['output_type'] = 'display_data';\n",
              "          await google.colab.output.renderOutput(dataTable, element);\n",
              "          const docLink = document.createElement('div');\n",
              "          docLink.innerHTML = docLinkHtml;\n",
              "          element.appendChild(docLink);\n",
              "        }\n",
              "      </script>\n",
              "    </div>\n",
              "  </div>\n",
              "  "
            ]
          },
          "metadata": {},
          "execution_count": 644
        }
      ],
      "source": [
        "cbm_train_set.head()"
      ]
    },
    {
      "cell_type": "code",
      "execution_count": 645,
      "metadata": {
        "id": "9HohR1H1pmPI",
        "colab": {
          "base_uri": "https://localhost:8080/"
        },
        "outputId": "a4991a98-5e01-4010-f518-4d1d22a3717d"
      },
      "outputs": [
        {
          "output_type": "execute_result",
          "data": {
            "text/plain": [
              "Index(['user_id', 'movie_id', 'rank', 'target', 'title', 'entity_type',\n",
              "       'age_rating', 'duration', 'avg_watch', 'median_watch', 'popularity',\n",
              "       'rewatches', 'duration_est', 'watched_ratio', 'main_genre',\n",
              "       'main_actor', 'main_director', 'main_country', 'released_year',\n",
              "       'released_month', 'fav_actor', 'fav_director', 'fav_country',\n",
              "       'fav_genre'],\n",
              "      dtype='object')"
            ]
          },
          "metadata": {},
          "execution_count": 645
        }
      ],
      "source": [
        "cbm_train_set.columns"
      ]
    },
    {
      "cell_type": "code",
      "execution_count": 646,
      "metadata": {
        "id": "uAoy3yyQg8nk",
        "colab": {
          "base_uri": "https://localhost:8080/"
        },
        "outputId": "4c77952c-5aa2-4a9b-bf88-5f08b5d0fd80"
      },
      "outputs": [
        {
          "output_type": "stream",
          "name": "stdout",
          "text": [
            "(43516, 19) (10942, 19)\n"
          ]
        }
      ],
      "source": [
        "ID_COLS = ['user_id', 'movie_id']\n",
        "TARGET = ['target']\n",
        "CATEGORICAL_COLS = ['entity_type', 'main_genre', 'main_actor', 'main_director',\n",
        "                    'main_country', 'fav_actor', 'fav_director', 'fav_country',\n",
        "                    'fav_genre']\n",
        "DROP_COLS = ['title', 'duration_est']\n",
        "\n",
        "X_train, y_train = cbm_train_set.drop(ID_COLS + DROP_COLS + TARGET, axis = 1), cbm_train_set[TARGET]\n",
        "X_test, y_test = cbm_test_set.drop(ID_COLS + DROP_COLS + TARGET, axis = 1), cbm_test_set[TARGET]\n",
        "print(X_train.shape, X_test.shape)"
      ]
    },
    {
      "cell_type": "code",
      "execution_count": 647,
      "metadata": {
        "id": "9uB6bwArrxC7",
        "colab": {
          "base_uri": "https://localhost:8080/",
          "height": 357
        },
        "outputId": "74ab7503-8892-4fa5-ac1a-16e1da5984fd"
      },
      "outputs": [
        {
          "output_type": "execute_result",
          "data": {
            "text/plain": [
              "        rank entity_type  age_rating  duration  avg_watch  median_watch  \\\n",
              "86184      3       Фильм      18.000   107.000     66.129        82.683   \n",
              "86190      8      Сериал      18.000     0.000     43.811        51.500   \n",
              "3705       6       Фильм      18.000   103.000     62.489        76.600   \n",
              "3706       6       Фильм      18.000   103.000     62.489        76.600   \n",
              "296017     3       Фильм      18.000   107.000     66.129        82.683   \n",
              "\n",
              "        popularity  rewatches  watched_ratio    main_genre  \\\n",
              "86184         8385      1.307          0.618      Триллеры   \n",
              "86190         4214      1.257          0.960  Криминальное   \n",
              "3705          7735      1.313          0.607       Фэнтези   \n",
              "3706          7735      1.313          0.607       Фэнтези   \n",
              "296017        8385      1.307          0.618      Триллеры   \n",
              "\n",
              "                main_actor   main_director main_country released_year  \\\n",
              "86184   Джеффри Дин Морган      Скотт Манн          США          2022   \n",
              "86190       Андрей Смирнов  Душан Глигоров       Россия          2022   \n",
              "3705        Тильда Суинтон   Джордж Миллер          США          2022   \n",
              "3706        Тильда Суинтон   Джордж Миллер          США          2022   \n",
              "296017  Джеффри Дин Морган      Скотт Манн          США          2022   \n",
              "\n",
              "       released_month         fav_actor     fav_director fav_country fav_genre  \n",
              "86184              08      Дэвид Валдес         Ник Лэже         США   Боевики  \n",
              "86190              09      Дэвид Валдес         Ник Лэже         США   Боевики  \n",
              "3705               05      Дэвид Валдес         Ник Лэже         США   Боевики  \n",
              "3706               05      Дэвид Валдес         Ник Лэже         США   Боевики  \n",
              "296017             08  Геннадий Смирнов  Андрей Либенсон      Россия   Комедии  "
            ],
            "text/html": [
              "\n",
              "  <div id=\"df-e9f0060d-5092-4807-b959-09e0e3ecdee8\">\n",
              "    <div class=\"colab-df-container\">\n",
              "      <div>\n",
              "<style scoped>\n",
              "    .dataframe tbody tr th:only-of-type {\n",
              "        vertical-align: middle;\n",
              "    }\n",
              "\n",
              "    .dataframe tbody tr th {\n",
              "        vertical-align: top;\n",
              "    }\n",
              "\n",
              "    .dataframe thead th {\n",
              "        text-align: right;\n",
              "    }\n",
              "</style>\n",
              "<table border=\"1\" class=\"dataframe\">\n",
              "  <thead>\n",
              "    <tr style=\"text-align: right;\">\n",
              "      <th></th>\n",
              "      <th>rank</th>\n",
              "      <th>entity_type</th>\n",
              "      <th>age_rating</th>\n",
              "      <th>duration</th>\n",
              "      <th>avg_watch</th>\n",
              "      <th>median_watch</th>\n",
              "      <th>popularity</th>\n",
              "      <th>rewatches</th>\n",
              "      <th>watched_ratio</th>\n",
              "      <th>main_genre</th>\n",
              "      <th>main_actor</th>\n",
              "      <th>main_director</th>\n",
              "      <th>main_country</th>\n",
              "      <th>released_year</th>\n",
              "      <th>released_month</th>\n",
              "      <th>fav_actor</th>\n",
              "      <th>fav_director</th>\n",
              "      <th>fav_country</th>\n",
              "      <th>fav_genre</th>\n",
              "    </tr>\n",
              "  </thead>\n",
              "  <tbody>\n",
              "    <tr>\n",
              "      <th>86184</th>\n",
              "      <td>3</td>\n",
              "      <td>Фильм</td>\n",
              "      <td>18.000</td>\n",
              "      <td>107.000</td>\n",
              "      <td>66.129</td>\n",
              "      <td>82.683</td>\n",
              "      <td>8385</td>\n",
              "      <td>1.307</td>\n",
              "      <td>0.618</td>\n",
              "      <td>Триллеры</td>\n",
              "      <td>Джеффри Дин Морган</td>\n",
              "      <td>Скотт Манн</td>\n",
              "      <td>США</td>\n",
              "      <td>2022</td>\n",
              "      <td>08</td>\n",
              "      <td>Дэвид Валдес</td>\n",
              "      <td>Ник Лэже</td>\n",
              "      <td>США</td>\n",
              "      <td>Боевики</td>\n",
              "    </tr>\n",
              "    <tr>\n",
              "      <th>86190</th>\n",
              "      <td>8</td>\n",
              "      <td>Сериал</td>\n",
              "      <td>18.000</td>\n",
              "      <td>0.000</td>\n",
              "      <td>43.811</td>\n",
              "      <td>51.500</td>\n",
              "      <td>4214</td>\n",
              "      <td>1.257</td>\n",
              "      <td>0.960</td>\n",
              "      <td>Криминальное</td>\n",
              "      <td>Андрей Смирнов</td>\n",
              "      <td>Душан Глигоров</td>\n",
              "      <td>Россия</td>\n",
              "      <td>2022</td>\n",
              "      <td>09</td>\n",
              "      <td>Дэвид Валдес</td>\n",
              "      <td>Ник Лэже</td>\n",
              "      <td>США</td>\n",
              "      <td>Боевики</td>\n",
              "    </tr>\n",
              "    <tr>\n",
              "      <th>3705</th>\n",
              "      <td>6</td>\n",
              "      <td>Фильм</td>\n",
              "      <td>18.000</td>\n",
              "      <td>103.000</td>\n",
              "      <td>62.489</td>\n",
              "      <td>76.600</td>\n",
              "      <td>7735</td>\n",
              "      <td>1.313</td>\n",
              "      <td>0.607</td>\n",
              "      <td>Фэнтези</td>\n",
              "      <td>Тильда Суинтон</td>\n",
              "      <td>Джордж Миллер</td>\n",
              "      <td>США</td>\n",
              "      <td>2022</td>\n",
              "      <td>05</td>\n",
              "      <td>Дэвид Валдес</td>\n",
              "      <td>Ник Лэже</td>\n",
              "      <td>США</td>\n",
              "      <td>Боевики</td>\n",
              "    </tr>\n",
              "    <tr>\n",
              "      <th>3706</th>\n",
              "      <td>6</td>\n",
              "      <td>Фильм</td>\n",
              "      <td>18.000</td>\n",
              "      <td>103.000</td>\n",
              "      <td>62.489</td>\n",
              "      <td>76.600</td>\n",
              "      <td>7735</td>\n",
              "      <td>1.313</td>\n",
              "      <td>0.607</td>\n",
              "      <td>Фэнтези</td>\n",
              "      <td>Тильда Суинтон</td>\n",
              "      <td>Джордж Миллер</td>\n",
              "      <td>США</td>\n",
              "      <td>2022</td>\n",
              "      <td>05</td>\n",
              "      <td>Дэвид Валдес</td>\n",
              "      <td>Ник Лэже</td>\n",
              "      <td>США</td>\n",
              "      <td>Боевики</td>\n",
              "    </tr>\n",
              "    <tr>\n",
              "      <th>296017</th>\n",
              "      <td>3</td>\n",
              "      <td>Фильм</td>\n",
              "      <td>18.000</td>\n",
              "      <td>107.000</td>\n",
              "      <td>66.129</td>\n",
              "      <td>82.683</td>\n",
              "      <td>8385</td>\n",
              "      <td>1.307</td>\n",
              "      <td>0.618</td>\n",
              "      <td>Триллеры</td>\n",
              "      <td>Джеффри Дин Морган</td>\n",
              "      <td>Скотт Манн</td>\n",
              "      <td>США</td>\n",
              "      <td>2022</td>\n",
              "      <td>08</td>\n",
              "      <td>Геннадий Смирнов</td>\n",
              "      <td>Андрей Либенсон</td>\n",
              "      <td>Россия</td>\n",
              "      <td>Комедии</td>\n",
              "    </tr>\n",
              "  </tbody>\n",
              "</table>\n",
              "</div>\n",
              "      <button class=\"colab-df-convert\" onclick=\"convertToInteractive('df-e9f0060d-5092-4807-b959-09e0e3ecdee8')\"\n",
              "              title=\"Convert this dataframe to an interactive table.\"\n",
              "              style=\"display:none;\">\n",
              "        \n",
              "  <svg xmlns=\"http://www.w3.org/2000/svg\" height=\"24px\"viewBox=\"0 0 24 24\"\n",
              "       width=\"24px\">\n",
              "    <path d=\"M0 0h24v24H0V0z\" fill=\"none\"/>\n",
              "    <path d=\"M18.56 5.44l.94 2.06.94-2.06 2.06-.94-2.06-.94-.94-2.06-.94 2.06-2.06.94zm-11 1L8.5 8.5l.94-2.06 2.06-.94-2.06-.94L8.5 2.5l-.94 2.06-2.06.94zm10 10l.94 2.06.94-2.06 2.06-.94-2.06-.94-.94-2.06-.94 2.06-2.06.94z\"/><path d=\"M17.41 7.96l-1.37-1.37c-.4-.4-.92-.59-1.43-.59-.52 0-1.04.2-1.43.59L10.3 9.45l-7.72 7.72c-.78.78-.78 2.05 0 2.83L4 21.41c.39.39.9.59 1.41.59.51 0 1.02-.2 1.41-.59l7.78-7.78 2.81-2.81c.8-.78.8-2.07 0-2.86zM5.41 20L4 18.59l7.72-7.72 1.47 1.35L5.41 20z\"/>\n",
              "  </svg>\n",
              "      </button>\n",
              "      \n",
              "  <style>\n",
              "    .colab-df-container {\n",
              "      display:flex;\n",
              "      flex-wrap:wrap;\n",
              "      gap: 12px;\n",
              "    }\n",
              "\n",
              "    .colab-df-convert {\n",
              "      background-color: #E8F0FE;\n",
              "      border: none;\n",
              "      border-radius: 50%;\n",
              "      cursor: pointer;\n",
              "      display: none;\n",
              "      fill: #1967D2;\n",
              "      height: 32px;\n",
              "      padding: 0 0 0 0;\n",
              "      width: 32px;\n",
              "    }\n",
              "\n",
              "    .colab-df-convert:hover {\n",
              "      background-color: #E2EBFA;\n",
              "      box-shadow: 0px 1px 2px rgba(60, 64, 67, 0.3), 0px 1px 3px 1px rgba(60, 64, 67, 0.15);\n",
              "      fill: #174EA6;\n",
              "    }\n",
              "\n",
              "    [theme=dark] .colab-df-convert {\n",
              "      background-color: #3B4455;\n",
              "      fill: #D2E3FC;\n",
              "    }\n",
              "\n",
              "    [theme=dark] .colab-df-convert:hover {\n",
              "      background-color: #434B5C;\n",
              "      box-shadow: 0px 1px 3px 1px rgba(0, 0, 0, 0.15);\n",
              "      filter: drop-shadow(0px 1px 2px rgba(0, 0, 0, 0.3));\n",
              "      fill: #FFFFFF;\n",
              "    }\n",
              "  </style>\n",
              "\n",
              "      <script>\n",
              "        const buttonEl =\n",
              "          document.querySelector('#df-e9f0060d-5092-4807-b959-09e0e3ecdee8 button.colab-df-convert');\n",
              "        buttonEl.style.display =\n",
              "          google.colab.kernel.accessAllowed ? 'block' : 'none';\n",
              "\n",
              "        async function convertToInteractive(key) {\n",
              "          const element = document.querySelector('#df-e9f0060d-5092-4807-b959-09e0e3ecdee8');\n",
              "          const dataTable =\n",
              "            await google.colab.kernel.invokeFunction('convertToInteractive',\n",
              "                                                     [key], {});\n",
              "          if (!dataTable) return;\n",
              "\n",
              "          const docLinkHtml = 'Like what you see? Visit the ' +\n",
              "            '<a target=\"_blank\" href=https://colab.research.google.com/notebooks/data_table.ipynb>data table notebook</a>'\n",
              "            + ' to learn more about interactive tables.';\n",
              "          element.innerHTML = '';\n",
              "          dataTable['output_type'] = 'display_data';\n",
              "          await google.colab.output.renderOutput(dataTable, element);\n",
              "          const docLink = document.createElement('div');\n",
              "          docLink.innerHTML = docLinkHtml;\n",
              "          element.appendChild(docLink);\n",
              "        }\n",
              "      </script>\n",
              "    </div>\n",
              "  </div>\n",
              "  "
            ]
          },
          "metadata": {},
          "execution_count": 647
        }
      ],
      "source": [
        "X_train.head()"
      ]
    },
    {
      "cell_type": "markdown",
      "metadata": {
        "id": "vnWrfbvvLXaA"
      },
      "source": [
        "## 4.2 Catboost"
      ]
    },
    {
      "cell_type": "markdown",
      "metadata": {
        "id": "WoQA6bYprIUe"
      },
      "source": [
        "### 4.2.1 Train model"
      ]
    },
    {
      "cell_type": "code",
      "execution_count": 648,
      "metadata": {
        "id": "w2AMfq02crjS",
        "colab": {
          "base_uri": "https://localhost:8080/"
        },
        "outputId": "2a581bff-61c2-4c57-e464-403e535a3c1f"
      },
      "outputs": [
        {
          "output_type": "stream",
          "name": "stdout",
          "text": [
            "0:\tlearn: 0.6356872\ttest: 0.6349565\tbest: 0.6349565 (0)\ttotal: 114ms\tremaining: 9m 28s\n",
            "1:\tlearn: 0.5921672\ttest: 0.5913906\tbest: 0.5913906 (1)\ttotal: 219ms\tremaining: 9m 6s\n",
            "2:\tlearn: 0.5563500\ttest: 0.5550212\tbest: 0.5550212 (2)\ttotal: 325ms\tremaining: 9m 1s\n",
            "3:\tlearn: 0.5304528\ttest: 0.5285093\tbest: 0.5285093 (3)\ttotal: 405ms\tremaining: 8m 25s\n",
            "4:\tlearn: 0.5153480\ttest: 0.5135529\tbest: 0.5135529 (4)\ttotal: 439ms\tremaining: 7m 18s\n",
            "5:\tlearn: 0.4958025\ttest: 0.4933312\tbest: 0.4933312 (5)\ttotal: 538ms\tremaining: 7m 28s\n",
            "6:\tlearn: 0.4746044\ttest: 0.4727883\tbest: 0.4727883 (6)\ttotal: 618ms\tremaining: 7m 20s\n",
            "7:\tlearn: 0.4585682\ttest: 0.4560984\tbest: 0.4560984 (7)\ttotal: 724ms\tremaining: 7m 31s\n",
            "8:\tlearn: 0.4487052\ttest: 0.4457600\tbest: 0.4457600 (8)\ttotal: 824ms\tremaining: 7m 37s\n",
            "9:\tlearn: 0.4392625\ttest: 0.4362348\tbest: 0.4362348 (9)\ttotal: 917ms\tremaining: 7m 37s\n",
            "10:\tlearn: 0.4328985\ttest: 0.4297310\tbest: 0.4297310 (10)\ttotal: 1s\tremaining: 7m 34s\n",
            "11:\tlearn: 0.4263313\ttest: 0.4229954\tbest: 0.4229954 (11)\ttotal: 1.08s\tremaining: 7m 27s\n",
            "12:\tlearn: 0.4199665\ttest: 0.4168713\tbest: 0.4168713 (12)\ttotal: 1.15s\tremaining: 7m 21s\n",
            "13:\tlearn: 0.4147001\ttest: 0.4112995\tbest: 0.4112995 (13)\ttotal: 1.21s\tremaining: 7m 12s\n",
            "14:\tlearn: 0.4109365\ttest: 0.4076549\tbest: 0.4076549 (14)\ttotal: 1.33s\tremaining: 7m 21s\n",
            "15:\tlearn: 0.4067956\ttest: 0.4032708\tbest: 0.4032708 (15)\ttotal: 1.41s\tremaining: 7m 17s\n",
            "16:\tlearn: 0.4039460\ttest: 0.4004178\tbest: 0.4004178 (16)\ttotal: 1.48s\tremaining: 7m 13s\n",
            "17:\tlearn: 0.4010660\ttest: 0.3977263\tbest: 0.3977263 (17)\ttotal: 1.55s\tremaining: 7m 8s\n",
            "18:\tlearn: 0.3979096\ttest: 0.3946168\tbest: 0.3946168 (18)\ttotal: 1.65s\tremaining: 7m 11s\n",
            "19:\tlearn: 0.3957423\ttest: 0.3922400\tbest: 0.3922400 (19)\ttotal: 1.75s\tremaining: 7m 15s\n",
            "20:\tlearn: 0.3938329\ttest: 0.3902881\tbest: 0.3902881 (20)\ttotal: 1.88s\tremaining: 7m 25s\n",
            "21:\tlearn: 0.3912662\ttest: 0.3888942\tbest: 0.3888942 (21)\ttotal: 1.98s\tremaining: 7m 28s\n",
            "22:\tlearn: 0.3891814\ttest: 0.3875189\tbest: 0.3875189 (22)\ttotal: 2.06s\tremaining: 7m 25s\n",
            "23:\tlearn: 0.3870179\ttest: 0.3865015\tbest: 0.3865015 (23)\ttotal: 2.18s\tremaining: 7m 31s\n",
            "24:\tlearn: 0.3855034\ttest: 0.3853071\tbest: 0.3853071 (24)\ttotal: 2.28s\tremaining: 7m 33s\n",
            "25:\tlearn: 0.3838515\ttest: 0.3846378\tbest: 0.3846378 (25)\ttotal: 2.4s\tremaining: 7m 38s\n",
            "26:\tlearn: 0.3823809\ttest: 0.3840288\tbest: 0.3840288 (26)\ttotal: 2.46s\tremaining: 7m 33s\n",
            "27:\tlearn: 0.3816052\ttest: 0.3831406\tbest: 0.3831406 (27)\ttotal: 2.57s\tremaining: 7m 35s\n",
            "28:\tlearn: 0.3811039\ttest: 0.3824862\tbest: 0.3824862 (28)\ttotal: 2.65s\tremaining: 7m 34s\n",
            "29:\tlearn: 0.3800178\ttest: 0.3820954\tbest: 0.3820954 (29)\ttotal: 2.76s\tremaining: 7m 37s\n",
            "30:\tlearn: 0.3790617\ttest: 0.3817275\tbest: 0.3817275 (30)\ttotal: 2.84s\tremaining: 7m 35s\n",
            "31:\tlearn: 0.3780220\ttest: 0.3814162\tbest: 0.3814162 (31)\ttotal: 2.9s\tremaining: 7m 31s\n",
            "32:\tlearn: 0.3775213\ttest: 0.3808573\tbest: 0.3808573 (32)\ttotal: 2.99s\tremaining: 7m 30s\n",
            "33:\tlearn: 0.3768784\ttest: 0.3802280\tbest: 0.3802280 (33)\ttotal: 3.1s\tremaining: 7m 32s\n",
            "34:\tlearn: 0.3765142\ttest: 0.3798540\tbest: 0.3798540 (34)\ttotal: 3.2s\tremaining: 7m 33s\n",
            "35:\tlearn: 0.3760351\ttest: 0.3793147\tbest: 0.3793147 (35)\ttotal: 3.29s\tremaining: 7m 33s\n",
            "36:\tlearn: 0.3750690\ttest: 0.3792156\tbest: 0.3792156 (36)\ttotal: 3.42s\tremaining: 7m 39s\n",
            "37:\tlearn: 0.3745986\ttest: 0.3788534\tbest: 0.3788534 (37)\ttotal: 3.5s\tremaining: 7m 37s\n",
            "38:\tlearn: 0.3740515\ttest: 0.3785552\tbest: 0.3785552 (38)\ttotal: 3.57s\tremaining: 7m 34s\n",
            "39:\tlearn: 0.3732195\ttest: 0.3785971\tbest: 0.3785552 (38)\ttotal: 3.65s\tremaining: 7m 32s\n",
            "40:\tlearn: 0.3730669\ttest: 0.3784747\tbest: 0.3784747 (40)\ttotal: 3.74s\tremaining: 7m 32s\n",
            "41:\tlearn: 0.3728580\ttest: 0.3782407\tbest: 0.3782407 (41)\ttotal: 3.84s\tremaining: 7m 32s\n",
            "42:\tlearn: 0.3728268\ttest: 0.3781888\tbest: 0.3781888 (42)\ttotal: 3.89s\tremaining: 7m 27s\n",
            "43:\tlearn: 0.3722236\ttest: 0.3782576\tbest: 0.3781888 (42)\ttotal: 4s\tremaining: 7m 30s\n",
            "44:\tlearn: 0.3716299\ttest: 0.3783465\tbest: 0.3781888 (42)\ttotal: 4.07s\tremaining: 7m 27s\n",
            "45:\tlearn: 0.3714421\ttest: 0.3781111\tbest: 0.3781111 (45)\ttotal: 4.18s\tremaining: 7m 30s\n",
            "46:\tlearn: 0.3711436\ttest: 0.3780001\tbest: 0.3780001 (46)\ttotal: 4.29s\tremaining: 7m 31s\n",
            "47:\tlearn: 0.3711260\ttest: 0.3779908\tbest: 0.3779908 (47)\ttotal: 4.34s\tremaining: 7m 27s\n",
            "48:\tlearn: 0.3705705\ttest: 0.3780900\tbest: 0.3779908 (47)\ttotal: 4.44s\tremaining: 7m 28s\n",
            "49:\tlearn: 0.3702537\ttest: 0.3778997\tbest: 0.3778997 (49)\ttotal: 4.54s\tremaining: 7m 29s\n",
            "50:\tlearn: 0.3698985\ttest: 0.3776750\tbest: 0.3776750 (50)\ttotal: 4.65s\tremaining: 7m 31s\n",
            "51:\tlearn: 0.3696927\ttest: 0.3774743\tbest: 0.3774743 (51)\ttotal: 4.75s\tremaining: 7m 32s\n",
            "52:\tlearn: 0.3694156\ttest: 0.3772841\tbest: 0.3772841 (52)\ttotal: 4.85s\tremaining: 7m 32s\n",
            "53:\tlearn: 0.3690131\ttest: 0.3773706\tbest: 0.3772841 (52)\ttotal: 4.95s\tremaining: 7m 33s\n",
            "54:\tlearn: 0.3686286\ttest: 0.3774739\tbest: 0.3772841 (52)\ttotal: 5.01s\tremaining: 7m 30s\n",
            "55:\tlearn: 0.3685433\ttest: 0.3775415\tbest: 0.3772841 (52)\ttotal: 5.12s\tremaining: 7m 31s\n",
            "56:\tlearn: 0.3683466\ttest: 0.3776241\tbest: 0.3772841 (52)\ttotal: 5.27s\tremaining: 7m 37s\n",
            "57:\tlearn: 0.3680429\ttest: 0.3774526\tbest: 0.3772841 (52)\ttotal: 5.44s\tremaining: 7m 43s\n",
            "58:\tlearn: 0.3679266\ttest: 0.3774588\tbest: 0.3772841 (52)\ttotal: 5.6s\tremaining: 7m 48s\n",
            "59:\tlearn: 0.3677669\ttest: 0.3772809\tbest: 0.3772809 (59)\ttotal: 5.8s\tremaining: 7m 57s\n",
            "60:\tlearn: 0.3676649\ttest: 0.3773227\tbest: 0.3772809 (59)\ttotal: 6s\tremaining: 8m 5s\n",
            "61:\tlearn: 0.3673760\ttest: 0.3774944\tbest: 0.3772809 (59)\ttotal: 6.24s\tremaining: 8m 17s\n",
            "62:\tlearn: 0.3671793\ttest: 0.3773784\tbest: 0.3772809 (59)\ttotal: 6.43s\tremaining: 8m 24s\n",
            "63:\tlearn: 0.3668701\ttest: 0.3772820\tbest: 0.3772809 (59)\ttotal: 6.62s\tremaining: 8m 30s\n",
            "64:\tlearn: 0.3667725\ttest: 0.3771290\tbest: 0.3771290 (64)\ttotal: 6.82s\tremaining: 8m 37s\n",
            "65:\tlearn: 0.3666919\ttest: 0.3770589\tbest: 0.3770589 (65)\ttotal: 7s\tremaining: 8m 43s\n",
            "66:\tlearn: 0.3666225\ttest: 0.3770333\tbest: 0.3770333 (66)\ttotal: 7.17s\tremaining: 8m 48s\n",
            "67:\tlearn: 0.3664658\ttest: 0.3771214\tbest: 0.3770333 (66)\ttotal: 7.36s\tremaining: 8m 53s\n",
            "68:\tlearn: 0.3663536\ttest: 0.3770961\tbest: 0.3770333 (66)\ttotal: 7.55s\tremaining: 8m 59s\n",
            "69:\tlearn: 0.3662002\ttest: 0.3771278\tbest: 0.3770333 (66)\ttotal: 7.75s\tremaining: 9m 5s\n",
            "70:\tlearn: 0.3662002\ttest: 0.3771278\tbest: 0.3770333 (66)\ttotal: 7.79s\tremaining: 9m\n",
            "71:\tlearn: 0.3660686\ttest: 0.3770371\tbest: 0.3770333 (66)\ttotal: 7.98s\tremaining: 9m 6s\n",
            "72:\tlearn: 0.3659476\ttest: 0.3769631\tbest: 0.3769631 (72)\ttotal: 8.21s\tremaining: 9m 13s\n",
            "73:\tlearn: 0.3655837\ttest: 0.3769668\tbest: 0.3769631 (72)\ttotal: 8.43s\tremaining: 9m 21s\n",
            "74:\tlearn: 0.3655401\ttest: 0.3769500\tbest: 0.3769500 (74)\ttotal: 8.62s\tremaining: 9m 25s\n",
            "75:\tlearn: 0.3653025\ttest: 0.3767919\tbest: 0.3767919 (75)\ttotal: 8.84s\tremaining: 9m 32s\n",
            "76:\tlearn: 0.3652260\ttest: 0.3767659\tbest: 0.3767659 (76)\ttotal: 9.03s\tremaining: 9m 37s\n",
            "77:\tlearn: 0.3651309\ttest: 0.3767107\tbest: 0.3767107 (77)\ttotal: 9.25s\tremaining: 9m 43s\n",
            "78:\tlearn: 0.3649839\ttest: 0.3766255\tbest: 0.3766255 (78)\ttotal: 9.48s\tremaining: 9m 50s\n",
            "79:\tlearn: 0.3648056\ttest: 0.3764675\tbest: 0.3764675 (79)\ttotal: 9.65s\tremaining: 9m 53s\n",
            "80:\tlearn: 0.3645946\ttest: 0.3763387\tbest: 0.3763387 (80)\ttotal: 9.75s\tremaining: 9m 51s\n",
            "81:\tlearn: 0.3645025\ttest: 0.3763380\tbest: 0.3763380 (81)\ttotal: 9.86s\tremaining: 9m 51s\n",
            "82:\tlearn: 0.3644462\ttest: 0.3763257\tbest: 0.3763257 (82)\ttotal: 9.93s\tremaining: 9m 48s\n",
            "83:\tlearn: 0.3644098\ttest: 0.3763456\tbest: 0.3763257 (82)\ttotal: 10s\tremaining: 9m 46s\n",
            "84:\tlearn: 0.3642449\ttest: 0.3762742\tbest: 0.3762742 (84)\ttotal: 10.2s\tremaining: 9m 47s\n",
            "85:\tlearn: 0.3640700\ttest: 0.3762662\tbest: 0.3762662 (85)\ttotal: 10.3s\tremaining: 9m 46s\n",
            "86:\tlearn: 0.3639779\ttest: 0.3762221\tbest: 0.3762221 (86)\ttotal: 10.4s\tremaining: 9m 46s\n",
            "87:\tlearn: 0.3639507\ttest: 0.3761959\tbest: 0.3761959 (87)\ttotal: 10.5s\tremaining: 9m 43s\n",
            "88:\tlearn: 0.3638394\ttest: 0.3761356\tbest: 0.3761356 (88)\ttotal: 10.6s\tremaining: 9m 42s\n",
            "89:\tlearn: 0.3635538\ttest: 0.3759517\tbest: 0.3759517 (89)\ttotal: 10.7s\tremaining: 9m 41s\n",
            "90:\tlearn: 0.3634684\ttest: 0.3759872\tbest: 0.3759517 (89)\ttotal: 10.7s\tremaining: 9m 39s\n",
            "91:\tlearn: 0.3633082\ttest: 0.3760017\tbest: 0.3759517 (89)\ttotal: 10.8s\tremaining: 9m 38s\n",
            "92:\tlearn: 0.3632782\ttest: 0.3759566\tbest: 0.3759517 (89)\ttotal: 10.9s\tremaining: 9m 34s\n",
            "93:\tlearn: 0.3631855\ttest: 0.3759804\tbest: 0.3759517 (89)\ttotal: 11s\tremaining: 9m 33s\n",
            "94:\tlearn: 0.3628657\ttest: 0.3758619\tbest: 0.3758619 (94)\ttotal: 11.1s\tremaining: 9m 31s\n",
            "95:\tlearn: 0.3627634\ttest: 0.3758197\tbest: 0.3758197 (95)\ttotal: 11.2s\tremaining: 9m 31s\n",
            "96:\tlearn: 0.3626106\ttest: 0.3757597\tbest: 0.3757597 (96)\ttotal: 11.3s\tremaining: 9m 31s\n",
            "97:\tlearn: 0.3625191\ttest: 0.3756444\tbest: 0.3756444 (97)\ttotal: 11.4s\tremaining: 9m 28s\n",
            "98:\tlearn: 0.3623259\ttest: 0.3756679\tbest: 0.3756444 (97)\ttotal: 11.5s\tremaining: 9m 28s\n",
            "99:\tlearn: 0.3621481\ttest: 0.3756579\tbest: 0.3756444 (97)\ttotal: 11.6s\tremaining: 9m 27s\n",
            "100:\tlearn: 0.3620481\ttest: 0.3755636\tbest: 0.3755636 (100)\ttotal: 11.7s\tremaining: 9m 26s\n",
            "101:\tlearn: 0.3618979\ttest: 0.3756533\tbest: 0.3755636 (100)\ttotal: 11.8s\tremaining: 9m 25s\n",
            "102:\tlearn: 0.3618195\ttest: 0.3756626\tbest: 0.3755636 (100)\ttotal: 11.9s\tremaining: 9m 24s\n",
            "103:\tlearn: 0.3617284\ttest: 0.3756562\tbest: 0.3755636 (100)\ttotal: 12s\tremaining: 9m 22s\n",
            "104:\tlearn: 0.3615663\ttest: 0.3756393\tbest: 0.3755636 (100)\ttotal: 12.1s\tremaining: 9m 21s\n",
            "105:\tlearn: 0.3615249\ttest: 0.3756579\tbest: 0.3755636 (100)\ttotal: 12.1s\tremaining: 9m 20s\n",
            "106:\tlearn: 0.3613956\ttest: 0.3755513\tbest: 0.3755513 (106)\ttotal: 12.2s\tremaining: 9m 19s\n",
            "107:\tlearn: 0.3613096\ttest: 0.3755469\tbest: 0.3755469 (107)\ttotal: 12.3s\tremaining: 9m 18s\n",
            "108:\tlearn: 0.3612831\ttest: 0.3755582\tbest: 0.3755469 (107)\ttotal: 12.4s\tremaining: 9m 16s\n",
            "109:\tlearn: 0.3612443\ttest: 0.3755407\tbest: 0.3755407 (109)\ttotal: 12.5s\tremaining: 9m 15s\n",
            "110:\tlearn: 0.3610580\ttest: 0.3754781\tbest: 0.3754781 (110)\ttotal: 12.6s\tremaining: 9m 14s\n",
            "111:\tlearn: 0.3609528\ttest: 0.3755218\tbest: 0.3754781 (110)\ttotal: 12.7s\tremaining: 9m 13s\n",
            "112:\tlearn: 0.3608291\ttest: 0.3754664\tbest: 0.3754664 (112)\ttotal: 12.8s\tremaining: 9m 12s\n",
            "113:\tlearn: 0.3607984\ttest: 0.3754713\tbest: 0.3754664 (112)\ttotal: 12.9s\tremaining: 9m 11s\n",
            "114:\tlearn: 0.3605580\ttest: 0.3755344\tbest: 0.3754664 (112)\ttotal: 13s\tremaining: 9m 11s\n",
            "115:\tlearn: 0.3605063\ttest: 0.3755237\tbest: 0.3754664 (112)\ttotal: 13.1s\tremaining: 9m 9s\n",
            "116:\tlearn: 0.3604008\ttest: 0.3754716\tbest: 0.3754664 (112)\ttotal: 13.2s\tremaining: 9m 9s\n",
            "117:\tlearn: 0.3602136\ttest: 0.3755249\tbest: 0.3754664 (112)\ttotal: 13.3s\tremaining: 9m 8s\n",
            "118:\tlearn: 0.3600454\ttest: 0.3755142\tbest: 0.3754664 (112)\ttotal: 13.4s\tremaining: 9m 7s\n",
            "119:\tlearn: 0.3598659\ttest: 0.3755289\tbest: 0.3754664 (112)\ttotal: 13.4s\tremaining: 9m 5s\n",
            "120:\tlearn: 0.3597355\ttest: 0.3753764\tbest: 0.3753764 (120)\ttotal: 13.5s\tremaining: 9m 4s\n",
            "121:\tlearn: 0.3595782\ttest: 0.3754745\tbest: 0.3753764 (120)\ttotal: 13.6s\tremaining: 9m 3s\n",
            "122:\tlearn: 0.3594221\ttest: 0.3754060\tbest: 0.3753764 (120)\ttotal: 13.7s\tremaining: 9m 2s\n",
            "123:\tlearn: 0.3593709\ttest: 0.3754040\tbest: 0.3753764 (120)\ttotal: 13.8s\tremaining: 9m 2s\n",
            "124:\tlearn: 0.3593230\ttest: 0.3753980\tbest: 0.3753764 (120)\ttotal: 13.9s\tremaining: 9m 1s\n",
            "125:\tlearn: 0.3591607\ttest: 0.3754479\tbest: 0.3753764 (120)\ttotal: 14s\tremaining: 9m 1s\n",
            "126:\tlearn: 0.3591263\ttest: 0.3754580\tbest: 0.3753764 (120)\ttotal: 14.1s\tremaining: 9m\n",
            "127:\tlearn: 0.3589721\ttest: 0.3755098\tbest: 0.3753764 (120)\ttotal: 14.2s\tremaining: 9m\n",
            "128:\tlearn: 0.3587884\ttest: 0.3754570\tbest: 0.3753764 (120)\ttotal: 14.3s\tremaining: 9m\n",
            "129:\tlearn: 0.3587065\ttest: 0.3753429\tbest: 0.3753429 (129)\ttotal: 14.4s\tremaining: 9m\n",
            "130:\tlearn: 0.3584989\ttest: 0.3753698\tbest: 0.3753429 (129)\ttotal: 14.5s\tremaining: 8m 59s\n",
            "131:\tlearn: 0.3584201\ttest: 0.3753425\tbest: 0.3753425 (131)\ttotal: 14.6s\tremaining: 8m 59s\n",
            "132:\tlearn: 0.3582755\ttest: 0.3752674\tbest: 0.3752674 (132)\ttotal: 14.7s\tremaining: 8m 59s\n",
            "133:\tlearn: 0.3581659\ttest: 0.3752885\tbest: 0.3752674 (132)\ttotal: 14.9s\tremaining: 8m 59s\n",
            "134:\tlearn: 0.3580018\ttest: 0.3751976\tbest: 0.3751976 (134)\ttotal: 15s\tremaining: 8m 59s\n",
            "135:\tlearn: 0.3578820\ttest: 0.3751279\tbest: 0.3751279 (135)\ttotal: 15s\tremaining: 8m 58s\n",
            "136:\tlearn: 0.3577657\ttest: 0.3751316\tbest: 0.3751279 (135)\ttotal: 15.1s\tremaining: 8m 57s\n",
            "137:\tlearn: 0.3577109\ttest: 0.3750618\tbest: 0.3750618 (137)\ttotal: 15.2s\tremaining: 8m 55s\n",
            "138:\tlearn: 0.3576912\ttest: 0.3750571\tbest: 0.3750571 (138)\ttotal: 15.3s\tremaining: 8m 54s\n",
            "139:\tlearn: 0.3576100\ttest: 0.3749965\tbest: 0.3749965 (139)\ttotal: 15.4s\tremaining: 8m 54s\n",
            "140:\tlearn: 0.3575090\ttest: 0.3750199\tbest: 0.3749965 (139)\ttotal: 15.5s\tremaining: 8m 53s\n",
            "141:\tlearn: 0.3573457\ttest: 0.3750470\tbest: 0.3749965 (139)\ttotal: 15.6s\tremaining: 8m 53s\n",
            "142:\tlearn: 0.3572317\ttest: 0.3750014\tbest: 0.3749965 (139)\ttotal: 15.7s\tremaining: 8m 53s\n",
            "143:\tlearn: 0.3571046\ttest: 0.3750645\tbest: 0.3749965 (139)\ttotal: 15.8s\tremaining: 8m 53s\n",
            "144:\tlearn: 0.3570313\ttest: 0.3750812\tbest: 0.3749965 (139)\ttotal: 15.9s\tremaining: 8m 52s\n",
            "145:\tlearn: 0.3569375\ttest: 0.3751125\tbest: 0.3749965 (139)\ttotal: 16s\tremaining: 8m 51s\n",
            "146:\tlearn: 0.3567211\ttest: 0.3751119\tbest: 0.3749965 (139)\ttotal: 16.1s\tremaining: 8m 51s\n",
            "147:\tlearn: 0.3566130\ttest: 0.3750518\tbest: 0.3749965 (139)\ttotal: 16.2s\tremaining: 8m 50s\n",
            "148:\tlearn: 0.3565441\ttest: 0.3750808\tbest: 0.3749965 (139)\ttotal: 16.3s\tremaining: 8m 49s\n",
            "149:\tlearn: 0.3564609\ttest: 0.3751285\tbest: 0.3749965 (139)\ttotal: 16.4s\tremaining: 8m 49s\n",
            "150:\tlearn: 0.3563238\ttest: 0.3751240\tbest: 0.3749965 (139)\ttotal: 16.5s\tremaining: 8m 49s\n",
            "151:\tlearn: 0.3562718\ttest: 0.3750860\tbest: 0.3749965 (139)\ttotal: 16.6s\tremaining: 8m 49s\n",
            "152:\tlearn: 0.3562387\ttest: 0.3750990\tbest: 0.3749965 (139)\ttotal: 16.7s\tremaining: 8m 48s\n",
            "153:\tlearn: 0.3561860\ttest: 0.3750685\tbest: 0.3749965 (139)\ttotal: 16.8s\tremaining: 8m 48s\n",
            "154:\tlearn: 0.3560790\ttest: 0.3750278\tbest: 0.3749965 (139)\ttotal: 16.9s\tremaining: 8m 47s\n",
            "155:\tlearn: 0.3560098\ttest: 0.3749857\tbest: 0.3749857 (155)\ttotal: 16.9s\tremaining: 8m 46s\n",
            "156:\tlearn: 0.3558515\ttest: 0.3752409\tbest: 0.3749857 (155)\ttotal: 17s\tremaining: 8m 45s\n",
            "157:\tlearn: 0.3557158\ttest: 0.3753619\tbest: 0.3749857 (155)\ttotal: 17.1s\tremaining: 8m 44s\n",
            "158:\tlearn: 0.3556539\ttest: 0.3753460\tbest: 0.3749857 (155)\ttotal: 17.2s\tremaining: 8m 43s\n",
            "159:\tlearn: 0.3554911\ttest: 0.3754086\tbest: 0.3749857 (155)\ttotal: 17.3s\tremaining: 8m 43s\n",
            "160:\tlearn: 0.3554480\ttest: 0.3754005\tbest: 0.3749857 (155)\ttotal: 17.4s\tremaining: 8m 43s\n",
            "161:\tlearn: 0.3553383\ttest: 0.3753667\tbest: 0.3749857 (155)\ttotal: 17.5s\tremaining: 8m 43s\n",
            "162:\tlearn: 0.3552388\ttest: 0.3753832\tbest: 0.3749857 (155)\ttotal: 17.6s\tremaining: 8m 42s\n",
            "163:\tlearn: 0.3551967\ttest: 0.3753917\tbest: 0.3749857 (155)\ttotal: 17.7s\tremaining: 8m 41s\n",
            "164:\tlearn: 0.3551481\ttest: 0.3754190\tbest: 0.3749857 (155)\ttotal: 17.8s\tremaining: 8m 40s\n",
            "165:\tlearn: 0.3550582\ttest: 0.3753943\tbest: 0.3749857 (155)\ttotal: 17.9s\tremaining: 8m 40s\n",
            "166:\tlearn: 0.3549424\ttest: 0.3753893\tbest: 0.3749857 (155)\ttotal: 18s\tremaining: 8m 39s\n",
            "167:\tlearn: 0.3548673\ttest: 0.3754695\tbest: 0.3749857 (155)\ttotal: 18.1s\tremaining: 8m 39s\n",
            "168:\tlearn: 0.3547708\ttest: 0.3754755\tbest: 0.3749857 (155)\ttotal: 18.2s\tremaining: 8m 38s\n",
            "169:\tlearn: 0.3547105\ttest: 0.3754915\tbest: 0.3749857 (155)\ttotal: 18.3s\tremaining: 8m 39s\n",
            "170:\tlearn: 0.3546271\ttest: 0.3754878\tbest: 0.3749857 (155)\ttotal: 18.4s\tremaining: 8m 38s\n",
            "171:\tlearn: 0.3545769\ttest: 0.3755302\tbest: 0.3749857 (155)\ttotal: 18.4s\tremaining: 8m 37s\n",
            "172:\tlearn: 0.3544833\ttest: 0.3755550\tbest: 0.3749857 (155)\ttotal: 18.5s\tremaining: 8m 37s\n",
            "173:\tlearn: 0.3542749\ttest: 0.3755633\tbest: 0.3749857 (155)\ttotal: 18.6s\tremaining: 8m 36s\n",
            "174:\tlearn: 0.3541680\ttest: 0.3755999\tbest: 0.3749857 (155)\ttotal: 18.7s\tremaining: 8m 36s\n",
            "175:\tlearn: 0.3541336\ttest: 0.3755893\tbest: 0.3749857 (155)\ttotal: 18.8s\tremaining: 8m 36s\n",
            "176:\tlearn: 0.3540619\ttest: 0.3755526\tbest: 0.3749857 (155)\ttotal: 18.9s\tremaining: 8m 35s\n",
            "177:\tlearn: 0.3540258\ttest: 0.3755571\tbest: 0.3749857 (155)\ttotal: 19s\tremaining: 8m 34s\n",
            "178:\tlearn: 0.3539567\ttest: 0.3755274\tbest: 0.3749857 (155)\ttotal: 19.1s\tremaining: 8m 34s\n",
            "179:\tlearn: 0.3538687\ttest: 0.3754752\tbest: 0.3749857 (155)\ttotal: 19.2s\tremaining: 8m 33s\n",
            "180:\tlearn: 0.3538021\ttest: 0.3754729\tbest: 0.3749857 (155)\ttotal: 19.3s\tremaining: 8m 33s\n",
            "181:\tlearn: 0.3537288\ttest: 0.3754468\tbest: 0.3749857 (155)\ttotal: 19.4s\tremaining: 8m 33s\n",
            "182:\tlearn: 0.3536814\ttest: 0.3754107\tbest: 0.3749857 (155)\ttotal: 19.5s\tremaining: 8m 33s\n",
            "183:\tlearn: 0.3535879\ttest: 0.3754104\tbest: 0.3749857 (155)\ttotal: 19.6s\tremaining: 8m 33s\n",
            "184:\tlearn: 0.3534821\ttest: 0.3754221\tbest: 0.3749857 (155)\ttotal: 19.8s\tremaining: 8m 35s\n",
            "185:\tlearn: 0.3533587\ttest: 0.3753399\tbest: 0.3749857 (155)\ttotal: 20s\tremaining: 8m 37s\n",
            "186:\tlearn: 0.3532581\ttest: 0.3754147\tbest: 0.3749857 (155)\ttotal: 20.2s\tremaining: 8m 39s\n",
            "187:\tlearn: 0.3532176\ttest: 0.3754461\tbest: 0.3749857 (155)\ttotal: 20.4s\tremaining: 8m 41s\n",
            "188:\tlearn: 0.3531357\ttest: 0.3754068\tbest: 0.3749857 (155)\ttotal: 20.6s\tremaining: 8m 43s\n",
            "189:\tlearn: 0.3530701\ttest: 0.3754878\tbest: 0.3749857 (155)\ttotal: 20.8s\tremaining: 8m 45s\n",
            "190:\tlearn: 0.3529891\ttest: 0.3755338\tbest: 0.3749857 (155)\ttotal: 20.9s\tremaining: 8m 47s\n",
            "191:\tlearn: 0.3529223\ttest: 0.3754847\tbest: 0.3749857 (155)\ttotal: 21.1s\tremaining: 8m 48s\n",
            "192:\tlearn: 0.3529129\ttest: 0.3754986\tbest: 0.3749857 (155)\ttotal: 21.3s\tremaining: 8m 50s\n",
            "193:\tlearn: 0.3529096\ttest: 0.3754973\tbest: 0.3749857 (155)\ttotal: 21.4s\tremaining: 8m 51s\n",
            "194:\tlearn: 0.3528787\ttest: 0.3755084\tbest: 0.3749857 (155)\ttotal: 21.6s\tremaining: 8m 52s\n",
            "195:\tlearn: 0.3528033\ttest: 0.3754914\tbest: 0.3749857 (155)\ttotal: 21.8s\tremaining: 8m 54s\n",
            "196:\tlearn: 0.3527783\ttest: 0.3754997\tbest: 0.3749857 (155)\ttotal: 22s\tremaining: 8m 56s\n",
            "197:\tlearn: 0.3527292\ttest: 0.3755061\tbest: 0.3749857 (155)\ttotal: 22.1s\tremaining: 8m 56s\n",
            "198:\tlearn: 0.3526650\ttest: 0.3754998\tbest: 0.3749857 (155)\ttotal: 22.3s\tremaining: 8m 57s\n",
            "199:\tlearn: 0.3526290\ttest: 0.3754632\tbest: 0.3749857 (155)\ttotal: 22.5s\tremaining: 8m 59s\n",
            "200:\tlearn: 0.3525860\ttest: 0.3754611\tbest: 0.3749857 (155)\ttotal: 22.7s\tremaining: 9m 1s\n",
            "201:\tlearn: 0.3525526\ttest: 0.3754248\tbest: 0.3749857 (155)\ttotal: 22.9s\tremaining: 9m 2s\n",
            "202:\tlearn: 0.3524555\ttest: 0.3753963\tbest: 0.3749857 (155)\ttotal: 23.1s\tremaining: 9m 4s\n",
            "203:\tlearn: 0.3523619\ttest: 0.3754541\tbest: 0.3749857 (155)\ttotal: 23.3s\tremaining: 9m 6s\n",
            "204:\tlearn: 0.3523295\ttest: 0.3754566\tbest: 0.3749857 (155)\ttotal: 23.4s\tremaining: 9m 8s\n",
            "205:\tlearn: 0.3522503\ttest: 0.3755401\tbest: 0.3749857 (155)\ttotal: 23.6s\tremaining: 9m 10s\n",
            "206:\tlearn: 0.3521805\ttest: 0.3755842\tbest: 0.3749857 (155)\ttotal: 23.8s\tremaining: 9m 11s\n",
            "207:\tlearn: 0.3521388\ttest: 0.3755917\tbest: 0.3749857 (155)\ttotal: 24s\tremaining: 9m 12s\n",
            "208:\tlearn: 0.3521078\ttest: 0.3755979\tbest: 0.3749857 (155)\ttotal: 24.2s\tremaining: 9m 13s\n",
            "209:\tlearn: 0.3520270\ttest: 0.3756051\tbest: 0.3749857 (155)\ttotal: 24.3s\tremaining: 9m 14s\n",
            "210:\tlearn: 0.3519790\ttest: 0.3756279\tbest: 0.3749857 (155)\ttotal: 24.4s\tremaining: 9m 13s\n",
            "211:\tlearn: 0.3519376\ttest: 0.3756191\tbest: 0.3749857 (155)\ttotal: 24.5s\tremaining: 9m 13s\n",
            "212:\tlearn: 0.3518466\ttest: 0.3756387\tbest: 0.3749857 (155)\ttotal: 24.6s\tremaining: 9m 13s\n",
            "213:\tlearn: 0.3517667\ttest: 0.3757149\tbest: 0.3749857 (155)\ttotal: 24.7s\tremaining: 9m 13s\n",
            "214:\tlearn: 0.3516899\ttest: 0.3757382\tbest: 0.3749857 (155)\ttotal: 24.8s\tremaining: 9m 12s\n",
            "215:\tlearn: 0.3516702\ttest: 0.3757492\tbest: 0.3749857 (155)\ttotal: 24.9s\tremaining: 9m 12s\n",
            "216:\tlearn: 0.3516007\ttest: 0.3757324\tbest: 0.3749857 (155)\ttotal: 25s\tremaining: 9m 11s\n",
            "217:\tlearn: 0.3515498\ttest: 0.3757423\tbest: 0.3749857 (155)\ttotal: 25.1s\tremaining: 9m 11s\n",
            "218:\tlearn: 0.3515268\ttest: 0.3757316\tbest: 0.3749857 (155)\ttotal: 25.2s\tremaining: 9m 10s\n",
            "219:\tlearn: 0.3515018\ttest: 0.3757237\tbest: 0.3749857 (155)\ttotal: 25.3s\tremaining: 9m 9s\n",
            "220:\tlearn: 0.3513826\ttest: 0.3756977\tbest: 0.3749857 (155)\ttotal: 25.4s\tremaining: 9m 9s\n",
            "221:\tlearn: 0.3512996\ttest: 0.3757519\tbest: 0.3749857 (155)\ttotal: 25.5s\tremaining: 9m 8s\n",
            "222:\tlearn: 0.3512271\ttest: 0.3757342\tbest: 0.3749857 (155)\ttotal: 25.6s\tremaining: 9m 8s\n",
            "223:\tlearn: 0.3512230\ttest: 0.3757356\tbest: 0.3749857 (155)\ttotal: 25.7s\tremaining: 9m 7s\n",
            "224:\tlearn: 0.3511294\ttest: 0.3756336\tbest: 0.3749857 (155)\ttotal: 25.8s\tremaining: 9m 7s\n",
            "225:\tlearn: 0.3510639\ttest: 0.3756722\tbest: 0.3749857 (155)\ttotal: 25.9s\tremaining: 9m 6s\n",
            "226:\tlearn: 0.3510175\ttest: 0.3756861\tbest: 0.3749857 (155)\ttotal: 26s\tremaining: 9m 6s\n",
            "227:\tlearn: 0.3509434\ttest: 0.3756723\tbest: 0.3749857 (155)\ttotal: 26.1s\tremaining: 9m 5s\n",
            "228:\tlearn: 0.3508701\ttest: 0.3756412\tbest: 0.3749857 (155)\ttotal: 26.2s\tremaining: 9m 5s\n",
            "229:\tlearn: 0.3508418\ttest: 0.3756486\tbest: 0.3749857 (155)\ttotal: 26.3s\tremaining: 9m 4s\n",
            "230:\tlearn: 0.3507759\ttest: 0.3756411\tbest: 0.3749857 (155)\ttotal: 26.4s\tremaining: 9m 4s\n",
            "231:\tlearn: 0.3506650\ttest: 0.3755814\tbest: 0.3749857 (155)\ttotal: 26.5s\tremaining: 9m 3s\n",
            "232:\tlearn: 0.3505987\ttest: 0.3756047\tbest: 0.3749857 (155)\ttotal: 26.6s\tremaining: 9m 3s\n",
            "233:\tlearn: 0.3505545\ttest: 0.3755832\tbest: 0.3749857 (155)\ttotal: 26.6s\tremaining: 9m 2s\n",
            "234:\tlearn: 0.3505152\ttest: 0.3756033\tbest: 0.3749857 (155)\ttotal: 26.7s\tremaining: 9m 1s\n",
            "235:\tlearn: 0.3504638\ttest: 0.3755994\tbest: 0.3749857 (155)\ttotal: 26.8s\tremaining: 9m 1s\n",
            "236:\tlearn: 0.3504047\ttest: 0.3756154\tbest: 0.3749857 (155)\ttotal: 26.9s\tremaining: 9m\n",
            "237:\tlearn: 0.3503428\ttest: 0.3756134\tbest: 0.3749857 (155)\ttotal: 27s\tremaining: 9m\n",
            "238:\tlearn: 0.3502885\ttest: 0.3756675\tbest: 0.3749857 (155)\ttotal: 27.1s\tremaining: 8m 59s\n",
            "239:\tlearn: 0.3502165\ttest: 0.3757052\tbest: 0.3749857 (155)\ttotal: 27.2s\tremaining: 8m 59s\n",
            "240:\tlearn: 0.3501487\ttest: 0.3757953\tbest: 0.3749857 (155)\ttotal: 27.3s\tremaining: 8m 59s\n",
            "241:\tlearn: 0.3501326\ttest: 0.3757982\tbest: 0.3749857 (155)\ttotal: 27.4s\tremaining: 8m 58s\n",
            "242:\tlearn: 0.3500936\ttest: 0.3758205\tbest: 0.3749857 (155)\ttotal: 27.5s\tremaining: 8m 57s\n",
            "243:\tlearn: 0.3500266\ttest: 0.3757273\tbest: 0.3749857 (155)\ttotal: 27.6s\tremaining: 8m 57s\n",
            "244:\tlearn: 0.3499909\ttest: 0.3757036\tbest: 0.3749857 (155)\ttotal: 27.7s\tremaining: 8m 56s\n",
            "245:\tlearn: 0.3499152\ttest: 0.3756996\tbest: 0.3749857 (155)\ttotal: 27.7s\tremaining: 8m 56s\n",
            "246:\tlearn: 0.3498900\ttest: 0.3756877\tbest: 0.3749857 (155)\ttotal: 27.8s\tremaining: 8m 55s\n",
            "247:\tlearn: 0.3498486\ttest: 0.3756702\tbest: 0.3749857 (155)\ttotal: 27.9s\tremaining: 8m 55s\n",
            "248:\tlearn: 0.3498251\ttest: 0.3756686\tbest: 0.3749857 (155)\ttotal: 28s\tremaining: 8m 55s\n",
            "249:\tlearn: 0.3497727\ttest: 0.3756805\tbest: 0.3749857 (155)\ttotal: 28.1s\tremaining: 8m 54s\n",
            "250:\tlearn: 0.3497336\ttest: 0.3756908\tbest: 0.3749857 (155)\ttotal: 28.2s\tremaining: 8m 53s\n",
            "251:\tlearn: 0.3497209\ttest: 0.3757040\tbest: 0.3749857 (155)\ttotal: 28.3s\tremaining: 8m 53s\n",
            "252:\tlearn: 0.3496846\ttest: 0.3757223\tbest: 0.3749857 (155)\ttotal: 28.4s\tremaining: 8m 52s\n",
            "253:\tlearn: 0.3496490\ttest: 0.3757013\tbest: 0.3749857 (155)\ttotal: 28.5s\tremaining: 8m 52s\n",
            "254:\tlearn: 0.3495802\ttest: 0.3756846\tbest: 0.3749857 (155)\ttotal: 28.6s\tremaining: 8m 52s\n",
            "255:\tlearn: 0.3495379\ttest: 0.3756957\tbest: 0.3749857 (155)\ttotal: 28.7s\tremaining: 8m 51s\n",
            "Stopped by overfitting detector  (100 iterations wait)\n",
            "\n",
            "bestTest = 0.374985707\n",
            "bestIteration = 155\n",
            "\n",
            "Shrink model to first 156 iterations.\n"
          ]
        },
        {
          "output_type": "execute_result",
          "data": {
            "text/plain": [
              "<catboost.core.CatBoostClassifier at 0x7fe91ff137c0>"
            ]
          },
          "metadata": {},
          "execution_count": 648
        }
      ],
      "source": [
        "cbm_classifier = CatBoostClassifier(\n",
        "    loss_function = 'CrossEntropy',\n",
        "    iterations = 5000,\n",
        "    learning_rate = .1,\n",
        "    depth = 6,\n",
        "    random_state = 1234,\n",
        "    verbose = True\n",
        ")\n",
        "\n",
        "cbm_classifier.fit(\n",
        "    X_train, y_train,\n",
        "    eval_set=(X_test, y_test),\n",
        "    early_stopping_rounds = 100, # to avoid overfitting,\n",
        "    cat_features = CATEGORICAL_COLS \n",
        ")"
      ]
    },
    {
      "cell_type": "code",
      "execution_count": 648,
      "metadata": {
        "id": "uYDNwPb7r6VM"
      },
      "outputs": [],
      "source": []
    },
    {
      "cell_type": "markdown",
      "metadata": {
        "id": "emnC5lcor9-o"
      },
      "source": [
        "### 4.2.2 Model Evaluation"
      ]
    },
    {
      "cell_type": "code",
      "execution_count": 649,
      "metadata": {
        "id": "r2CjvFWOcrlR"
      },
      "outputs": [],
      "source": [
        "explainer = shap.TreeExplainer(cbm_classifier)\n",
        "shap_values = explainer.shap_values(X_train)"
      ]
    },
    {
      "cell_type": "code",
      "execution_count": 650,
      "metadata": {
        "id": "F3Hqi5casBkc",
        "colab": {
          "base_uri": "https://localhost:8080/",
          "height": 917
        },
        "outputId": "78a8ee68-756d-4fad-ce93-8e986e438f03"
      },
      "outputs": [
        {
          "output_type": "display_data",
          "data": {
            "text/plain": [
              "<Figure size 800x910 with 1 Axes>"
            ],
            "image/png": "[encoded data removed]"
          },
          "metadata": {}
        }
      ],
      "source": [
        "shap.summary_plot(shap_values, X_train, show = False, color_bar = False)"
      ]
    },
    {
      "cell_type": "code",
      "execution_count": 651,
      "metadata": {
        "id": "Ln5wTY3psBpc",
        "colab": {
          "base_uri": "https://localhost:8080/"
        },
        "outputId": "f4c8fde6-6ca0-4bb4-c578-3659cfe99685"
      },
      "outputs": [
        {
          "output_type": "stream",
          "name": "stdout",
          "text": [
            "ROC AUC score = 0.82\n"
          ]
        }
      ],
      "source": [
        "y_test_pred = cbm_classifier.predict_proba(X_test)\n",
        "\n",
        "print(f\"ROC AUC score = {roc_auc_score(y_test, y_test_pred[:, 1]):.2f}\")"
      ]
    },
    {
      "cell_type": "code",
      "execution_count": 652,
      "metadata": {
        "id": "Q_eZ-Adx1qZZ",
        "colab": {
          "base_uri": "https://localhost:8080/",
          "height": 466
        },
        "outputId": "d7f54089-dc2b-43a2-89a0-55cc0969594f"
      },
      "outputs": [
        {
          "output_type": "execute_result",
          "data": {
            "text/plain": [
              "Text(0, 0.5, 'True Positive Rate')"
            ]
          },
          "metadata": {},
          "execution_count": 652
        },
        {
          "output_type": "display_data",
          "data": {
            "text/plain": [
              "<Figure size 640x480 with 1 Axes>"
            ],
            "image/png": "[encoded data removed]"
          },
          "metadata": {}
        }
      ],
      "source": [
        "fpr, tpr, thresholds = roc_curve(y_test, y_test_pred[:, 1])\n",
        "plt.plot(fpr, tpr);\n",
        "plt.xlabel('False Positive Rate')\n",
        "plt.ylabel('True Positive Rate')"
      ]
    },
    {
      "cell_type": "code",
      "execution_count": 653,
      "metadata": {
        "id": "aj7rMjlJA7mh",
        "colab": {
          "base_uri": "https://localhost:8080/"
        },
        "outputId": "21ad3e3a-1a9e-4f0e-9938-af62c1d9bc35"
      },
      "outputs": [
        {
          "output_type": "execute_result",
          "data": {
            "text/plain": [
              "0.15592282527750814"
            ]
          },
          "metadata": {},
          "execution_count": 653
        }
      ],
      "source": [
        "thresholds[np.where(tpr > 0.8)][0]"
      ]
    },
    {
      "cell_type": "code",
      "execution_count": 654,
      "metadata": {
        "id": "2D1JiMUrsTyC"
      },
      "outputs": [],
      "source": [
        "cbm_test_set['preds_prob'] = y_test_pred[:, 1]\n",
        "cbm_test_set['preds'] = cbm_test_set['preds_prob'].apply(lambda x: 1 if x >= 0.2 else 0)"
      ]
    },
    {
      "cell_type": "code",
      "execution_count": 655,
      "metadata": {
        "id": "XAPlQcWpzAXh",
        "colab": {
          "base_uri": "https://localhost:8080/"
        },
        "outputId": "f670983e-c320-4790-a294-57fb968f0265"
      },
      "outputs": [
        {
          "output_type": "execute_result",
          "data": {
            "text/plain": [
              "0    7385\n",
              "1    3557\n",
              "Name: preds, dtype: int64"
            ]
          },
          "metadata": {},
          "execution_count": 655
        }
      ],
      "source": [
        "cbm_test_set['preds'].value_counts()"
      ]
    },
    {
      "cell_type": "code",
      "execution_count": 656,
      "metadata": {
        "id": "yP7GsEVOyF8j"
      },
      "outputs": [],
      "source": [
        "rank = cbm_test_set.groupby('user_id')['preds_prob'].apply(lambda x: np.array(x, dtype=float)).values\n",
        "rank_true = cbm_test_set.groupby('user_id')['target'].apply(lambda x: np.array(x, dtype=int)).values"
      ]
    },
    {
      "cell_type": "code",
      "execution_count": 657,
      "metadata": {
        "id": "DSn23BGuyF8k"
      },
      "outputs": [],
      "source": [
        "y_pred = cbm_test_set[cbm_test_set['preds'] == 1].groupby('user_id')['movie_id'].apply(lambda x: np.array(x)).values\n",
        "y_true = cbm_test_set[cbm_test_set['target'] == 1].groupby('user_id')['movie_id'].apply(lambda x: np.array(x)).values"
      ]
    },
    {
      "cell_type": "code",
      "execution_count": 658,
      "metadata": {
        "id": "oIOdlfDexiQL",
        "colab": {
          "base_uri": "https://localhost:8080/"
        },
        "outputId": "1437538a-9345-4757-9f20-3e43009b2ef8"
      },
      "outputs": [
        {
          "output_type": "stream",
          "name": "stdout",
          "text": [
            "MAP@10 - 0.2426043131739334\n",
            "NGCD@10 - 0.9263205894575226\n"
          ]
        }
      ],
      "source": [
        "ap, ndcg = [], []\n",
        "\n",
        "for i, a in zip(y_true, y_pred):\n",
        "    ap.append(average_prec_k(i, a))\n",
        "\n",
        "ndcg = ndcg_score([np.concatenate(rank_true)], [np.concatenate(rank)])\n",
        "\n",
        "print(f'MAP@10 - {np.mean(ap)}\\nNGCD@10 - {ndcg}')"
      ]
    },
    {
      "cell_type": "markdown",
      "metadata": {
        "id": "f61QYTJCRBiH"
      },
      "source": [
        "#Results\n",
        "Baseline full data\n",
        "\n",
        ">MAP@10 - 0.020821731460722744\n",
        ">\n",
        ">NGCD@10 - 0.06442144298447545\n",
        "\n",
        "\n",
        "**LightFM + Ranker on full data**\n",
        "\n",
        ">MAP@10 - 0.2426043131739334\n",
        ">\n",
        ">NGCD@10 - 0.9263205894575226\n",
        "\n",
        "Baseline good only data\n",
        "\n",
        ">MAP@10 - 0.07074638571784607\n",
        ">\n",
        ">NGCD@10 - 0.05516022242001323\n",
        "\n",
        "\n",
        "**LightFM + Ranker on good only data**\n",
        "- LightFM is almost useless in this case\n",
        "\n",
        ">MAP@10 - 0.25146198830409355\n",
        ">\n",
        ">NGCD@10 - 0.8733328092100275"
      ]
    },
    {
      "cell_type": "code",
      "execution_count": 658,
      "metadata": {
        "id": "3ibqfcACsT6S"
      },
      "outputs": [],
      "source": []
    }
  ],
  "metadata": {
    "colab": {
      "toc_visible": true,
      "provenance": []
    },
    "kernelspec": {
      "display_name": "Python 3",
      "name": "python3"
    },
    "language_info": {
      "name": "python"
    },
    "widgets": {
      "application/vnd.jupyter.widget-state+json": {
        "90bb9dc1c7504e3fb7eed18a6d22f2f0": {
          "model_module": "@jupyter-widgets/controls",
          "model_name": "HBoxModel",
          "model_module_version": "1.5.0",
          "state": {
            "_dom_classes": [],
            "_model_module": "@jupyter-widgets/controls",
            "_model_module_version": "1.5.0",
            "_model_name": "HBoxModel",
            "_view_count": null,
            "_view_module": "@jupyter-widgets/controls",
            "_view_module_version": "1.5.0",
            "_view_name": "HBoxView",
            "box_style": "",
            "children": [
              "IPY_MODEL_48e76c47ba08412ea4b7bd2e16d57a0f",
              "IPY_MODEL_a406a3b8254c4f6d90f8a1d14e15cff4",
              "IPY_MODEL_f03014ef63be42ffa1d26bdbd2f18c76"
            ],
            "layout": "IPY_MODEL_9e5617f323894e71a28a8fcbe7a7a181"
          }
        },
        "48e76c47ba08412ea4b7bd2e16d57a0f": {
          "model_module": "@jupyter-widgets/controls",
          "model_name": "HTMLModel",
          "model_module_version": "1.5.0",
          "state": {
            "_dom_classes": [],
            "_model_module": "@jupyter-widgets/controls",
            "_model_module_version": "1.5.0",
            "_model_name": "HTMLModel",
            "_view_count": null,
            "_view_module": "@jupyter-widgets/controls",
            "_view_module_version": "1.5.0",
            "_view_name": "HTMLView",
            "description": "",
            "description_tooltip": null,
            "layout": "IPY_MODEL_dd4be65ac09d4067a50a54d254456556",
            "placeholder": "​",
            "style": "IPY_MODEL_8cf1daaf1b56413ba77b467f9d9c6d59",
            "value": "100%"
          }
        },
        "a406a3b8254c4f6d90f8a1d14e15cff4": {
          "model_module": "@jupyter-widgets/controls",
          "model_name": "FloatProgressModel",
          "model_module_version": "1.5.0",
          "state": {
            "_dom_classes": [],
            "_model_module": "@jupyter-widgets/controls",
            "_model_module_version": "1.5.0",
            "_model_name": "FloatProgressModel",
            "_view_count": null,
            "_view_module": "@jupyter-widgets/controls",
            "_view_module_version": "1.5.0",
            "_view_name": "ProgressView",
            "bar_style": "success",
            "description": "",
            "description_tooltip": null,
            "layout": "IPY_MODEL_6e01705cd4a946d08ddaf63d2e36321f",
            "max": 20,
            "min": 0,
            "orientation": "horizontal",
            "style": "IPY_MODEL_8ea22c913aa447a8a1b7cbf36d09a6cb",
            "value": 20
          }
        },
        "f03014ef63be42ffa1d26bdbd2f18c76": {
          "model_module": "@jupyter-widgets/controls",
          "model_name": "HTMLModel",
          "model_module_version": "1.5.0",
          "state": {
            "_dom_classes": [],
            "_model_module": "@jupyter-widgets/controls",
            "_model_module_version": "1.5.0",
            "_model_name": "HTMLModel",
            "_view_count": null,
            "_view_module": "@jupyter-widgets/controls",
            "_view_module_version": "1.5.0",
            "_view_name": "HTMLView",
            "description": "",
            "description_tooltip": null,
            "layout": "IPY_MODEL_1d2ba4478b66475c8b15ce9c72ea67b8",
            "placeholder": "​",
            "style": "IPY_MODEL_3f28e2646b404a14b3acccdf63801ea0",
            "value": " 20/20 [00:16&lt;00:00,  1.20it/s]"
          }
        },
        "9e5617f323894e71a28a8fcbe7a7a181": {
          "model_module": "@jupyter-widgets/base",
          "model_name": "LayoutModel",
          "model_module_version": "1.2.0",
          "state": {
            "_model_module": "@jupyter-widgets/base",
            "_model_module_version": "1.2.0",
            "_model_name": "LayoutModel",
            "_view_count": null,
            "_view_module": "@jupyter-widgets/base",
            "_view_module_version": "1.2.0",
            "_view_name": "LayoutView",
            "align_content": null,
            "align_items": null,
            "align_self": null,
            "border": null,
            "bottom": null,
            "display": null,
            "flex": null,
            "flex_flow": null,
            "grid_area": null,
            "grid_auto_columns": null,
            "grid_auto_flow": null,
            "grid_auto_rows": null,
            "grid_column": null,
            "grid_gap": null,
            "grid_row": null,
            "grid_template_areas": null,
            "grid_template_columns": null,
            "grid_template_rows": null,
            "height": null,
            "justify_content": null,
            "justify_items": null,
            "left": null,
            "margin": null,
            "max_height": null,
            "max_width": null,
            "min_height": null,
            "min_width": null,
            "object_fit": null,
            "object_position": null,
            "order": null,
            "overflow": null,
            "overflow_x": null,
            "overflow_y": null,
            "padding": null,
            "right": null,
            "top": null,
            "visibility": null,
            "width": null
          }
        },
        "dd4be65ac09d4067a50a54d254456556": {
          "model_module": "@jupyter-widgets/base",
          "model_name": "LayoutModel",
          "model_module_version": "1.2.0",
          "state": {
            "_model_module": "@jupyter-widgets/base",
            "_model_module_version": "1.2.0",
            "_model_name": "LayoutModel",
            "_view_count": null,
            "_view_module": "@jupyter-widgets/base",
            "_view_module_version": "1.2.0",
            "_view_name": "LayoutView",
            "align_content": null,
            "align_items": null,
            "align_self": null,
            "border": null,
            "bottom": null,
            "display": null,
            "flex": null,
            "flex_flow": null,
            "grid_area": null,
            "grid_auto_columns": null,
            "grid_auto_flow": null,
            "grid_auto_rows": null,
            "grid_column": null,
            "grid_gap": null,
            "grid_row": null,
            "grid_template_areas": null,
            "grid_template_columns": null,
            "grid_template_rows": null,
            "height": null,
            "justify_content": null,
            "justify_items": null,
            "left": null,
            "margin": null,
            "max_height": null,
            "max_width": null,
            "min_height": null,
            "min_width": null,
            "object_fit": null,
            "object_position": null,
            "order": null,
            "overflow": null,
            "overflow_x": null,
            "overflow_y": null,
            "padding": null,
            "right": null,
            "top": null,
            "visibility": null,
            "width": null
          }
        },
        "8cf1daaf1b56413ba77b467f9d9c6d59": {
          "model_module": "@jupyter-widgets/controls",
          "model_name": "DescriptionStyleModel",
          "model_module_version": "1.5.0",
          "state": {
            "_model_module": "@jupyter-widgets/controls",
            "_model_module_version": "1.5.0",
            "_model_name": "DescriptionStyleModel",
            "_view_count": null,
            "_view_module": "@jupyter-widgets/base",
            "_view_module_version": "1.2.0",
            "_view_name": "StyleView",
            "description_width": ""
          }
        },
        "6e01705cd4a946d08ddaf63d2e36321f": {
          "model_module": "@jupyter-widgets/base",
          "model_name": "LayoutModel",
          "model_module_version": "1.2.0",
          "state": {
            "_model_module": "@jupyter-widgets/base",
            "_model_module_version": "1.2.0",
            "_model_name": "LayoutModel",
            "_view_count": null,
            "_view_module": "@jupyter-widgets/base",
            "_view_module_version": "1.2.0",
            "_view_name": "LayoutView",
            "align_content": null,
            "align_items": null,
            "align_self": null,
            "border": null,
            "bottom": null,
            "display": null,
            "flex": null,
            "flex_flow": null,
            "grid_area": null,
            "grid_auto_columns": null,
            "grid_auto_flow": null,
            "grid_auto_rows": null,
            "grid_column": null,
            "grid_gap": null,
            "grid_row": null,
            "grid_template_areas": null,
            "grid_template_columns": null,
            "grid_template_rows": null,
            "height": null,
            "justify_content": null,
            "justify_items": null,
            "left": null,
            "margin": null,
            "max_height": null,
            "max_width": null,
            "min_height": null,
            "min_width": null,
            "object_fit": null,
            "object_position": null,
            "order": null,
            "overflow": null,
            "overflow_x": null,
            "overflow_y": null,
            "padding": null,
            "right": null,
            "top": null,
            "visibility": null,
            "width": null
          }
        },
        "8ea22c913aa447a8a1b7cbf36d09a6cb": {
          "model_module": "@jupyter-widgets/controls",
          "model_name": "ProgressStyleModel",
          "model_module_version": "1.5.0",
          "state": {
            "_model_module": "@jupyter-widgets/controls",
            "_model_module_version": "1.5.0",
            "_model_name": "ProgressStyleModel",
            "_view_count": null,
            "_view_module": "@jupyter-widgets/base",
            "_view_module_version": "1.2.0",
            "_view_name": "StyleView",
            "bar_color": null,
            "description_width": ""
          }
        },
        "1d2ba4478b66475c8b15ce9c72ea67b8": {
          "model_module": "@jupyter-widgets/base",
          "model_name": "LayoutModel",
          "model_module_version": "1.2.0",
          "state": {
            "_model_module": "@jupyter-widgets/base",
            "_model_module_version": "1.2.0",
            "_model_name": "LayoutModel",
            "_view_count": null,
            "_view_module": "@jupyter-widgets/base",
            "_view_module_version": "1.2.0",
            "_view_name": "LayoutView",
            "align_content": null,
            "align_items": null,
            "align_self": null,
            "border": null,
            "bottom": null,
            "display": null,
            "flex": null,
            "flex_flow": null,
            "grid_area": null,
            "grid_auto_columns": null,
            "grid_auto_flow": null,
            "grid_auto_rows": null,
            "grid_column": null,
            "grid_gap": null,
            "grid_row": null,
            "grid_template_areas": null,
            "grid_template_columns": null,
            "grid_template_rows": null,
            "height": null,
            "justify_content": null,
            "justify_items": null,
            "left": null,
            "margin": null,
            "max_height": null,
            "max_width": null,
            "min_height": null,
            "min_width": null,
            "object_fit": null,
            "object_position": null,
            "order": null,
            "overflow": null,
            "overflow_x": null,
            "overflow_y": null,
            "padding": null,
            "right": null,
            "top": null,
            "visibility": null,
            "width": null
          }
        },
        "3f28e2646b404a14b3acccdf63801ea0": {
          "model_module": "@jupyter-widgets/controls",
          "model_name": "DescriptionStyleModel",
          "model_module_version": "1.5.0",
          "state": {
            "_model_module": "@jupyter-widgets/controls",
            "_model_module_version": "1.5.0",
            "_model_name": "DescriptionStyleModel",
            "_view_count": null,
            "_view_module": "@jupyter-widgets/base",
            "_view_module_version": "1.2.0",
            "_view_name": "StyleView",
            "description_width": ""
          }
        }
      }
    }
  },
  "nbformat": 4,
  "nbformat_minor": 0
}